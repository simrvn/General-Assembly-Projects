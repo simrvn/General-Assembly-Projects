{
 "cells": [
  {
   "cell_type": "markdown",
   "metadata": {},
   "source": [
    "# Project 2: Ames Housing"
   ]
  },
  {
   "cell_type": "markdown",
   "metadata": {},
   "source": [
    "We have completed the data cleaning and eda processes. Now we will create linear regression models and understand which models are best at predicting prices. After identifying the best model, we will implement the model using the test dataset and submit our predictions to kaggle."
   ]
  },
  {
   "cell_type": "markdown",
   "metadata": {},
   "source": [
    "## Data Preprocessing"
   ]
  },
  {
   "cell_type": "markdown",
   "metadata": {},
   "source": [
    "In order to build the best models to predict our dependent variable, which is sale prices of properties, we have to ensure that all of our features can be processed by our regression models. Hence we will use one-hot encoding to handle the nominal data. "
   ]
  },
  {
   "cell_type": "markdown",
   "metadata": {},
   "source": [
    "Let us import all necessary libraries first, followed by our data."
   ]
  },
  {
   "cell_type": "code",
   "execution_count": 1,
   "metadata": {},
   "outputs": [],
   "source": [
    "import pandas as pd\n",
    "import numpy as np\n",
    "import matplotlib.pyplot as plt\n",
    "import seaborn as sns\n",
    "\n",
    "from sklearn.linear_model import LinearRegression, Lasso, LassoCV, Ridge, RidgeCV, ElasticNet, ElasticNetCV\n",
    "from sklearn.model_selection import train_test_split, cross_val_score\n",
    "from sklearn.preprocessing import OneHotEncoder, StandardScaler\n",
    "from sklearn.metrics import mean_squared_error\n",
    "from sklearn.dummy import DummyRegressor\n",
    "\n",
    "%matplotlib inline"
   ]
  },
  {
   "cell_type": "code",
   "execution_count": 2,
   "metadata": {},
   "outputs": [],
   "source": [
    "train_cleaned = pd.read_csv('./data/train_cleaned.csv')\n",
    "test_cleaned = pd.read_csv('./data/test_cleaned.csv')"
   ]
  },
  {
   "cell_type": "code",
   "execution_count": 3,
   "metadata": {},
   "outputs": [],
   "source": [
    "#for kaggle submission purposes\n",
    "test = pd.read_csv('./data/test.csv')"
   ]
  },
  {
   "cell_type": "code",
   "execution_count": 4,
   "metadata": {},
   "outputs": [
    {
     "data": {
      "text/plain": [
       "(2048, 49)"
      ]
     },
     "execution_count": 4,
     "metadata": {},
     "output_type": "execute_result"
    }
   ],
   "source": [
    "train_cleaned.shape"
   ]
  },
  {
   "cell_type": "code",
   "execution_count": 5,
   "metadata": {},
   "outputs": [
    {
     "data": {
      "text/plain": [
       "(879, 48)"
      ]
     },
     "execution_count": 5,
     "metadata": {},
     "output_type": "execute_result"
    }
   ],
   "source": [
    "test_cleaned.shape"
   ]
  },
  {
   "cell_type": "markdown",
   "metadata": {},
   "source": [
    "Fix errors that occurred during conversion."
   ]
  },
  {
   "cell_type": "code",
   "execution_count": 6,
   "metadata": {},
   "outputs": [
    {
     "data": {
      "text/plain": [
       "garage_type    114\n",
       "dtype: int64"
      ]
     },
     "execution_count": 6,
     "metadata": {},
     "output_type": "execute_result"
    }
   ],
   "source": [
    "train_cleaned[train_cleaned.columns[train_cleaned.isnull().any()]].isnull().sum().sort_values(ascending = False)"
   ]
  },
  {
   "cell_type": "code",
   "execution_count": 7,
   "metadata": {},
   "outputs": [],
   "source": [
    "train_cleaned['garage_type'] = train_cleaned['garage_type'].astype(str)\n",
    "train_cleaned['garage_type'].fillna(value = 'NA', inplace = True)"
   ]
  },
  {
   "cell_type": "code",
   "execution_count": 8,
   "metadata": {},
   "outputs": [
    {
     "data": {
      "text/plain": [
       "garage_type    44\n",
       "dtype: int64"
      ]
     },
     "execution_count": 8,
     "metadata": {},
     "output_type": "execute_result"
    }
   ],
   "source": [
    "test_cleaned[test_cleaned.columns[test_cleaned.isnull().any()]].isnull().sum().sort_values(ascending = False)"
   ]
  },
  {
   "cell_type": "code",
   "execution_count": 9,
   "metadata": {},
   "outputs": [],
   "source": [
    "test_cleaned['garage_type'].fillna(value = 'NA', inplace = True)"
   ]
  },
  {
   "cell_type": "markdown",
   "metadata": {},
   "source": [
    "From Part 1, we have narrowed down our nominal, categorical and ordinal features as the following:"
   ]
  },
  {
   "cell_type": "code",
   "execution_count": 10,
   "metadata": {},
   "outputs": [],
   "source": [
    "continuous_feat = ['lot_area', 'mas_vnr_area', 'bsmtfin_sf_1', 'bsmt_unf_sf', '1st_flr_sf', '2nd_flr_sf', 'gr_liv_area',\n",
    "                   'garage_area', 'wood_deck_sf','year_remod_add','age']"
   ]
  },
  {
   "cell_type": "code",
   "execution_count": 11,
   "metadata": {},
   "outputs": [],
   "source": [
    "ordinal_feat = ['lot_shape', 'overall_qual', 'overall_cond', 'exter_qual', 'exter_cond', 'bsmt_qual', 'bsmt_cond',\n",
    "                'bsmt_exposure', 'bsmtfin_type_1', 'heating_qc', 'electrical', 'kitchen_qual', 'garage_finish', 'paved_drive',\n",
    "                'bsmt_full_bath', 'bsmt_half_bath', 'full_bath', 'half_bath', 'bedroom_abvgr', 'fireplaces']"
   ]
  },
  {
   "cell_type": "code",
   "execution_count": 12,
   "metadata": {},
   "outputs": [],
   "source": [
    "nominal_feat = ['ms_subclass', 'ms_zoning', 'land_contour', 'lot_config', 'neighborhood', 'bldg_type', 'house_style',\n",
    "                'roof_style', 'exterior_1st', 'exterior_2nd', 'mas_vnr_type', 'foundation', 'sale_type', 'garage_type',\n",
    "                'pool', 'mo_sold', 'porch']"
   ]
  },
  {
   "cell_type": "markdown",
   "metadata": {},
   "source": [
    "### One Hot Encoding"
   ]
  },
  {
   "cell_type": "markdown",
   "metadata": {},
   "source": [
    "#### Train Dataset"
   ]
  },
  {
   "cell_type": "code",
   "execution_count": 13,
   "metadata": {},
   "outputs": [],
   "source": [
    "#create ohe object \n",
    "ohe = OneHotEncoder(handle_unknown='ignore') "
   ]
  },
  {
   "cell_type": "code",
   "execution_count": 14,
   "metadata": {},
   "outputs": [],
   "source": [
    "#we will perform one hot encoding on the nominal features for the train set first\n",
    "train_nom = train_cleaned[nominal_feat]\n",
    "train_nom_ohe = ohe.fit_transform(train_nom).toarray()\n",
    "\n",
    "#convert to dataframe to join back to train_cleaned dataset\n",
    "ohe_df = pd.DataFrame(train_nom_ohe, columns = ohe.get_feature_names())\n",
    "\n",
    "#merge to train_cleansed\n",
    "train_cleaned = train_cleaned.join(ohe_df).drop(columns = nominal_feat)"
   ]
  },
  {
   "cell_type": "markdown",
   "metadata": {},
   "source": [
    "Then, we need to scale our dataset to avoid experiencing any problems during modelling. Scaling will be applied to our continuous and ordinal features."
   ]
  },
  {
   "cell_type": "code",
   "execution_count": 15,
   "metadata": {},
   "outputs": [],
   "source": [
    "#create standard scaler object\n",
    "ss = StandardScaler()"
   ]
  },
  {
   "cell_type": "code",
   "execution_count": 16,
   "metadata": {},
   "outputs": [],
   "source": [
    "#concat both continuous and nominal features\n",
    "cols = continuous_feat + ordinal_feat\n",
    "\n",
    "#transform data\n",
    "train_scaled = train_cleaned[cols]\n",
    "train_sc = ss.fit_transform(train_scaled)\n",
    "\n",
    "#convert to dataframe to join back to train_cleaned dataset\n",
    "sc_df = pd.DataFrame(train_sc, columns = cols)\n",
    "\n",
    "#merge to train_cleaned\n",
    "train_cleaned = train_cleaned.drop(columns = cols).join(sc_df)"
   ]
  },
  {
   "cell_type": "markdown",
   "metadata": {},
   "source": [
    "#### Test Dataset"
   ]
  },
  {
   "cell_type": "code",
   "execution_count": 17,
   "metadata": {},
   "outputs": [],
   "source": [
    "#we will perform one hot encoding on the nominal features for the train set first\n",
    "test_nom = test_cleaned[nominal_feat]\n",
    "test_nom_ohe = ohe.fit_transform(test_nom).toarray()\n",
    "\n",
    "#convert to dataframe to join back to train_cleaned dataset\n",
    "ohe_df = pd.DataFrame(test_nom_ohe, columns = ohe.get_feature_names())\n",
    "\n",
    "#merge to train_cleansed\n",
    "test_cleaned = test_cleaned.join(ohe_df).drop(columns = nominal_feat)"
   ]
  },
  {
   "cell_type": "code",
   "execution_count": 18,
   "metadata": {},
   "outputs": [],
   "source": [
    "#transform data\n",
    "test_scaled = test_cleaned[cols]\n",
    "test_sc = ss.fit_transform(test_scaled)\n",
    "\n",
    "#convert to dataframe to join back to train_cleaned dataset\n",
    "sc_df = pd.DataFrame(test_sc, columns = cols)\n",
    "\n",
    "#merge to train_cleaned\n",
    "test_cleaned = test_cleaned.drop(columns = cols).join(sc_df)"
   ]
  },
  {
   "cell_type": "markdown",
   "metadata": {},
   "source": [
    "### Train Test Split"
   ]
  },
  {
   "cell_type": "markdown",
   "metadata": {},
   "source": [
    "The train_cleaned dataset is a hold-out dataset. Hence we will split this into training and testing before using our models on the test_cleaned dataset."
   ]
  },
  {
   "cell_type": "code",
   "execution_count": 19,
   "metadata": {},
   "outputs": [],
   "source": [
    "X = train_cleaned.drop(columns = 'saleprice')\n",
    "y = train_cleaned['saleprice']\n",
    "\n",
    "X_train, X_test, y_train, y_test = train_test_split(X, y, test_size=0.25, random_state=18)"
   ]
  },
  {
   "cell_type": "markdown",
   "metadata": {},
   "source": [
    "### Modelling"
   ]
  },
  {
   "cell_type": "markdown",
   "metadata": {},
   "source": [
    "#### All Features"
   ]
  },
  {
   "cell_type": "markdown",
   "metadata": {},
   "source": [
    "##### Model 1 - Baseline Model"
   ]
  },
  {
   "cell_type": "code",
   "execution_count": 20,
   "metadata": {},
   "outputs": [
    {
     "data": {
      "text/plain": [
       "79532.4756638837"
      ]
     },
     "execution_count": 20,
     "metadata": {},
     "output_type": "execute_result"
    }
   ],
   "source": [
    "# Create a dummy regressor\n",
    "dummy_mean = DummyRegressor(strategy='mean')\n",
    "\n",
    "#cross validation\n",
    "-(cross_val_score(dummy_mean, X_train, y_train, scoring='neg_root_mean_squared_error').mean())"
   ]
  },
  {
   "cell_type": "code",
   "execution_count": 21,
   "metadata": {},
   "outputs": [
    {
     "data": {
      "text/plain": [
       "78360.54346090519"
      ]
     },
     "execution_count": 21,
     "metadata": {},
     "output_type": "execute_result"
    }
   ],
   "source": [
    "# \"Train\" dummy regressor\n",
    "dummy_mean.fit(X_train, y_train)\n",
    "\n",
    "#conduct prediction using holdout test set\n",
    "y_predict = dummy_mean.predict(X_test)\n",
    "np.sqrt(mean_squared_error(y_predict, y_test))"
   ]
  },
  {
   "cell_type": "markdown",
   "metadata": {},
   "source": [
    "##### Model 2 - Linear Regression"
   ]
  },
  {
   "cell_type": "code",
   "execution_count": 22,
   "metadata": {},
   "outputs": [],
   "source": [
    "#create linear regression object\n",
    "lr = LinearRegression()"
   ]
  },
  {
   "cell_type": "code",
   "execution_count": 23,
   "metadata": {},
   "outputs": [
    {
     "data": {
      "text/plain": [
       "5226442899872870.0"
      ]
     },
     "execution_count": 23,
     "metadata": {},
     "output_type": "execute_result"
    }
   ],
   "source": [
    "#cross validation\n",
    "-(cross_val_score(lr, X_train, y_train, scoring='neg_root_mean_squared_error').mean())"
   ]
  },
  {
   "cell_type": "code",
   "execution_count": 24,
   "metadata": {},
   "outputs": [
    {
     "data": {
      "text/plain": [
       "LinearRegression()"
      ]
     },
     "execution_count": 24,
     "metadata": {},
     "output_type": "execute_result"
    }
   ],
   "source": [
    "#fit model\n",
    "lr.fit(X_train, y_train)"
   ]
  },
  {
   "cell_type": "code",
   "execution_count": 25,
   "metadata": {},
   "outputs": [
    {
     "data": {
      "text/plain": [
       "24896.490981654697"
      ]
     },
     "execution_count": 25,
     "metadata": {},
     "output_type": "execute_result"
    }
   ],
   "source": [
    "#conduct prediction using holdout test set\n",
    "y_predict = lr.predict(X_test)\n",
    "np.sqrt(mean_squared_error(y_predict, y_test))"
   ]
  },
  {
   "cell_type": "markdown",
   "metadata": {},
   "source": [
    "##### Model 3 - Ridge Regression"
   ]
  },
  {
   "cell_type": "code",
   "execution_count": 26,
   "metadata": {
    "code_folding": []
   },
   "outputs": [
    {
     "data": {
      "text/plain": [
       "RidgeCV(alphas=array([1.00000000e+00, 1.05956018e+00, 1.12266777e+00, 1.18953407e+00,\n",
       "       1.26038293e+00, 1.33545156e+00, 1.41499130e+00, 1.49926843e+00,\n",
       "       1.58856513e+00, 1.68318035e+00, 1.78343088e+00, 1.88965234e+00,\n",
       "       2.00220037e+00, 2.12145178e+00, 2.24780583e+00, 2.38168555e+00,\n",
       "       2.52353917e+00, 2.67384162e+00, 2.83309610e+00, 3.00183581e+00,\n",
       "       3.18062569e+00, 3.37006433e+0...\n",
       "       2.64308149e+04, 2.80050389e+04, 2.96730241e+04, 3.14403547e+04,\n",
       "       3.33129479e+04, 3.52970730e+04, 3.73993730e+04, 3.96268864e+04,\n",
       "       4.19870708e+04, 4.44878283e+04, 4.71375313e+04, 4.99450512e+04,\n",
       "       5.29197874e+04, 5.60716994e+04, 5.94113398e+04, 6.29498899e+04,\n",
       "       6.66991966e+04, 7.06718127e+04, 7.48810386e+04, 7.93409667e+04,\n",
       "       8.40665289e+04, 8.90735464e+04, 9.43787828e+04, 1.00000000e+05]),\n",
       "        store_cv_values=True)"
      ]
     },
     "execution_count": 26,
     "metadata": {},
     "output_type": "execute_result"
    }
   ],
   "source": [
    "#find best alpha\n",
    "#visualise alpha values on log scale\n",
    "r_alphas = np.logspace(0, 5, 200)\n",
    "ridge_model = RidgeCV(alphas = r_alphas, store_cv_values = True)\n",
    "ridge_model.fit(X_train, y_train)"
   ]
  },
  {
   "cell_type": "code",
   "execution_count": 27,
   "metadata": {},
   "outputs": [
    {
     "data": {
      "text/plain": [
       "6.010276782070384"
      ]
     },
     "execution_count": 27,
     "metadata": {},
     "output_type": "execute_result"
    }
   ],
   "source": [
    "#optimal alpha\n",
    "ridge_model.alpha_"
   ]
  },
  {
   "cell_type": "code",
   "execution_count": 28,
   "metadata": {},
   "outputs": [],
   "source": [
    "best_ridge_model = Ridge(ridge_model.alpha_)"
   ]
  },
  {
   "cell_type": "code",
   "execution_count": 29,
   "metadata": {},
   "outputs": [
    {
     "data": {
      "text/plain": [
       "25109.908404416165"
      ]
     },
     "execution_count": 29,
     "metadata": {},
     "output_type": "execute_result"
    }
   ],
   "source": [
    "#cross validation\n",
    "-(cross_val_score(best_ridge_model, X_train, y_train, scoring='neg_root_mean_squared_error').mean())"
   ]
  },
  {
   "cell_type": "code",
   "execution_count": 30,
   "metadata": {},
   "outputs": [
    {
     "data": {
      "text/plain": [
       "24075.881059834144"
      ]
     },
     "execution_count": 30,
     "metadata": {},
     "output_type": "execute_result"
    }
   ],
   "source": [
    "#conduct prediction using holdout test set\n",
    "\n",
    "#fit model\n",
    "best_ridge_model.fit(X_train, y_train)\n",
    "\n",
    "y_predict = best_ridge_model.predict(X_test)\n",
    "np.sqrt(mean_squared_error(y_predict, y_test))"
   ]
  },
  {
   "cell_type": "markdown",
   "metadata": {},
   "source": [
    "##### Model 4 - Lasso Regression"
   ]
  },
  {
   "cell_type": "code",
   "execution_count": 31,
   "metadata": {},
   "outputs": [
    {
     "data": {
      "text/plain": [
       "LassoCV()"
      ]
     },
     "execution_count": 31,
     "metadata": {},
     "output_type": "execute_result"
    }
   ],
   "source": [
    "#find best alpha\n",
    "\n",
    "lasso_model = LassoCV(n_alphas = 100)\n",
    "lasso_model.fit(X_train, y_train)"
   ]
  },
  {
   "cell_type": "code",
   "execution_count": 32,
   "metadata": {},
   "outputs": [
    {
     "data": {
      "text/plain": [
       "64.7064320342182"
      ]
     },
     "execution_count": 32,
     "metadata": {},
     "output_type": "execute_result"
    }
   ],
   "source": [
    "#optimal alpha\n",
    "lasso_model.alpha_"
   ]
  },
  {
   "cell_type": "code",
   "execution_count": 33,
   "metadata": {},
   "outputs": [],
   "source": [
    "best_lasso_model = Lasso(lasso_model.alpha_)"
   ]
  },
  {
   "cell_type": "code",
   "execution_count": 34,
   "metadata": {},
   "outputs": [
    {
     "data": {
      "text/plain": [
       "25116.738241318213"
      ]
     },
     "execution_count": 34,
     "metadata": {},
     "output_type": "execute_result"
    }
   ],
   "source": [
    "#cross validation\n",
    "-(cross_val_score(best_lasso_model, X_train, y_train, scoring='neg_root_mean_squared_error').mean())"
   ]
  },
  {
   "cell_type": "code",
   "execution_count": 35,
   "metadata": {},
   "outputs": [
    {
     "data": {
      "text/plain": [
       "23690.023423514715"
      ]
     },
     "execution_count": 35,
     "metadata": {},
     "output_type": "execute_result"
    }
   ],
   "source": [
    "#conduct prediction using holdout test set\n",
    "\n",
    "#fit model\n",
    "best_lasso_model.fit(X_train, y_train)\n",
    "\n",
    "y_predict_lasso = best_lasso_model.predict(X_test)\n",
    "np.sqrt(mean_squared_error(y_predict_lasso, y_test))"
   ]
  },
  {
   "cell_type": "markdown",
   "metadata": {},
   "source": [
    "##### Model 5 -Elastic Net Regression"
   ]
  },
  {
   "cell_type": "code",
   "execution_count": 36,
   "metadata": {},
   "outputs": [
    {
     "data": {
      "text/plain": [
       "ElasticNetCV(cv=5)"
      ]
     },
     "execution_count": 36,
     "metadata": {},
     "output_type": "execute_result"
    }
   ],
   "source": [
    "enet_alphas = np.arange(0.01, 1.0, 0.005)\n",
    "enet_model = ElasticNetCV(n_alphas = 100, cv=5)\n",
    "enet_model.fit(X_train, y_train)"
   ]
  },
  {
   "cell_type": "code",
   "execution_count": 37,
   "metadata": {
    "scrolled": true
   },
   "outputs": [
    {
     "data": {
      "text/plain": [
       "129.41286406843648"
      ]
     },
     "execution_count": 37,
     "metadata": {},
     "output_type": "execute_result"
    }
   ],
   "source": [
    "#optimal alpha\n",
    "enet_model.alpha_"
   ]
  },
  {
   "cell_type": "code",
   "execution_count": 38,
   "metadata": {},
   "outputs": [],
   "source": [
    "best_enet_model = ElasticNet(enet_model.alpha_)"
   ]
  },
  {
   "cell_type": "code",
   "execution_count": 39,
   "metadata": {},
   "outputs": [
    {
     "data": {
      "text/plain": [
       "71861.29623642642"
      ]
     },
     "execution_count": 39,
     "metadata": {},
     "output_type": "execute_result"
    }
   ],
   "source": [
    "#cross validation\n",
    "-(cross_val_score(best_enet_model, X_train, y_train, scoring='neg_root_mean_squared_error').mean())"
   ]
  },
  {
   "cell_type": "code",
   "execution_count": 40,
   "metadata": {},
   "outputs": [
    {
     "data": {
      "text/plain": [
       "71006.38935419475"
      ]
     },
     "execution_count": 40,
     "metadata": {},
     "output_type": "execute_result"
    }
   ],
   "source": [
    "#conduct prediction using holdout test set\n",
    "\n",
    "#fit model\n",
    "best_enet_model.fit(X_train, y_train)\n",
    "\n",
    "y_predict = best_enet_model.predict(X_test)\n",
    "np.sqrt(mean_squared_error(y_predict, y_test))"
   ]
  },
  {
   "cell_type": "markdown",
   "metadata": {},
   "source": [
    "Evaluation:\n"
   ]
  },
  {
   "cell_type": "markdown",
   "metadata": {},
   "source": [
    "| Model      | Cross Val Score | RMSE |\n",
    "| :----------- | :-----------: | :-----------: |\n",
    "| Model 1 : Baseline Model    | 79532 | 78360       |\n",
    "| Model 2 : Linear Regression    | 5.23e+15 | 24896       |\n",
    "| Model 3 : Ridge Regression     | 25109       | 24075        |\n",
    "| Model 4 : Lasso Regression    | 25116        | 23690        |\n",
    "| Model 5 : ElasticNet Regression   | 71861        | 71006       |"
   ]
  },
  {
   "cell_type": "markdown",
   "metadata": {},
   "source": [
    "We created models based on the train_cleaned dataset consisting of 183 columns. Inspite, some models performed generally well across the different regression models with Ridge Regression having the best RMSE as compared to the Baseline Model.\n",
    "\n",
    "Model 2 however had a high cross validation score due to lack of regularisation. Models 3 and 4 performed better because they were regularised, reducing errors and avoiding overfitting. What is also surprising is that Model 5 performed really badly, almost similar to the baselines score.\n",
    "\n",
    "Overall, despite some of the models performing well, these are actually not the best models for predicting values as they involve too many features. In reality, buyers may not look at all 183 features and instead be looking at the ones that are better predictor of sale prices, \n",
    "\n",
    "We will look at the performance of the features through the coefficients from the best model and pick our best features."
   ]
  },
  {
   "cell_type": "markdown",
   "metadata": {},
   "source": [
    "### Feature Selection"
   ]
  },
  {
   "cell_type": "code",
   "execution_count": 41,
   "metadata": {},
   "outputs": [
    {
     "data": {
      "image/png": "[encoded data removed]",
      "text/plain": [
       "<Figure size 720x720 with 1 Axes>"
      ]
     },
     "metadata": {
      "needs_background": "light"
     },
     "output_type": "display_data"
    }
   ],
   "source": [
    "# get list of coefficients that are not 0\n",
    "labels = [col for col in train_cleaned.columns if col != 'saleprice'] \n",
    "lasso_coef = pd.DataFrame(best_lasso_model.coef_, index = labels)            \n",
    "lasso_coef = lasso_coef[lasso_coef[0] != 0]  #non-zero coefficients     \n",
    "\n",
    "# sort by absolute values\n",
    "lasso_coef = lasso_coef.reindex(lasso_coef[0].abs().sort_values(ascending=True).index)\n",
    "\n",
    "#top 30 coefficients\n",
    "lasso_coef.tail(30).plot.barh(figsize=(10,10), legend = None)\n",
    "plt.title('Top 30 features',fontsize=18)\n",
    "plt.xlabel('coefficient', fontsize=12)\n",
    "plt.yticks(fontsize=12)\n",
    "plt.tight_layout()"
   ]
  },
  {
   "cell_type": "markdown",
   "metadata": {},
   "source": [
    "From our correlation plot, it appears that the above ground living area is not the most influential feature in prediciting prices. In fact, neighboorhoods play a bigger role as well. The top 4 features represent the neighboorhoods that have huge influence on price. "
   ]
  },
  {
   "cell_type": "markdown",
   "metadata": {},
   "source": [
    "## Kaggle Submission"
   ]
  },
  {
   "cell_type": "code",
   "execution_count": 42,
   "metadata": {},
   "outputs": [],
   "source": [
    "features = lasso_coef.tail(30).index.tolist()"
   ]
  },
  {
   "cell_type": "code",
   "execution_count": 43,
   "metadata": {},
   "outputs": [
    {
     "data": {
      "text/plain": [
       "['bsmt_exposure',\n",
       " 'overall_cond',\n",
       " 'x4_NWAmes',\n",
       " 'garage_area',\n",
       " 'x0_120',\n",
       " 'x9_CmentBd',\n",
       " 'mas_vnr_area',\n",
       " 'x4_CollgCr',\n",
       " 'x4_Crawfor',\n",
       " 'x12_WD ',\n",
       " 'x7_Hip',\n",
       " 'age',\n",
       " 'x13_nan',\n",
       " 'x10_BrkCmn',\n",
       " 'x2_HLS',\n",
       " 'x12_COD',\n",
       " 'x12_New',\n",
       " 'x4_NPkVill',\n",
       " 'bsmtfin_sf_1',\n",
       " '2nd_flr_sf',\n",
       " 'overall_qual',\n",
       " 'gr_liv_area',\n",
       " '1st_flr_sf',\n",
       " 'x7_Mansard',\n",
       " 'x5_1Fam',\n",
       " 'x8_BrkFace',\n",
       " 'x4_NoRidge',\n",
       " 'x4_NridgHt',\n",
       " 'x4_StoneBr',\n",
       " 'x4_GrnHill']"
      ]
     },
     "execution_count": 43,
     "metadata": {},
     "output_type": "execute_result"
    }
   ],
   "source": [
    "features"
   ]
  },
  {
   "cell_type": "code",
   "execution_count": 44,
   "metadata": {},
   "outputs": [],
   "source": [
    "# Retrain model again\n",
    "\n",
    "features.remove('x4_GrnHill')\n",
    "features.remove('x13_nan')\n",
    "\n",
    "X_final = X[features]\n",
    "\n",
    "lasso_model_final = LassoCV(n_alphas=100)\n",
    "lasso_model_final.fit(X_final, y)\n",
    "\n",
    "\n",
    "final_model = Lasso(alpha=lasso_model_final.alpha_)\n",
    "final_model.fit(X_final, y)\n",
    "\n",
    "# Creating predictions on test set\n",
    "y_predit_final = final_model.predict(test_cleaned[features])"
   ]
  },
  {
   "cell_type": "code",
   "execution_count": 45,
   "metadata": {},
   "outputs": [],
   "source": [
    "kaggle = pd.DataFrame({'Id': test.Id, 'Saleprice': y_predit_final})"
   ]
  },
  {
   "cell_type": "code",
   "execution_count": 46,
   "metadata": {},
   "outputs": [],
   "source": [
    "kaggle.to_csv('./data/kaggle.csv')"
   ]
  },
  {
   "attachments": {},
   "cell_type": "markdown",
   "metadata": {},
   "source": [
    "[kagglesubmission.PNG](attachment:kaggle%20submission.PNG)\n",
    "\n",
    "If image cannot be viewed, please see file under images."
   ]
  },
  {
   "cell_type": "markdown",
   "metadata": {},
   "source": [
    "Kaggle Score\n",
    "\n",
    "Private: 31108\n",
    "\n",
    "Public: 28724"
   ]
  },
  {
   "cell_type": "markdown",
   "metadata": {},
   "source": [
    "### Conclusion and Recommendations"
   ]
  },
  {
   "cell_type": "markdown",
   "metadata": {},
   "source": [
    "##### Conclusion"
   ]
  },
  {
   "cell_type": "code",
   "execution_count": 47,
   "metadata": {},
   "outputs": [],
   "source": [
    "coef = pd.DataFrame([features, final_model.coef_]).T\n",
    "coef.columns = ['Feature', 'Coefficient']"
   ]
  },
  {
   "cell_type": "code",
   "execution_count": 52,
   "metadata": {},
   "outputs": [
    {
     "data": {
      "text/html": [
       "<div>\n",
       "<style scoped>\n",
       "    .dataframe tbody tr th:only-of-type {\n",
       "        vertical-align: middle;\n",
       "    }\n",
       "\n",
       "    .dataframe tbody tr th {\n",
       "        vertical-align: top;\n",
       "    }\n",
       "\n",
       "    .dataframe thead th {\n",
       "        text-align: right;\n",
       "    }\n",
       "</style>\n",
       "<table border=\"1\" class=\"dataframe\">\n",
       "  <thead>\n",
       "    <tr style=\"text-align: right;\">\n",
       "      <th></th>\n",
       "      <th>Feature</th>\n",
       "      <th>Coefficient</th>\n",
       "    </tr>\n",
       "  </thead>\n",
       "  <tbody>\n",
       "    <tr>\n",
       "      <th>27</th>\n",
       "      <td>x4_StoneBr</td>\n",
       "      <td>46937</td>\n",
       "    </tr>\n",
       "    <tr>\n",
       "      <th>26</th>\n",
       "      <td>x4_NridgHt</td>\n",
       "      <td>38469.4</td>\n",
       "    </tr>\n",
       "    <tr>\n",
       "      <th>20</th>\n",
       "      <td>gr_liv_area</td>\n",
       "      <td>24133.2</td>\n",
       "    </tr>\n",
       "    <tr>\n",
       "      <th>23</th>\n",
       "      <td>x5_1Fam</td>\n",
       "      <td>21505</td>\n",
       "    </tr>\n",
       "    <tr>\n",
       "      <th>25</th>\n",
       "      <td>x4_NoRidge</td>\n",
       "      <td>20942.3</td>\n",
       "    </tr>\n",
       "    <tr>\n",
       "      <th>19</th>\n",
       "      <td>overall_qual</td>\n",
       "      <td>19357.5</td>\n",
       "    </tr>\n",
       "    <tr>\n",
       "      <th>24</th>\n",
       "      <td>x8_BrkFace</td>\n",
       "      <td>19239.6</td>\n",
       "    </tr>\n",
       "    <tr>\n",
       "      <th>15</th>\n",
       "      <td>x12_New</td>\n",
       "      <td>18064.9</td>\n",
       "    </tr>\n",
       "    <tr>\n",
       "      <th>8</th>\n",
       "      <td>x4_Crawfor</td>\n",
       "      <td>12843.3</td>\n",
       "    </tr>\n",
       "    <tr>\n",
       "      <th>17</th>\n",
       "      <td>bsmtfin_sf_1</td>\n",
       "      <td>11249.4</td>\n",
       "    </tr>\n",
       "    <tr>\n",
       "      <th>13</th>\n",
       "      <td>x2_HLS</td>\n",
       "      <td>10218.6</td>\n",
       "    </tr>\n",
       "    <tr>\n",
       "      <th>5</th>\n",
       "      <td>x9_CmentBd</td>\n",
       "      <td>9448.51</td>\n",
       "    </tr>\n",
       "    <tr>\n",
       "      <th>21</th>\n",
       "      <td>1st_flr_sf</td>\n",
       "      <td>8741.4</td>\n",
       "    </tr>\n",
       "    <tr>\n",
       "      <th>1</th>\n",
       "      <td>overall_cond</td>\n",
       "      <td>6147.63</td>\n",
       "    </tr>\n",
       "    <tr>\n",
       "      <th>3</th>\n",
       "      <td>garage_area</td>\n",
       "      <td>5913.95</td>\n",
       "    </tr>\n",
       "    <tr>\n",
       "      <th>0</th>\n",
       "      <td>bsmt_exposure</td>\n",
       "      <td>5824.41</td>\n",
       "    </tr>\n",
       "    <tr>\n",
       "      <th>6</th>\n",
       "      <td>mas_vnr_area</td>\n",
       "      <td>4819.81</td>\n",
       "    </tr>\n",
       "    <tr>\n",
       "      <th>10</th>\n",
       "      <td>x7_Hip</td>\n",
       "      <td>4741.25</td>\n",
       "    </tr>\n",
       "    <tr>\n",
       "      <th>18</th>\n",
       "      <td>2nd_flr_sf</td>\n",
       "      <td>1910.67</td>\n",
       "    </tr>\n",
       "    <tr>\n",
       "      <th>16</th>\n",
       "      <td>x4_NPkVill</td>\n",
       "      <td>0</td>\n",
       "    </tr>\n",
       "    <tr>\n",
       "      <th>4</th>\n",
       "      <td>x0_120</td>\n",
       "      <td>0</td>\n",
       "    </tr>\n",
       "    <tr>\n",
       "      <th>7</th>\n",
       "      <td>x4_CollgCr</td>\n",
       "      <td>-1736.46</td>\n",
       "    </tr>\n",
       "    <tr>\n",
       "      <th>22</th>\n",
       "      <td>x7_Mansard</td>\n",
       "      <td>-5053.88</td>\n",
       "    </tr>\n",
       "    <tr>\n",
       "      <th>9</th>\n",
       "      <td>x12_WD</td>\n",
       "      <td>-5900.9</td>\n",
       "    </tr>\n",
       "    <tr>\n",
       "      <th>12</th>\n",
       "      <td>x10_BrkCmn</td>\n",
       "      <td>-9430.78</td>\n",
       "    </tr>\n",
       "    <tr>\n",
       "      <th>11</th>\n",
       "      <td>age</td>\n",
       "      <td>-12775.3</td>\n",
       "    </tr>\n",
       "    <tr>\n",
       "      <th>2</th>\n",
       "      <td>x4_NWAmes</td>\n",
       "      <td>-13163.9</td>\n",
       "    </tr>\n",
       "    <tr>\n",
       "      <th>14</th>\n",
       "      <td>x12_COD</td>\n",
       "      <td>-14589.5</td>\n",
       "    </tr>\n",
       "  </tbody>\n",
       "</table>\n",
       "</div>"
      ],
      "text/plain": [
       "          Feature Coefficient\n",
       "27     x4_StoneBr       46937\n",
       "26     x4_NridgHt     38469.4\n",
       "20    gr_liv_area     24133.2\n",
       "23        x5_1Fam       21505\n",
       "25     x4_NoRidge     20942.3\n",
       "19   overall_qual     19357.5\n",
       "24     x8_BrkFace     19239.6\n",
       "15        x12_New     18064.9\n",
       "8      x4_Crawfor     12843.3\n",
       "17   bsmtfin_sf_1     11249.4\n",
       "13         x2_HLS     10218.6\n",
       "5      x9_CmentBd     9448.51\n",
       "21     1st_flr_sf      8741.4\n",
       "1    overall_cond     6147.63\n",
       "3     garage_area     5913.95\n",
       "0   bsmt_exposure     5824.41\n",
       "6    mas_vnr_area     4819.81\n",
       "10         x7_Hip     4741.25\n",
       "18     2nd_flr_sf     1910.67\n",
       "16     x4_NPkVill           0\n",
       "4          x0_120           0\n",
       "7      x4_CollgCr    -1736.46\n",
       "22     x7_Mansard    -5053.88\n",
       "9         x12_WD      -5900.9\n",
       "12     x10_BrkCmn    -9430.78\n",
       "11            age    -12775.3\n",
       "2       x4_NWAmes    -13163.9\n",
       "14        x12_COD    -14589.5"
      ]
     },
     "execution_count": 52,
     "metadata": {},
     "output_type": "execute_result"
    }
   ],
   "source": [
    "coef.sort_values(by = 'Coefficient', ascending = False)"
   ]
  },
  {
   "cell_type": "markdown",
   "metadata": {},
   "source": [
    "Based on our final model, it shows that neighborhoods such as Stone Brook and Northridge Heights have properties of high values. Single-family detached properties also have high coefficient value showcasing high property value. The overall quality of the property as well as the above ground living areas are important features in predicting prices of house as well.\n",
    "\n",
    "On the other hand properties in Northwest Ames have lower sale prices. A property's age also affects the sale price of the property as well i.e. older the property, lower the sale."
   ]
  },
  {
   "cell_type": "markdown",
   "metadata": {},
   "source": [
    "##### Recommendations"
   ]
  },
  {
   "cell_type": "markdown",
   "metadata": {},
   "source": [
    "1. Property dealers/buyers should consider properties in Stone Brook, Northridge Heights and Northridge Neighbourhoods for investment purposes as they yield higher sale prices. Will be more beneficial if property age is low as well. Also look into single-family detached properties/Hill side properties\n",
    "\n",
    "2. Consider renovating to Brick Face exterior covering\n",
    "\n",
    "3. Sell properties earlier as older properties yield lower sales\n",
    "\n",
    "4. Avoid Masonry veneer types such as Brick Common."
   ]
  },
  {
   "cell_type": "code",
   "execution_count": null,
   "metadata": {},
   "outputs": [],
   "source": []
  }
 ],
 "metadata": {
  "kernelspec": {
   "display_name": "Python 3",
   "language": "python",
   "name": "python3"
  },
  "language_info": {
   "codemirror_mode": {
    "name": "ipython",
    "version": 3
   },
   "file_extension": ".py",
   "mimetype": "text/x-python",
   "name": "python",
   "nbconvert_exporter": "python",
   "pygments_lexer": "ipython3",
   "version": "3.8.5"
  },
  "toc": {
   "base_numbering": 1,
   "nav_menu": {},
   "number_sections": true,
   "sideBar": true,
   "skip_h1_title": true,
   "title_cell": "Table of Contents",
   "title_sidebar": "Contents",
   "toc_cell": false,
   "toc_position": {
    "height": "calc(100% - 180px)",
    "left": "10px",
    "top": "150px",
    "width": "426.667px"
   },
   "toc_section_display": true,
   "toc_window_display": true
  }
 },
 "nbformat": 4,
 "nbformat_minor": 4
}
