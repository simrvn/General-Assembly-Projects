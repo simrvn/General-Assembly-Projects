{
 "cells": [
  {
   "cell_type": "markdown",
   "metadata": {},
   "source": [
    "# Part 2 - Modelling and Evaluation"
   ]
  },
  {
   "cell_type": "markdown",
   "metadata": {},
   "source": [
    "In this second notebook, we will look at multiple classification models and evaluate them using the various evaluation metrics to identify the best model that helps us distinguish between two subreddit posts."
   ]
  },
  {
   "cell_type": "markdown",
   "metadata": {},
   "source": [
    "As usual we are going to import all relevant libraries first."
   ]
  },
  {
   "cell_type": "code",
   "execution_count": 1,
   "metadata": {},
   "outputs": [],
   "source": [
    "#import libraries\n",
    "import pandas as pd\n",
    "import numpy as np\n",
    "import matplotlib.pyplot as plt\n",
    "import seaborn as sns\n",
    "\n",
    "from sklearn.model_selection import train_test_split, GridSearchCV\n",
    "from sklearn.pipeline import Pipeline\n",
    "from sklearn.preprocessing import StandardScaler\n",
    "from sklearn.feature_extraction.text import CountVectorizer, TfidfVectorizer\n",
    "from sklearn.metrics import accuracy_score, recall_score, precision_score, f1_score, roc_auc_score,\\\n",
    "                            plot_confusion_matrix, plot_roc_curve\n",
    "from sklearn.linear_model import LogisticRegression\n",
    "from sklearn.neighbors import KNeighborsClassifier\n",
    "from sklearn.naive_bayes import MultinomialNB\n",
    "from sklearn.tree import DecisionTreeClassifier, ExtraTreeClassifier\n",
    "from sklearn.ensemble import RandomForestClassifier\n",
    "from sklearn.svm import SVC"
   ]
  },
  {
   "cell_type": "markdown",
   "metadata": {},
   "source": [
    "## Modelling"
   ]
  },
  {
   "cell_type": "markdown",
   "metadata": {},
   "source": [
    "Import our cleaned dataset."
   ]
  },
  {
   "cell_type": "code",
   "execution_count": 2,
   "metadata": {},
   "outputs": [],
   "source": [
    "#import data\n",
    "df = pd.read_csv('./data/combined_cleaned.csv')"
   ]
  },
  {
   "cell_type": "code",
   "execution_count": 3,
   "metadata": {},
   "outputs": [
    {
     "data": {
      "text/html": [
       "<div>\n",
       "<style scoped>\n",
       "    .dataframe tbody tr th:only-of-type {\n",
       "        vertical-align: middle;\n",
       "    }\n",
       "\n",
       "    .dataframe tbody tr th {\n",
       "        vertical-align: top;\n",
       "    }\n",
       "\n",
       "    .dataframe thead th {\n",
       "        text-align: right;\n",
       "    }\n",
       "</style>\n",
       "<table border=\"1\" class=\"dataframe\">\n",
       "  <thead>\n",
       "    <tr style=\"text-align: right;\">\n",
       "      <th></th>\n",
       "      <th>label</th>\n",
       "      <th>author</th>\n",
       "      <th>text_cleaned</th>\n",
       "    </tr>\n",
       "  </thead>\n",
       "  <tbody>\n",
       "    <tr>\n",
       "      <th>0</th>\n",
       "      <td>0</td>\n",
       "      <td>nyc_brand</td>\n",
       "      <td>excit tool librari 2021 everyon industri probl...</td>\n",
       "    </tr>\n",
       "    <tr>\n",
       "      <th>1</th>\n",
       "      <td>0</td>\n",
       "      <td>iam_syndrome</td>\n",
       "      <td>python r program languag better better scope f...</td>\n",
       "    </tr>\n",
       "    <tr>\n",
       "      <th>2</th>\n",
       "      <td>0</td>\n",
       "      <td>Emperor-SuN-5</td>\n",
       "      <td>tool languag technolog learn beginn field anal...</td>\n",
       "    </tr>\n",
       "    <tr>\n",
       "      <th>3</th>\n",
       "      <td>0</td>\n",
       "      <td>_StunningStar_</td>\n",
       "      <td>tip academia positioni read post land posit bi...</td>\n",
       "    </tr>\n",
       "    <tr>\n",
       "      <th>4</th>\n",
       "      <td>0</td>\n",
       "      <td>shreyansh26</td>\n",
       "      <td>ml optim scratch jaxgithub link includ link ka...</td>\n",
       "    </tr>\n",
       "  </tbody>\n",
       "</table>\n",
       "</div>"
      ],
      "text/plain": [
       "   label          author                                       text_cleaned\n",
       "0      0       nyc_brand  excit tool librari 2021 everyon industri probl...\n",
       "1      0    iam_syndrome  python r program languag better better scope f...\n",
       "2      0   Emperor-SuN-5  tool languag technolog learn beginn field anal...\n",
       "3      0  _StunningStar_  tip academia positioni read post land posit bi...\n",
       "4      0     shreyansh26  ml optim scratch jaxgithub link includ link ka..."
      ]
     },
     "execution_count": 3,
     "metadata": {},
     "output_type": "execute_result"
    }
   ],
   "source": [
    "df.head()"
   ]
  },
  {
   "cell_type": "markdown",
   "metadata": {},
   "source": [
    "### Model Training"
   ]
  },
  {
   "cell_type": "markdown",
   "metadata": {},
   "source": [
    "#### Baseline Model and Train Test Split"
   ]
  },
  {
   "cell_type": "markdown",
   "metadata": {},
   "source": [
    "We will then establish a baseline model using the actual values of our target variable, the 'label' feature. Our best model has to beat this baseline accuracy score and then split our data to training set and testing set. "
   ]
  },
  {
   "cell_type": "markdown",
   "metadata": {},
   "source": [
    "##### Baseline Model"
   ]
  },
  {
   "cell_type": "code",
   "execution_count": 4,
   "metadata": {},
   "outputs": [
    {
     "data": {
      "text/plain": [
       "1    0.581042\n",
       "0    0.418958\n",
       "Name: label, dtype: float64"
      ]
     },
     "execution_count": 4,
     "metadata": {},
     "output_type": "execute_result"
    }
   ],
   "source": [
    "df['label'].value_counts(normalize=True)"
   ]
  },
  {
   "cell_type": "markdown",
   "metadata": {},
   "source": [
    "The baseline accuracy of predicting a post that belongs to r/datascience is approximately 58%. Our best model has to beat this accuracy score. "
   ]
  },
  {
   "cell_type": "markdown",
   "metadata": {},
   "source": [
    "##### Train Test Split"
   ]
  },
  {
   "cell_type": "markdown",
   "metadata": {},
   "source": [
    "Initialise our X and y variable and train test split our data."
   ]
  },
  {
   "cell_type": "code",
   "execution_count": 5,
   "metadata": {},
   "outputs": [],
   "source": [
    "X = df['text_cleaned']\n",
    "y = df['label']"
   ]
  },
  {
   "cell_type": "code",
   "execution_count": 6,
   "metadata": {},
   "outputs": [],
   "source": [
    "X_train, X_test, y_train, y_test = train_test_split(X, y, test_size = 0.3, random_state = 42, stratify = y)"
   ]
  },
  {
   "cell_type": "markdown",
   "metadata": {},
   "source": [
    "#### Training Machine Learning Models"
   ]
  },
  {
   "cell_type": "markdown",
   "metadata": {},
   "source": [
    "In this section we are going to train multiple machine learning models using vectorizers and gridsearchCV. "
   ]
  },
  {
   "cell_type": "markdown",
   "metadata": {},
   "source": [
    "##### Vectorizers"
   ]
  },
  {
   "cell_type": "markdown",
   "metadata": {},
   "source": [
    "Vectorizers are functions used to transform given texts to document-term matrixes. The purpose of this is to make documents more platable for computers to understand by converting texts to some sort of numerical features. We will be using two types, CountVectorizer and TFIDF Vectorizer."
   ]
  },
  {
   "cell_type": "markdown",
   "metadata": {},
   "source": [
    "###### Count Vectorizer"
   ]
  },
  {
   "cell_type": "markdown",
   "metadata": {},
   "source": [
    "CountVectorizer is a straightforward vectorizer that counts the number of times a token shows up in the document and uses this value as a weight. We will set the paramters of the CountVectorizer as follows."
   ]
  },
  {
   "cell_type": "code",
   "execution_count": 7,
   "metadata": {},
   "outputs": [],
   "source": [
    "cvec_params = {\n",
    "    'cvec__max_features': [None, 1000, 2000, 5000],\n",
    "    'cvec__min_df': [1,2],\n",
    "    'cvec__max_df': [0.9, 0.95],\n",
    "    'cvec__ngram_range': [(1,1), (1,2), (2,2)]}"
   ]
  },
  {
   "cell_type": "markdown",
   "metadata": {},
   "source": [
    "###### TFIDF Vectorizer"
   ]
  },
  {
   "cell_type": "markdown",
   "metadata": {},
   "source": [
    "TFIDFVectorizer refers to 'Term Frequency-Inverse Document Frequency' where the weight assigned to the token depends on not only its frequency in 1 document but how in all documents. We will set the paramters of the TFIDFVectorizer as follows."
   ]
  },
  {
   "cell_type": "code",
   "execution_count": 8,
   "metadata": {},
   "outputs": [],
   "source": [
    "tfidf_params = {\n",
    "    'tfidf__max_features': [None, 1000, 2000, 3000, 6000],\n",
    "    'tfidf__min_df': [1,2],\n",
    "    'tfidf__max_df': [0.9, 0.95],\n",
    "    'tfidf__ngram_range': [(1,1), (1,2),(2,2)]}"
   ]
  },
  {
   "cell_type": "markdown",
   "metadata": {},
   "source": [
    "We will create a few functions to avoid repetitives of the model training processes."
   ]
  },
  {
   "cell_type": "code",
   "execution_count": 9,
   "metadata": {},
   "outputs": [],
   "source": [
    "#function to combine our vectorizers and model hyperparameters\n",
    "def combine_params(vec_param, model_param):\n",
    "    pipe_param = {**vec_param, **model_param}\n",
    "    return pipe_param"
   ]
  },
  {
   "cell_type": "code",
   "execution_count": 10,
   "metadata": {},
   "outputs": [],
   "source": [
    "#list to store results and evaluation metrics for models\n",
    "model_results = []\n",
    "\n",
    "#function to train model and store results in model_results list\n",
    "def model_eval(pipeline, params):\n",
    "    \n",
    "    gs = GridSearchCV(estimator = pipeline,\n",
    "                  param_grid = params, \n",
    "                  scoring = 'accuracy',\n",
    "                  verbose = 1,\n",
    "                  n_jobs = -1) \n",
    "    \n",
    "   \n",
    "    gs.fit(X_train, y_train)  #fit our model onto gridsearchCV\n",
    "    \n",
    "   \n",
    "    results = {}  #initialise results dictionary\n",
    "    results['Vectorizer'] = pipeline.steps[0][1]    #Vectorizer used\n",
    "   \n",
    "  \n",
    "    #for loop to check for knn model as knn model has StandardScaler in its pipeline\n",
    "    for lists in pipe.steps:\n",
    "        if 'knn' in lists:\n",
    "            results['Classifier'] = pipeline.steps[2][1]   #model name\n",
    "        else:\n",
    "            results['Classifier'] = pipeline.steps[1][1]\n",
    "    \n",
    "    results['Train Accuracy Score'] = gs.score(X_train, y_train) #train acctracy score\n",
    "    y_pred = gs.predict(X_test)\n",
    "    results['Test Accuracy Score'] = accuracy_score(y_test, y_pred) #test accuracy score\n",
    "    results['Recall'] = recall_score(y_test, y_pred)  #recall score\n",
    "    results['Precision'] = precision_score(y_test, y_pred)  #precision score\n",
    "    results['F1-Score'] = f1_score(y_test, y_pred) #f1-score\n",
    "    results['ROC-AUC'] = roc_auc_score(y_test, y_pred) #roc-auc curve\n",
    "    model_results.append(results) #append dictionary into model_results list\n",
    "    \n",
    "    return gs.best_estimator_"
   ]
  },
  {
   "cell_type": "markdown",
   "metadata": {},
   "source": [
    "###### Machine Learning Models"
   ]
  },
  {
   "cell_type": "markdown",
   "metadata": {},
   "source": [
    "##### Logistic Regression "
   ]
  },
  {
   "cell_type": "code",
   "execution_count": 11,
   "metadata": {},
   "outputs": [],
   "source": [
    "#set parameters for pipeline\n",
    "lr_params = {'lr__penalty': ['l1', 'l2'],\n",
    "             'lr__C': [0.1, 0.3, 0.5, 0.7] }"
   ]
  },
  {
   "cell_type": "markdown",
   "metadata": {},
   "source": [
    "###### Model 1: Logistic Regression - Count Vectorizer"
   ]
  },
  {
   "cell_type": "code",
   "execution_count": 12,
   "metadata": {},
   "outputs": [
    {
     "name": "stdout",
     "output_type": "stream",
     "text": [
      "Fitting 5 folds for each of 384 candidates, totalling 1920 fits\n"
     ]
    },
    {
     "name": "stderr",
     "output_type": "stream",
     "text": [
      "[Parallel(n_jobs=-1)]: Using backend LokyBackend with 8 concurrent workers.\n",
      "[Parallel(n_jobs=-1)]: Done  34 tasks      | elapsed:    3.2s\n",
      "[Parallel(n_jobs=-1)]: Done 184 tasks      | elapsed:    9.3s\n",
      "[Parallel(n_jobs=-1)]: Done 434 tasks      | elapsed:   18.0s\n",
      "[Parallel(n_jobs=-1)]: Done 784 tasks      | elapsed:   30.2s\n",
      "[Parallel(n_jobs=-1)]: Done 1234 tasks      | elapsed:   46.0s\n",
      "[Parallel(n_jobs=-1)]: Done 1784 tasks      | elapsed:  1.1min\n",
      "[Parallel(n_jobs=-1)]: Done 1920 out of 1920 | elapsed:  1.2min finished\n"
     ]
    },
    {
     "data": {
      "text/plain": [
       "Pipeline(steps=[('cvec',\n",
       "                 CountVectorizer(max_df=0.9, max_features=2000, min_df=2,\n",
       "                                 ngram_range=(1, 2))),\n",
       "                ('lr',\n",
       "                 LogisticRegression(C=0.5, max_iter=1000, penalty='l1',\n",
       "                                    random_state=42, solver='liblinear'))])"
      ]
     },
     "execution_count": 12,
     "metadata": {},
     "output_type": "execute_result"
    }
   ],
   "source": [
    "#pipeline with vectoriser and classifier\n",
    "pipe = Pipeline([\n",
    "        ('cvec', CountVectorizer()),\n",
    "        ('lr', LogisticRegression(solver = 'liblinear', max_iter = 1000, random_state = 42))\n",
    "])\n",
    "\n",
    "#combine vectoriser parameters and classifier parameters\n",
    "pipe_params = combine_params(cvec_params, lr_params)\n",
    "\n",
    "#evaluate model\n",
    "model_eval(pipe, pipe_params)"
   ]
  },
  {
   "cell_type": "markdown",
   "metadata": {},
   "source": [
    "###### Model 2: Logistic Regression - TFIDF Vectorizer"
   ]
  },
  {
   "cell_type": "code",
   "execution_count": 13,
   "metadata": {},
   "outputs": [
    {
     "name": "stdout",
     "output_type": "stream",
     "text": [
      "Fitting 5 folds for each of 480 candidates, totalling 2400 fits\n"
     ]
    },
    {
     "name": "stderr",
     "output_type": "stream",
     "text": [
      "[Parallel(n_jobs=-1)]: Using backend LokyBackend with 8 concurrent workers.\n",
      "[Parallel(n_jobs=-1)]: Done  52 tasks      | elapsed:    1.9s\n",
      "[Parallel(n_jobs=-1)]: Done 352 tasks      | elapsed:   12.3s\n",
      "[Parallel(n_jobs=-1)]: Done 852 tasks      | elapsed:   29.3s\n",
      "[Parallel(n_jobs=-1)]: Done 1552 tasks      | elapsed:   53.3s\n",
      "[Parallel(n_jobs=-1)]: Done 2400 out of 2400 | elapsed:  1.4min finished\n"
     ]
    },
    {
     "data": {
      "text/plain": [
       "Pipeline(steps=[('tfidf',\n",
       "                 TfidfVectorizer(max_df=0.9, max_features=1000, min_df=2,\n",
       "                                 ngram_range=(1, 2))),\n",
       "                ('lr',\n",
       "                 LogisticRegression(C=0.7, max_iter=1000, random_state=42,\n",
       "                                    solver='liblinear'))])"
      ]
     },
     "execution_count": 13,
     "metadata": {},
     "output_type": "execute_result"
    }
   ],
   "source": [
    "pipe = Pipeline([\n",
    "        ('tfidf', TfidfVectorizer()),\n",
    "        ('lr', LogisticRegression(solver = 'liblinear', max_iter = 1000, random_state=42))\n",
    "])\n",
    "\n",
    "pipe_params = combine_params(tfidf_params, lr_params)\n",
    "\n",
    "model_eval(pipe, pipe_params)"
   ]
  },
  {
   "cell_type": "markdown",
   "metadata": {},
   "source": [
    "##### K Nearest Neighbors"
   ]
  },
  {
   "cell_type": "code",
   "execution_count": 14,
   "metadata": {},
   "outputs": [],
   "source": [
    "knn_params = {'knn__p': [1,2],\n",
    "              'knn__n_neighbors': [3, 5, 7],\n",
    "              'knn__weights': ['uniform', 'distance']}"
   ]
  },
  {
   "cell_type": "markdown",
   "metadata": {},
   "source": [
    "###### Model 3: KNN - Count Vectorizer"
   ]
  },
  {
   "cell_type": "code",
   "execution_count": 15,
   "metadata": {},
   "outputs": [
    {
     "name": "stdout",
     "output_type": "stream",
     "text": [
      "Fitting 5 folds for each of 576 candidates, totalling 2880 fits\n"
     ]
    },
    {
     "name": "stderr",
     "output_type": "stream",
     "text": [
      "[Parallel(n_jobs=-1)]: Using backend LokyBackend with 8 concurrent workers.\n",
      "[Parallel(n_jobs=-1)]: Done  34 tasks      | elapsed:    0.8s\n",
      "[Parallel(n_jobs=-1)]: Done 184 tasks      | elapsed:    7.8s\n",
      "[Parallel(n_jobs=-1)]: Done 434 tasks      | elapsed:   15.0s\n",
      "[Parallel(n_jobs=-1)]: Done 784 tasks      | elapsed:   28.7s\n",
      "[Parallel(n_jobs=-1)]: Done 1234 tasks      | elapsed:   47.6s\n",
      "[Parallel(n_jobs=-1)]: Done 1784 tasks      | elapsed:  1.1min\n",
      "[Parallel(n_jobs=-1)]: Done 2434 tasks      | elapsed:  1.6min\n",
      "[Parallel(n_jobs=-1)]: Done 2880 out of 2880 | elapsed:  1.9min finished\n"
     ]
    },
    {
     "data": {
      "text/plain": [
       "Pipeline(steps=[('cvec',\n",
       "                 CountVectorizer(max_df=0.9, max_features=1000,\n",
       "                                 ngram_range=(2, 2))),\n",
       "                ('ss', StandardScaler(with_mean=False)),\n",
       "                ('knn', KNeighborsClassifier(weights='distance'))])"
      ]
     },
     "execution_count": 15,
     "metadata": {},
     "output_type": "execute_result"
    }
   ],
   "source": [
    "pipe = Pipeline([\n",
    "        ('cvec', CountVectorizer()),\n",
    "        ('ss', StandardScaler(with_mean = False)),\n",
    "        ('knn', KNeighborsClassifier(n_neighbors = 5))\n",
    "])\n",
    "\n",
    "pipe_params = combine_params(cvec_params, knn_params)\n",
    "\n",
    "model_eval(pipe, pipe_params)"
   ]
  },
  {
   "cell_type": "markdown",
   "metadata": {},
   "source": [
    "###### Model 4: KNN - TFIDF Vectorizer"
   ]
  },
  {
   "cell_type": "code",
   "execution_count": 16,
   "metadata": {},
   "outputs": [
    {
     "name": "stdout",
     "output_type": "stream",
     "text": [
      "Fitting 5 folds for each of 720 candidates, totalling 3600 fits\n"
     ]
    },
    {
     "name": "stderr",
     "output_type": "stream",
     "text": [
      "[Parallel(n_jobs=-1)]: Using backend LokyBackend with 8 concurrent workers.\n",
      "[Parallel(n_jobs=-1)]: Done  34 tasks      | elapsed:    1.3s\n",
      "[Parallel(n_jobs=-1)]: Done 184 tasks      | elapsed:    7.9s\n",
      "[Parallel(n_jobs=-1)]: Done 434 tasks      | elapsed:   18.9s\n",
      "[Parallel(n_jobs=-1)]: Done 784 tasks      | elapsed:   32.8s\n",
      "[Parallel(n_jobs=-1)]: Done 1234 tasks      | elapsed:   50.4s\n",
      "[Parallel(n_jobs=-1)]: Done 1784 tasks      | elapsed:  1.2min\n",
      "[Parallel(n_jobs=-1)]: Done 2434 tasks      | elapsed:  1.6min\n",
      "[Parallel(n_jobs=-1)]: Done 3184 tasks      | elapsed:  2.2min\n",
      "[Parallel(n_jobs=-1)]: Done 3600 out of 3600 | elapsed:  2.5min finished\n"
     ]
    },
    {
     "data": {
      "text/plain": [
       "Pipeline(steps=[('tfidf', TfidfVectorizer(max_df=0.9, max_features=1000)),\n",
       "                ('ss', StandardScaler(with_mean=False)),\n",
       "                ('knn',\n",
       "                 KNeighborsClassifier(n_neighbors=7, weights='distance'))])"
      ]
     },
     "execution_count": 16,
     "metadata": {},
     "output_type": "execute_result"
    }
   ],
   "source": [
    "pipe = Pipeline([\n",
    "        ('tfidf', TfidfVectorizer()),\n",
    "        ('ss', StandardScaler(with_mean = False)),\n",
    "        ('knn', KNeighborsClassifier(n_neighbors = 5))\n",
    "])\n",
    "\n",
    "pipe_params = combine_params(tfidf_params, knn_params)\n",
    "\n",
    "model_eval(pipe, pipe_params)"
   ]
  },
  {
   "cell_type": "markdown",
   "metadata": {},
   "source": [
    "##### Multinomial Naive Bayes"
   ]
  },
  {
   "cell_type": "code",
   "execution_count": 42,
   "metadata": {},
   "outputs": [],
   "source": [
    "mnb_params = {'mnb__alpha': [0.2, 0.3, 0.5, 0.7]}"
   ]
  },
  {
   "cell_type": "markdown",
   "metadata": {},
   "source": [
    "###### Model 5: Multinomial NB - Count Vectorizer"
   ]
  },
  {
   "cell_type": "code",
   "execution_count": 43,
   "metadata": {},
   "outputs": [
    {
     "name": "stdout",
     "output_type": "stream",
     "text": [
      "Fitting 5 folds for each of 192 candidates, totalling 960 fits\n"
     ]
    },
    {
     "name": "stderr",
     "output_type": "stream",
     "text": [
      "[Parallel(n_jobs=-1)]: Using backend LokyBackend with 8 concurrent workers.\n",
      "[Parallel(n_jobs=-1)]: Done  52 tasks      | elapsed:    2.0s\n",
      "[Parallel(n_jobs=-1)]: Done 352 tasks      | elapsed:   12.8s\n",
      "[Parallel(n_jobs=-1)]: Done 852 tasks      | elapsed:   30.6s\n",
      "[Parallel(n_jobs=-1)]: Done 960 out of 960 | elapsed:   35.0s finished\n"
     ]
    },
    {
     "data": {
      "text/plain": [
       "Pipeline(steps=[('cvec', CountVectorizer(max_df=0.9, max_features=2000)),\n",
       "                ('mnb', MultinomialNB(alpha=0.5))])"
      ]
     },
     "execution_count": 43,
     "metadata": {},
     "output_type": "execute_result"
    }
   ],
   "source": [
    "pipe = Pipeline([\n",
    "        ('cvec', CountVectorizer()),\n",
    "        ('mnb', MultinomialNB())\n",
    "])\n",
    "\n",
    "pipe_params = combine_params(cvec_params, mnb_params)\n",
    "    \n",
    "model_eval(pipe, pipe_params)"
   ]
  },
  {
   "cell_type": "markdown",
   "metadata": {},
   "source": [
    "###### Model 6: Multinomial NB - TFIDF Vectorizer"
   ]
  },
  {
   "cell_type": "code",
   "execution_count": 44,
   "metadata": {},
   "outputs": [
    {
     "name": "stderr",
     "output_type": "stream",
     "text": [
      "[Parallel(n_jobs=-1)]: Using backend LokyBackend with 8 concurrent workers.\n"
     ]
    },
    {
     "name": "stdout",
     "output_type": "stream",
     "text": [
      "Fitting 5 folds for each of 240 candidates, totalling 1200 fits\n"
     ]
    },
    {
     "name": "stderr",
     "output_type": "stream",
     "text": [
      "[Parallel(n_jobs=-1)]: Done  52 tasks      | elapsed:    3.2s\n",
      "[Parallel(n_jobs=-1)]: Done 224 tasks      | elapsed:   11.3s\n",
      "[Parallel(n_jobs=-1)]: Done 474 tasks      | elapsed:   22.5s\n",
      "[Parallel(n_jobs=-1)]: Done 824 tasks      | elapsed:   37.9s\n",
      "[Parallel(n_jobs=-1)]: Done 1200 out of 1200 | elapsed:   54.6s finished\n"
     ]
    },
    {
     "data": {
      "text/plain": [
       "Pipeline(steps=[('tfidf',\n",
       "                 TfidfVectorizer(max_df=0.9, max_features=2000, min_df=2)),\n",
       "                ('mnb', MultinomialNB(alpha=0.2))])"
      ]
     },
     "execution_count": 44,
     "metadata": {},
     "output_type": "execute_result"
    }
   ],
   "source": [
    "pipe = Pipeline([\n",
    "        ('tfidf', TfidfVectorizer()),\n",
    "        ('mnb', MultinomialNB())\n",
    "])\n",
    "\n",
    "pipe_params = combine_params(tfidf_params, mnb_params)\n",
    "\n",
    "model_eval(pipe, pipe_params)"
   ]
  },
  {
   "cell_type": "markdown",
   "metadata": {},
   "source": [
    "##### Decision Trees"
   ]
  },
  {
   "cell_type": "markdown",
   "metadata": {},
   "source": [
    "###### Model 7: Decision Tree - Count Vectorizer"
   ]
  },
  {
   "cell_type": "code",
   "execution_count": 20,
   "metadata": {},
   "outputs": [],
   "source": [
    "dtree_params = {'dtree__max_depth': [None, 3, 5, 7, 9], \n",
    "                'dtree__ccp_alpha': [1, 0.1, 0.01, 0.001, 0]\n",
    "}"
   ]
  },
  {
   "cell_type": "code",
   "execution_count": 21,
   "metadata": {},
   "outputs": [
    {
     "name": "stdout",
     "output_type": "stream",
     "text": [
      "Fitting 5 folds for each of 1200 candidates, totalling 6000 fits\n"
     ]
    },
    {
     "name": "stderr",
     "output_type": "stream",
     "text": [
      "[Parallel(n_jobs=-1)]: Using backend LokyBackend with 8 concurrent workers.\n",
      "[Parallel(n_jobs=-1)]: Done  52 tasks      | elapsed:    1.2s\n",
      "[Parallel(n_jobs=-1)]: Done 264 tasks      | elapsed:   14.8s\n",
      "[Parallel(n_jobs=-1)]: Done 514 tasks      | elapsed:   26.9s\n",
      "[Parallel(n_jobs=-1)]: Done 864 tasks      | elapsed:   38.2s\n",
      "[Parallel(n_jobs=-1)]: Done 1314 tasks      | elapsed:   58.5s\n",
      "[Parallel(n_jobs=-1)]: Done 1864 tasks      | elapsed:  1.4min\n",
      "[Parallel(n_jobs=-1)]: Done 2514 tasks      | elapsed:  1.9min\n",
      "[Parallel(n_jobs=-1)]: Done 3264 tasks      | elapsed:  2.5min\n",
      "[Parallel(n_jobs=-1)]: Done 4114 tasks      | elapsed:  3.1min\n",
      "[Parallel(n_jobs=-1)]: Done 5064 tasks      | elapsed:  3.7min\n",
      "[Parallel(n_jobs=-1)]: Done 6000 out of 6000 | elapsed:  4.4min finished\n"
     ]
    },
    {
     "data": {
      "text/plain": [
       "Pipeline(steps=[('cvec',\n",
       "                 CountVectorizer(max_df=0.9, max_features=5000,\n",
       "                                 ngram_range=(1, 2))),\n",
       "                ('dtree',\n",
       "                 DecisionTreeClassifier(ccp_alpha=0.001, max_depth=9,\n",
       "                                        random_state=42))])"
      ]
     },
     "execution_count": 21,
     "metadata": {},
     "output_type": "execute_result"
    }
   ],
   "source": [
    "pipe = Pipeline([\n",
    "        ('cvec', CountVectorizer()),\n",
    "        ('dtree', DecisionTreeClassifier(random_state = 42))\n",
    "])\n",
    "\n",
    "pipe_params = combine_params(cvec_params, dtree_params)\n",
    "\n",
    "model_eval(pipe, pipe_params)"
   ]
  },
  {
   "cell_type": "markdown",
   "metadata": {},
   "source": [
    "###### Model 8: Decision Tree - TFIDF Vectorizer"
   ]
  },
  {
   "cell_type": "code",
   "execution_count": 22,
   "metadata": {},
   "outputs": [
    {
     "name": "stdout",
     "output_type": "stream",
     "text": [
      "Fitting 5 folds for each of 1500 candidates, totalling 7500 fits\n"
     ]
    },
    {
     "name": "stderr",
     "output_type": "stream",
     "text": [
      "[Parallel(n_jobs=-1)]: Using backend LokyBackend with 8 concurrent workers.\n",
      "[Parallel(n_jobs=-1)]: Done  34 tasks      | elapsed:    2.8s\n",
      "[Parallel(n_jobs=-1)]: Done 184 tasks      | elapsed:   12.7s\n",
      "[Parallel(n_jobs=-1)]: Done 434 tasks      | elapsed:   25.6s\n",
      "[Parallel(n_jobs=-1)]: Done 784 tasks      | elapsed:   41.6s\n",
      "[Parallel(n_jobs=-1)]: Done 1234 tasks      | elapsed:  1.0min\n",
      "[Parallel(n_jobs=-1)]: Done 1784 tasks      | elapsed:  1.6min\n",
      "[Parallel(n_jobs=-1)]: Done 2434 tasks      | elapsed:  2.1min\n",
      "[Parallel(n_jobs=-1)]: Done 3184 tasks      | elapsed:  2.7min\n",
      "[Parallel(n_jobs=-1)]: Done 4034 tasks      | elapsed:  3.4min\n",
      "[Parallel(n_jobs=-1)]: Done 4984 tasks      | elapsed:  4.2min\n",
      "[Parallel(n_jobs=-1)]: Done 6034 tasks      | elapsed:  5.1min\n",
      "[Parallel(n_jobs=-1)]: Done 7184 tasks      | elapsed:  6.0min\n",
      "[Parallel(n_jobs=-1)]: Done 7500 out of 7500 | elapsed:  6.3min finished\n"
     ]
    },
    {
     "data": {
      "text/plain": [
       "Pipeline(steps=[('tfidf',\n",
       "                 TfidfVectorizer(max_df=0.9, max_features=2000,\n",
       "                                 ngram_range=(1, 2))),\n",
       "                ('dtree',\n",
       "                 DecisionTreeClassifier(ccp_alpha=0.01, max_depth=7,\n",
       "                                        random_state=42))])"
      ]
     },
     "execution_count": 22,
     "metadata": {},
     "output_type": "execute_result"
    }
   ],
   "source": [
    "pipe = Pipeline([\n",
    "        ('tfidf', TfidfVectorizer()),\n",
    "        ('dtree', DecisionTreeClassifier(random_state = 42))\n",
    "])\n",
    "\n",
    "pipe_params = combine_params(tfidf_params, dtree_params)\n",
    "\n",
    "model_eval(pipe, pipe_params)"
   ]
  },
  {
   "cell_type": "markdown",
   "metadata": {},
   "source": [
    "##### Random Forest"
   ]
  },
  {
   "cell_type": "markdown",
   "metadata": {},
   "source": [
    "###### Model 9: Random Tree - Count Vectorizer"
   ]
  },
  {
   "cell_type": "code",
   "execution_count": 23,
   "metadata": {},
   "outputs": [],
   "source": [
    "rf_params = {'rf__n_estimators': [100, 200, 300],\n",
    "             'rf__max_depth': [2, 4, 6]}"
   ]
  },
  {
   "cell_type": "code",
   "execution_count": 24,
   "metadata": {},
   "outputs": [
    {
     "name": "stdout",
     "output_type": "stream",
     "text": [
      "Fitting 5 folds for each of 432 candidates, totalling 2160 fits\n"
     ]
    },
    {
     "name": "stderr",
     "output_type": "stream",
     "text": [
      "[Parallel(n_jobs=-1)]: Using backend LokyBackend with 8 concurrent workers.\n",
      "[Parallel(n_jobs=-1)]: Done  34 tasks      | elapsed:    3.3s\n",
      "[Parallel(n_jobs=-1)]: Done 184 tasks      | elapsed:   22.7s\n",
      "[Parallel(n_jobs=-1)]: Done 434 tasks      | elapsed:   52.4s\n",
      "[Parallel(n_jobs=-1)]: Done 784 tasks      | elapsed:  1.6min\n",
      "[Parallel(n_jobs=-1)]: Done 1234 tasks      | elapsed:  2.5min\n",
      "[Parallel(n_jobs=-1)]: Done 1784 tasks      | elapsed:  3.7min\n",
      "[Parallel(n_jobs=-1)]: Done 2160 out of 2160 | elapsed:  4.6min finished\n"
     ]
    },
    {
     "data": {
      "text/plain": [
       "Pipeline(steps=[('cvec',\n",
       "                 CountVectorizer(max_df=0.9, max_features=1000, min_df=2,\n",
       "                                 ngram_range=(1, 2))),\n",
       "                ('rf',\n",
       "                 RandomForestClassifier(max_depth=6, n_estimators=200,\n",
       "                                        n_jobs=-1, random_state=42))])"
      ]
     },
     "execution_count": 24,
     "metadata": {},
     "output_type": "execute_result"
    }
   ],
   "source": [
    "pipe = Pipeline([\n",
    "        ('cvec', CountVectorizer()),\n",
    "        ('rf', RandomForestClassifier(random_state = 42, n_jobs=-1))\n",
    "])\n",
    "\n",
    "pipe_params = combine_params(cvec_params, rf_params)\n",
    "\n",
    "model_eval(pipe, pipe_params)"
   ]
  },
  {
   "cell_type": "markdown",
   "metadata": {},
   "source": [
    "###### Model 10: Random Tree - TFIDF Vectorizer"
   ]
  },
  {
   "cell_type": "code",
   "execution_count": 25,
   "metadata": {},
   "outputs": [
    {
     "name": "stdout",
     "output_type": "stream",
     "text": [
      "Fitting 5 folds for each of 540 candidates, totalling 2700 fits\n"
     ]
    },
    {
     "name": "stderr",
     "output_type": "stream",
     "text": [
      "[Parallel(n_jobs=-1)]: Using backend LokyBackend with 8 concurrent workers.\n",
      "[Parallel(n_jobs=-1)]: Done  34 tasks      | elapsed:    3.3s\n",
      "[Parallel(n_jobs=-1)]: Done 184 tasks      | elapsed:   16.3s\n",
      "[Parallel(n_jobs=-1)]: Done 434 tasks      | elapsed:   43.8s\n",
      "[Parallel(n_jobs=-1)]: Done 784 tasks      | elapsed:  1.6min\n",
      "[Parallel(n_jobs=-1)]: Done 1234 tasks      | elapsed:  2.5min\n",
      "[Parallel(n_jobs=-1)]: Done 1784 tasks      | elapsed:  3.8min\n",
      "[Parallel(n_jobs=-1)]: Done 2434 tasks      | elapsed:  4.9min\n",
      "[Parallel(n_jobs=-1)]: Done 2700 out of 2700 | elapsed:  5.6min finished\n"
     ]
    },
    {
     "data": {
      "text/plain": [
       "Pipeline(steps=[('tfidf',\n",
       "                 TfidfVectorizer(max_df=0.9, max_features=1000, min_df=2)),\n",
       "                ('rf',\n",
       "                 RandomForestClassifier(max_depth=6, n_jobs=-1,\n",
       "                                        random_state=42))])"
      ]
     },
     "execution_count": 25,
     "metadata": {},
     "output_type": "execute_result"
    }
   ],
   "source": [
    "pipe = Pipeline([\n",
    "        ('tfidf', TfidfVectorizer()),\n",
    "        ('rf', RandomForestClassifier(random_state = 42, n_jobs=-1))\n",
    "])\n",
    "\n",
    "pipe_params = combine_params(tfidf_params, rf_params)\n",
    "\n",
    "model_eval(pipe, pipe_params)"
   ]
  },
  {
   "cell_type": "markdown",
   "metadata": {},
   "source": [
    "##### Support Vector Classifier"
   ]
  },
  {
   "cell_type": "markdown",
   "metadata": {},
   "source": [
    "###### Model 11: SVC - Count Vectorizer"
   ]
  },
  {
   "cell_type": "code",
   "execution_count": 26,
   "metadata": {},
   "outputs": [],
   "source": [
    "svc_params = {'svc__kernel': ['linear', 'poly', 'rbf', 'sigmoid'],\n",
    "              'svc__C': [0.01, 0.1, 1, 5, 10]}"
   ]
  },
  {
   "cell_type": "code",
   "execution_count": 27,
   "metadata": {},
   "outputs": [
    {
     "name": "stdout",
     "output_type": "stream",
     "text": [
      "Fitting 5 folds for each of 960 candidates, totalling 4800 fits\n"
     ]
    },
    {
     "name": "stderr",
     "output_type": "stream",
     "text": [
      "[Parallel(n_jobs=-1)]: Using backend LokyBackend with 8 concurrent workers.\n",
      "[Parallel(n_jobs=-1)]: Done  34 tasks      | elapsed:    2.1s\n",
      "[Parallel(n_jobs=-1)]: Done 184 tasks      | elapsed:   15.9s\n",
      "[Parallel(n_jobs=-1)]: Done 434 tasks      | elapsed:   34.2s\n",
      "[Parallel(n_jobs=-1)]: Done 784 tasks      | elapsed:   54.8s\n",
      "[Parallel(n_jobs=-1)]: Done 1234 tasks      | elapsed:  1.4min\n",
      "[Parallel(n_jobs=-1)]: Done 1784 tasks      | elapsed:  1.9min\n",
      "[Parallel(n_jobs=-1)]: Done 2434 tasks      | elapsed:  2.7min\n",
      "[Parallel(n_jobs=-1)]: Done 3184 tasks      | elapsed:  3.5min\n",
      "[Parallel(n_jobs=-1)]: Done 4034 tasks      | elapsed:  4.4min\n",
      "[Parallel(n_jobs=-1)]: Done 4800 out of 4800 | elapsed:  5.2min finished\n"
     ]
    },
    {
     "data": {
      "text/plain": [
       "Pipeline(steps=[('cvec',\n",
       "                 CountVectorizer(max_df=0.9, max_features=2000, min_df=2,\n",
       "                                 ngram_range=(1, 2))),\n",
       "                ('svc', SVC(C=5, random_state=42))])"
      ]
     },
     "execution_count": 27,
     "metadata": {},
     "output_type": "execute_result"
    }
   ],
   "source": [
    "pipe = Pipeline([\n",
    "        ('cvec', CountVectorizer()),\n",
    "        ('svc', SVC(random_state = 42))\n",
    "])\n",
    "\n",
    "pipe_params = combine_params(cvec_params, svc_params)\n",
    "\n",
    "model_eval(pipe, pipe_params)"
   ]
  },
  {
   "cell_type": "markdown",
   "metadata": {},
   "source": [
    "###### Model 12: SVC - TFIDF Vectorizer"
   ]
  },
  {
   "cell_type": "code",
   "execution_count": 28,
   "metadata": {},
   "outputs": [
    {
     "name": "stdout",
     "output_type": "stream",
     "text": [
      "Fitting 5 folds for each of 1200 candidates, totalling 6000 fits\n"
     ]
    },
    {
     "name": "stderr",
     "output_type": "stream",
     "text": [
      "[Parallel(n_jobs=-1)]: Using backend LokyBackend with 8 concurrent workers.\n",
      "[Parallel(n_jobs=-1)]: Done  34 tasks      | elapsed:    2.3s\n",
      "[Parallel(n_jobs=-1)]: Done 184 tasks      | elapsed:   11.3s\n",
      "[Parallel(n_jobs=-1)]: Done 434 tasks      | elapsed:   26.4s\n",
      "[Parallel(n_jobs=-1)]: Done 784 tasks      | elapsed:   48.0s\n",
      "[Parallel(n_jobs=-1)]: Done 1234 tasks      | elapsed:  1.3min\n",
      "[Parallel(n_jobs=-1)]: Done 1784 tasks      | elapsed:  1.8min\n",
      "[Parallel(n_jobs=-1)]: Done 2434 tasks      | elapsed:  2.5min\n",
      "[Parallel(n_jobs=-1)]: Done 3184 tasks      | elapsed:  3.2min\n",
      "[Parallel(n_jobs=-1)]: Done 4034 tasks      | elapsed:  4.1min\n",
      "[Parallel(n_jobs=-1)]: Done 4984 tasks      | elapsed:  5.0min\n",
      "[Parallel(n_jobs=-1)]: Done 6000 out of 6000 | elapsed:  6.1min finished\n"
     ]
    },
    {
     "data": {
      "text/plain": [
       "Pipeline(steps=[('tfidf', TfidfVectorizer(max_df=0.9, ngram_range=(1, 2))),\n",
       "                ('svc', SVC(C=1, kernel='sigmoid', random_state=42))])"
      ]
     },
     "execution_count": 28,
     "metadata": {},
     "output_type": "execute_result"
    }
   ],
   "source": [
    "pipe = Pipeline([\n",
    "        ('tfidf', TfidfVectorizer()),\n",
    "        ('svc', SVC(random_state = 42))\n",
    "])\n",
    "\n",
    "pipe_params = combine_params(tfidf_params, svc_params)\n",
    "\n",
    "model_eval(pipe, pipe_params)"
   ]
  },
  {
   "cell_type": "markdown",
   "metadata": {},
   "source": [
    "#### Model Performance and Evaluation"
   ]
  },
  {
   "cell_type": "markdown",
   "metadata": {},
   "source": [
    "##### Model Performance Overview"
   ]
  },
  {
   "cell_type": "markdown",
   "metadata": {},
   "source": [
    "Let us convert our model_results list into a dataframe for better visualisation."
   ]
  },
  {
   "cell_type": "code",
   "execution_count": 45,
   "metadata": {},
   "outputs": [],
   "source": [
    "model_performance = pd.DataFrame(model_results).sort_values(by= 'Test Accuracy Score', ascending = False)"
   ]
  },
  {
   "cell_type": "code",
   "execution_count": 47,
   "metadata": {},
   "outputs": [
    {
     "data": {
      "text/html": [
       "<div>\n",
       "<style scoped>\n",
       "    .dataframe tbody tr th:only-of-type {\n",
       "        vertical-align: middle;\n",
       "    }\n",
       "\n",
       "    .dataframe tbody tr th {\n",
       "        vertical-align: top;\n",
       "    }\n",
       "\n",
       "    .dataframe thead th {\n",
       "        text-align: right;\n",
       "    }\n",
       "</style>\n",
       "<table border=\"1\" class=\"dataframe\">\n",
       "  <thead>\n",
       "    <tr style=\"text-align: right;\">\n",
       "      <th></th>\n",
       "      <th>Vectorizer</th>\n",
       "      <th>Classifier</th>\n",
       "      <th>Train Accuracy Score</th>\n",
       "      <th>Test Accuracy Score</th>\n",
       "      <th>Recall</th>\n",
       "      <th>Precision</th>\n",
       "      <th>F1-Score</th>\n",
       "      <th>ROC-AUC</th>\n",
       "    </tr>\n",
       "  </thead>\n",
       "  <tbody>\n",
       "    <tr>\n",
       "      <th>0</th>\n",
       "      <td>TfidfVectorizer()</td>\n",
       "      <td>MultinomialNB()</td>\n",
       "      <td>0.950362</td>\n",
       "      <td>0.824096</td>\n",
       "      <td>0.921162</td>\n",
       "      <td>0.804348</td>\n",
       "      <td>0.858801</td>\n",
       "      <td>0.805408</td>\n",
       "    </tr>\n",
       "    <tr>\n",
       "      <th>1</th>\n",
       "      <td>CountVectorizer()</td>\n",
       "      <td>MultinomialNB()</td>\n",
       "      <td>0.914168</td>\n",
       "      <td>0.821687</td>\n",
       "      <td>0.871369</td>\n",
       "      <td>0.830040</td>\n",
       "      <td>0.850202</td>\n",
       "      <td>0.812121</td>\n",
       "    </tr>\n",
       "    <tr>\n",
       "      <th>2</th>\n",
       "      <td>TfidfVectorizer()</td>\n",
       "      <td>SVC(random_state=42)</td>\n",
       "      <td>0.986556</td>\n",
       "      <td>0.819277</td>\n",
       "      <td>0.883817</td>\n",
       "      <td>0.819231</td>\n",
       "      <td>0.850299</td>\n",
       "      <td>0.806851</td>\n",
       "    </tr>\n",
       "    <tr>\n",
       "      <th>3</th>\n",
       "      <td>CountVectorizer()</td>\n",
       "      <td>LogisticRegression(max_iter=1000, random_state...</td>\n",
       "      <td>0.931748</td>\n",
       "      <td>0.804819</td>\n",
       "      <td>0.908714</td>\n",
       "      <td>0.787770</td>\n",
       "      <td>0.843931</td>\n",
       "      <td>0.784817</td>\n",
       "    </tr>\n",
       "    <tr>\n",
       "      <th>4</th>\n",
       "      <td>TfidfVectorizer()</td>\n",
       "      <td>LogisticRegression(max_iter=1000, random_state...</td>\n",
       "      <td>0.893485</td>\n",
       "      <td>0.804819</td>\n",
       "      <td>0.950207</td>\n",
       "      <td>0.768456</td>\n",
       "      <td>0.849722</td>\n",
       "      <td>0.776828</td>\n",
       "    </tr>\n",
       "    <tr>\n",
       "      <th>5</th>\n",
       "      <td>TfidfVectorizer()</td>\n",
       "      <td>DecisionTreeClassifier(random_state=42)</td>\n",
       "      <td>0.796277</td>\n",
       "      <td>0.771084</td>\n",
       "      <td>0.941909</td>\n",
       "      <td>0.737013</td>\n",
       "      <td>0.826958</td>\n",
       "      <td>0.738196</td>\n",
       "    </tr>\n",
       "    <tr>\n",
       "      <th>6</th>\n",
       "      <td>CountVectorizer()</td>\n",
       "      <td>DecisionTreeClassifier(random_state=42)</td>\n",
       "      <td>0.844881</td>\n",
       "      <td>0.751807</td>\n",
       "      <td>0.933610</td>\n",
       "      <td>0.721154</td>\n",
       "      <td>0.813743</td>\n",
       "      <td>0.716805</td>\n",
       "    </tr>\n",
       "    <tr>\n",
       "      <th>7</th>\n",
       "      <td>CountVectorizer()</td>\n",
       "      <td>RandomForestClassifier(n_jobs=-1, random_state...</td>\n",
       "      <td>0.802482</td>\n",
       "      <td>0.746988</td>\n",
       "      <td>0.995851</td>\n",
       "      <td>0.697674</td>\n",
       "      <td>0.820513</td>\n",
       "      <td>0.699075</td>\n",
       "    </tr>\n",
       "    <tr>\n",
       "      <th>8</th>\n",
       "      <td>TfidfVectorizer()</td>\n",
       "      <td>RandomForestClassifier(n_jobs=-1, random_state...</td>\n",
       "      <td>0.804550</td>\n",
       "      <td>0.734940</td>\n",
       "      <td>0.983402</td>\n",
       "      <td>0.690962</td>\n",
       "      <td>0.811644</td>\n",
       "      <td>0.687104</td>\n",
       "    </tr>\n",
       "    <tr>\n",
       "      <th>9</th>\n",
       "      <td>CountVectorizer()</td>\n",
       "      <td>KNeighborsClassifier()</td>\n",
       "      <td>0.953464</td>\n",
       "      <td>0.607229</td>\n",
       "      <td>0.817427</td>\n",
       "      <td>0.623418</td>\n",
       "      <td>0.707361</td>\n",
       "      <td>0.566760</td>\n",
       "    </tr>\n",
       "    <tr>\n",
       "      <th>10</th>\n",
       "      <td>TfidfVectorizer()</td>\n",
       "      <td>KNeighborsClassifier()</td>\n",
       "      <td>1.000000</td>\n",
       "      <td>0.580723</td>\n",
       "      <td>1.000000</td>\n",
       "      <td>0.580723</td>\n",
       "      <td>0.734756</td>\n",
       "      <td>0.500000</td>\n",
       "    </tr>\n",
       "  </tbody>\n",
       "</table>\n",
       "</div>"
      ],
      "text/plain": [
       "           Vectorizer                                         Classifier  \\\n",
       "0   TfidfVectorizer()                                    MultinomialNB()   \n",
       "1   CountVectorizer()                                    MultinomialNB()   \n",
       "2   TfidfVectorizer()                               SVC(random_state=42)   \n",
       "3   CountVectorizer()  LogisticRegression(max_iter=1000, random_state...   \n",
       "4   TfidfVectorizer()  LogisticRegression(max_iter=1000, random_state...   \n",
       "5   TfidfVectorizer()            DecisionTreeClassifier(random_state=42)   \n",
       "6   CountVectorizer()            DecisionTreeClassifier(random_state=42)   \n",
       "7   CountVectorizer()  RandomForestClassifier(n_jobs=-1, random_state...   \n",
       "8   TfidfVectorizer()  RandomForestClassifier(n_jobs=-1, random_state...   \n",
       "9   CountVectorizer()                             KNeighborsClassifier()   \n",
       "10  TfidfVectorizer()                             KNeighborsClassifier()   \n",
       "\n",
       "    Train Accuracy Score  Test Accuracy Score    Recall  Precision  F1-Score  \\\n",
       "0               0.950362             0.824096  0.921162   0.804348  0.858801   \n",
       "1               0.914168             0.821687  0.871369   0.830040  0.850202   \n",
       "2               0.986556             0.819277  0.883817   0.819231  0.850299   \n",
       "3               0.931748             0.804819  0.908714   0.787770  0.843931   \n",
       "4               0.893485             0.804819  0.950207   0.768456  0.849722   \n",
       "5               0.796277             0.771084  0.941909   0.737013  0.826958   \n",
       "6               0.844881             0.751807  0.933610   0.721154  0.813743   \n",
       "7               0.802482             0.746988  0.995851   0.697674  0.820513   \n",
       "8               0.804550             0.734940  0.983402   0.690962  0.811644   \n",
       "9               0.953464             0.607229  0.817427   0.623418  0.707361   \n",
       "10              1.000000             0.580723  1.000000   0.580723  0.734756   \n",
       "\n",
       "     ROC-AUC  \n",
       "0   0.805408  \n",
       "1   0.812121  \n",
       "2   0.806851  \n",
       "3   0.784817  \n",
       "4   0.776828  \n",
       "5   0.738196  \n",
       "6   0.716805  \n",
       "7   0.699075  \n",
       "8   0.687104  \n",
       "9   0.566760  \n",
       "10  0.500000  "
      ]
     },
     "execution_count": 47,
     "metadata": {},
     "output_type": "execute_result"
    }
   ],
   "source": [
    "model_performance.reset_index(drop=True)"
   ]
  },
  {
   "cell_type": "markdown",
   "metadata": {},
   "source": [
    "Model Observations"
   ]
  },
  {
   "cell_type": "markdown",
   "metadata": {},
   "source": [
    "Overall, all of the models have performed well and beat the baseline score. \n",
    "\n",
    "1. There are at least 5 models with test accuracy score of more than 80%. These 5 models also have comparable roc-auc scores with test accuracy scores.\n",
    "2. On average, both the Multinomial Naive Bayes models and Logistic Regression models performed the best despite SVM model achieving the highest test accuracy scores.\n",
    "3. Both K Nearest Neighbors models have very low test accuracy scores and are the worst performing models. However, they also have really high, if not the best train accuracy scores, showing signs of overfitting despite hyperparamter tuning. \n",
    "4. On average, TFDIF Vectorizer performs better than Count Vectorizer"
   ]
  },
  {
   "cell_type": "markdown",
   "metadata": {},
   "source": [
    "###### Top 2 Models"
   ]
  },
  {
   "cell_type": "markdown",
   "metadata": {},
   "source": [
    "Let us compare our top 2 models and dwell into their evaluation metrics to see which model has performed the best."
   ]
  },
  {
   "cell_type": "code",
   "execution_count": 48,
   "metadata": {},
   "outputs": [
    {
     "data": {
      "text/html": [
       "<div>\n",
       "<style scoped>\n",
       "    .dataframe tbody tr th:only-of-type {\n",
       "        vertical-align: middle;\n",
       "    }\n",
       "\n",
       "    .dataframe tbody tr th {\n",
       "        vertical-align: top;\n",
       "    }\n",
       "\n",
       "    .dataframe thead th {\n",
       "        text-align: right;\n",
       "    }\n",
       "</style>\n",
       "<table border=\"1\" class=\"dataframe\">\n",
       "  <thead>\n",
       "    <tr style=\"text-align: right;\">\n",
       "      <th></th>\n",
       "      <th>Vectorizer</th>\n",
       "      <th>Classifier</th>\n",
       "      <th>Train Accuracy Score</th>\n",
       "      <th>Test Accuracy Score</th>\n",
       "      <th>Recall</th>\n",
       "      <th>Precision</th>\n",
       "      <th>F1-Score</th>\n",
       "      <th>ROC-AUC</th>\n",
       "    </tr>\n",
       "  </thead>\n",
       "  <tbody>\n",
       "    <tr>\n",
       "      <th>0</th>\n",
       "      <td>TfidfVectorizer()</td>\n",
       "      <td>MultinomialNB()</td>\n",
       "      <td>0.950362</td>\n",
       "      <td>0.824096</td>\n",
       "      <td>0.921162</td>\n",
       "      <td>0.804348</td>\n",
       "      <td>0.858801</td>\n",
       "      <td>0.805408</td>\n",
       "    </tr>\n",
       "    <tr>\n",
       "      <th>1</th>\n",
       "      <td>TfidfVectorizer()</td>\n",
       "      <td>SVC(random_state=42)</td>\n",
       "      <td>0.986556</td>\n",
       "      <td>0.819277</td>\n",
       "      <td>0.883817</td>\n",
       "      <td>0.819231</td>\n",
       "      <td>0.850299</td>\n",
       "      <td>0.806851</td>\n",
       "    </tr>\n",
       "  </tbody>\n",
       "</table>\n",
       "</div>"
      ],
      "text/plain": [
       "          Vectorizer            Classifier  Train Accuracy Score  \\\n",
       "0  TfidfVectorizer()       MultinomialNB()              0.950362   \n",
       "1  TfidfVectorizer()  SVC(random_state=42)              0.986556   \n",
       "\n",
       "   Test Accuracy Score    Recall  Precision  F1-Score   ROC-AUC  \n",
       "0             0.824096  0.921162   0.804348  0.858801  0.805408  \n",
       "1             0.819277  0.883817   0.819231  0.850299  0.806851  "
      ]
     },
     "execution_count": 48,
     "metadata": {},
     "output_type": "execute_result"
    }
   ],
   "source": [
    "model_performance.iloc[[0,2]].reset_index(drop= True)"
   ]
  },
  {
   "cell_type": "markdown",
   "metadata": {},
   "source": [
    "As seen above, the SVM model has an edge over the Mulitnomial NB model on the train accuracy score, however differs only by approximately 0.5% for the test accuracy scores. The test accuracy scores perform well against the roc-auc scores as well."
   ]
  },
  {
   "cell_type": "markdown",
   "metadata": {},
   "source": [
    "##### Evaluation Metrics"
   ]
  },
  {
   "cell_type": "markdown",
   "metadata": {},
   "source": [
    "###### Confusion Matrix"
   ]
  },
  {
   "cell_type": "markdown",
   "metadata": {},
   "source": [
    "Let us look at the confusion matrix for both models based on their best estimators. "
   ]
  },
  {
   "cell_type": "raw",
   "metadata": {},
   "source": [
    "For the SVM Model, the best estimators are:\n",
    "Pipeline(steps=[('tfidf', TfidfVectorizer(max_df=0.9, ngram_range=(1, 2))),\n",
    "                ('svc', SVC(C=1, kernel='sigmoid', random_state=42))])"
   ]
  },
  {
   "cell_type": "raw",
   "metadata": {},
   "source": [
    "For the Multinomial NB Model, the best estimators are:\n",
    "Pipeline(steps=[('tfidf',\n",
    "                 TfidfVectorizer(max_df=0.9, max_features=2000, min_df=2)),\n",
    "                ('mnb', MultinomialNB(alpha=0.2))])"
   ]
  },
  {
   "cell_type": "markdown",
   "metadata": {},
   "source": [
    "The best vectorizer appears to TFIDF vectorizer. So we will instantiate that first."
   ]
  },
  {
   "cell_type": "code",
   "execution_count": 49,
   "metadata": {},
   "outputs": [],
   "source": [
    "vec = TfidfVectorizer(max_df=0.9)"
   ]
  },
  {
   "cell_type": "code",
   "execution_count": 50,
   "metadata": {},
   "outputs": [],
   "source": [
    "X_train_vec = vec.fit_transform(X_train)\n",
    "X_test_vec = vec.transform(X_test)"
   ]
  },
  {
   "cell_type": "markdown",
   "metadata": {},
   "source": [
    "*Best SVM Model*"
   ]
  },
  {
   "cell_type": "code",
   "execution_count": 51,
   "metadata": {},
   "outputs": [
    {
     "data": {
      "text/plain": [
       "SVC(C=1, kernel='sigmoid')"
      ]
     },
     "execution_count": 51,
     "metadata": {},
     "output_type": "execute_result"
    }
   ],
   "source": [
    "#instantiate model and fit x_train, y_train\n",
    "svc = SVC(kernel = 'sigmoid', C=1)\n",
    "svc.fit(X_train_vec, y_train)"
   ]
  },
  {
   "cell_type": "markdown",
   "metadata": {},
   "source": [
    "*Best Multinomial NB Model*"
   ]
  },
  {
   "cell_type": "code",
   "execution_count": 85,
   "metadata": {},
   "outputs": [
    {
     "data": {
      "text/plain": [
       "MultinomialNB(alpha=0.2)"
      ]
     },
     "execution_count": 85,
     "metadata": {},
     "output_type": "execute_result"
    }
   ],
   "source": [
    "#instantiate model and fit x_train, y_train\n",
    "mnb = MultinomialNB(alpha = 0.2)\n",
    "mnb.fit(X_train_vec, y_train)"
   ]
  },
  {
   "cell_type": "markdown",
   "metadata": {},
   "source": [
    "*Plotting confusion matrix*"
   ]
  },
  {
   "cell_type": "code",
   "execution_count": 53,
   "metadata": {},
   "outputs": [
    {
     "data": {
      "image/png": "[encoded data removed]",
      "text/plain": [
       "<Figure size 720x360 with 4 Axes>"
      ]
     },
     "metadata": {
      "needs_background": "light"
     },
     "output_type": "display_data"
    }
   ],
   "source": [
    "fig, ax = plt.subplots(1, 2, figsize= (10,5)) #for both subreddits\n",
    "ax = ax.ravel()\n",
    "    \n",
    "#SVC Model confusion matrix \n",
    "plot_confusion_matrix(svc, X_test_vec, y_test, normalize = 'true', ax = ax[0], cmap=plt.cm.Blues)\n",
    "ax[0].set_title('SVC Model Confusion matrix', fontsize=14)\n",
    "    \n",
    "#Multinomial NB Model confusion matrix \n",
    "plot_confusion_matrix(mnb, X_test_vec, y_test, normalize = 'true', ax = ax[1], cmap=plt.cm.Reds)\n",
    "ax[1].set_title('MNB Model Confusion matrix', fontsize=14)\n",
    "    \n",
    "fig.tight_layout()"
   ]
  },
  {
   "cell_type": "markdown",
   "metadata": {},
   "source": [
    "To recall,   \n",
    "  - 0 for datascience\n",
    "  - 1 for SoftwareEngineering\n",
    "\n",
    "\n",
    "From the confusion matrix, it appears that both models seem to have comparable results. The Multinomial model is slightly better at predicting r/SoftwareEngineering as compared to the SVC model."
   ]
  },
  {
   "cell_type": "markdown",
   "metadata": {},
   "source": [
    "***ROC Curve***"
   ]
  },
  {
   "cell_type": "code",
   "execution_count": 54,
   "metadata": {},
   "outputs": [
    {
     "data": {
      "image/png": "[encoded data removed]",
      "text/plain": [
       "<Figure size 720x648 with 1 Axes>"
      ]
     },
     "metadata": {
      "needs_background": "light"
     },
     "output_type": "display_data"
    }
   ],
   "source": [
    "fig, ax = plt.subplots(1, 1, figsize= (10,9))\n",
    "\n",
    "#baseline plot\n",
    "plt.plot(np.linspace(0,1,200), np.linspace(0,1,200), label ='Baseline')\n",
    "\n",
    "#svc roc curve\n",
    "plot_roc_curve(svc, X_test_vec, y_test, ax=ax)\n",
    "\n",
    "#mnb roc curve\n",
    "plot_roc_curve(mnb, X_test_vec, y_test, ax=ax)\n",
    "\n",
    "plt.title('ROC Curve for Top 2 Models', fontsize = 18)\n",
    "plt.tight_layout()"
   ]
  },
  {
   "cell_type": "markdown",
   "metadata": {},
   "source": [
    "From the ROC Curve, it is evident that Multinomial model is a better model even though both have high and comparable AUC scores."
   ]
  },
  {
   "cell_type": "markdown",
   "metadata": {},
   "source": [
    "***Feature Importance***"
   ]
  },
  {
   "cell_type": "markdown",
   "metadata": {},
   "source": [
    "Besides observing the predictive features of the models, we can also take a look at how these models evaluate their features."
   ]
  },
  {
   "cell_type": "markdown",
   "metadata": {},
   "source": [
    "*Multinomial NB*"
   ]
  },
  {
   "cell_type": "markdown",
   "metadata": {},
   "source": [
    "Let us take a look at the multinomial NB's feature importance and compare it with our top 20 words identified in the first notebook."
   ]
  },
  {
   "cell_type": "code",
   "execution_count": 78,
   "metadata": {},
   "outputs": [],
   "source": [
    "# Extracting top 15 important features for each subreddit\n",
    "ds_prob = mnb.feature_log_prob_[0, :].argsort()[::-1]\n",
    "se_prob = mnb.feature_log_prob_[1, :].argsort()[::-1] \n",
    "ds_prob = ds_prob[:20]\n",
    "se_prob = se_prob[:20]"
   ]
  },
  {
   "cell_type": "code",
   "execution_count": 79,
   "metadata": {},
   "outputs": [],
   "source": [
    "ds_list = np.take(vec.get_feature_names(), ds_prob)\n",
    "se_list = np.take(vec.get_feature_names(), se_prob)"
   ]
  },
  {
   "cell_type": "code",
   "execution_count": 80,
   "metadata": {},
   "outputs": [],
   "source": [
    "ds_feature = pd.DataFrame(data = ds_list)\n",
    "se_feature = pd.DataFrame(data = se_list)\n",
    "\n",
    "ds_feature['log probability'] = ds_prob\n",
    "se_feature['log probability'] = ds_prob\n",
    "\n",
    "ds_feature.columns = ['words','log probability' ]\n",
    "se_feature.columns = ['words','log probability' ]\n",
    "\n",
    "ds_feature.sort_values(by = 'log probability', ascending = False, inplace = True)\n",
    "se_feature.sort_values(by = 'log probability', ascending = False, inplace = True)"
   ]
  },
  {
   "cell_type": "code",
   "execution_count": 82,
   "metadata": {},
   "outputs": [
    {
     "data": {
      "image/png": "[encoded data removed]",
      "text/plain": [
       "<Figure size 864x576 with 2 Axes>"
      ]
     },
     "metadata": {
      "needs_background": "light"
     },
     "output_type": "display_data"
    }
   ],
   "source": [
    "fig, ax = plt.subplots(1, 2, figsize= (12,8)) #for both subreddits\n",
    "ax = ax.ravel()\n",
    "    \n",
    "#datascience barplot\n",
    "sns.barplot(data = ds_feature,\n",
    "                x ='log probability',\n",
    "                y ='words',\n",
    "                ax = ax[0],\n",
    "                palette=\"rocket\")\n",
    "ax[0].set_title(f'Top 20 features r/datascience', fontsize=14)\n",
    "    \n",
    " #softwareengineering barplot\n",
    "sns.barplot(data = se_feature,\n",
    "                x ='log probability',\n",
    "                y ='words',\n",
    "                ax = ax[1],\n",
    "                palette=\"mako\")\n",
    "ax[1].set_title(f'Top 20 features for r/SoftwareEngineering', fontsize=14)\n",
    "    \n",
    "fig.tight_layout()"
   ]
  },
  {
   "cell_type": "markdown",
   "metadata": {},
   "source": [
    "With comparison with our top 20 n-grams identified in part 1, there seems to be similarity between the top 20 words, showing high predicitability characteristics."
   ]
  },
  {
   "cell_type": "markdown",
   "metadata": {},
   "source": [
    "*SVM*"
   ]
  },
  {
   "cell_type": "markdown",
   "metadata": {},
   "source": [
    "To determine best features for a Support Vector Classifier, we are able to do so with the coeficient values of the features. However, this works best with the linear kernel whereas our best model makes use of the sigmoid kernel. It is not possible to determine best features as the resulting separating plane exists in another place."
   ]
  },
  {
   "cell_type": "markdown",
   "metadata": {},
   "source": [
    "Therefore, our best model is the Multinomial Naive Bayes - TFIDF Vectorizer based on all of our evaluation metrics."
   ]
  },
  {
   "cell_type": "markdown",
   "metadata": {},
   "source": [
    "##### Misclassification Analysis"
   ]
  },
  {
   "cell_type": "markdown",
   "metadata": {},
   "source": [
    "Let us look at misclassfied posts by our best model."
   ]
  },
  {
   "cell_type": "code",
   "execution_count": 91,
   "metadata": {},
   "outputs": [
    {
     "data": {
      "text/html": [
       "<div>\n",
       "<style scoped>\n",
       "    .dataframe tbody tr th:only-of-type {\n",
       "        vertical-align: middle;\n",
       "    }\n",
       "\n",
       "    .dataframe tbody tr th {\n",
       "        vertical-align: top;\n",
       "    }\n",
       "\n",
       "    .dataframe thead th {\n",
       "        text-align: right;\n",
       "    }\n",
       "</style>\n",
       "<table border=\"1\" class=\"dataframe\">\n",
       "  <thead>\n",
       "    <tr style=\"text-align: right;\">\n",
       "      <th></th>\n",
       "      <th>predictions</th>\n",
       "      <th>index</th>\n",
       "      <th>label</th>\n",
       "      <th>ds_prob</th>\n",
       "      <th>se_prob</th>\n",
       "    </tr>\n",
       "  </thead>\n",
       "  <tbody>\n",
       "    <tr>\n",
       "      <th>0</th>\n",
       "      <td>0</td>\n",
       "      <td>241</td>\n",
       "      <td>0</td>\n",
       "      <td>0.546746</td>\n",
       "      <td>0.453254</td>\n",
       "    </tr>\n",
       "    <tr>\n",
       "      <th>1</th>\n",
       "      <td>1</td>\n",
       "      <td>1340</td>\n",
       "      <td>1</td>\n",
       "      <td>0.290303</td>\n",
       "      <td>0.709697</td>\n",
       "    </tr>\n",
       "    <tr>\n",
       "      <th>2</th>\n",
       "      <td>1</td>\n",
       "      <td>409</td>\n",
       "      <td>0</td>\n",
       "      <td>0.433161</td>\n",
       "      <td>0.566839</td>\n",
       "    </tr>\n",
       "    <tr>\n",
       "      <th>3</th>\n",
       "      <td>1</td>\n",
       "      <td>1363</td>\n",
       "      <td>1</td>\n",
       "      <td>0.121688</td>\n",
       "      <td>0.878312</td>\n",
       "    </tr>\n",
       "    <tr>\n",
       "      <th>4</th>\n",
       "      <td>0</td>\n",
       "      <td>656</td>\n",
       "      <td>1</td>\n",
       "      <td>0.650264</td>\n",
       "      <td>0.349736</td>\n",
       "    </tr>\n",
       "    <tr>\n",
       "      <th>...</th>\n",
       "      <td>...</td>\n",
       "      <td>...</td>\n",
       "      <td>...</td>\n",
       "      <td>...</td>\n",
       "      <td>...</td>\n",
       "    </tr>\n",
       "    <tr>\n",
       "      <th>410</th>\n",
       "      <td>0</td>\n",
       "      <td>548</td>\n",
       "      <td>0</td>\n",
       "      <td>0.826764</td>\n",
       "      <td>0.173236</td>\n",
       "    </tr>\n",
       "    <tr>\n",
       "      <th>411</th>\n",
       "      <td>1</td>\n",
       "      <td>636</td>\n",
       "      <td>1</td>\n",
       "      <td>0.274231</td>\n",
       "      <td>0.725769</td>\n",
       "    </tr>\n",
       "    <tr>\n",
       "      <th>412</th>\n",
       "      <td>0</td>\n",
       "      <td>267</td>\n",
       "      <td>0</td>\n",
       "      <td>0.716961</td>\n",
       "      <td>0.283039</td>\n",
       "    </tr>\n",
       "    <tr>\n",
       "      <th>413</th>\n",
       "      <td>0</td>\n",
       "      <td>315</td>\n",
       "      <td>0</td>\n",
       "      <td>0.600401</td>\n",
       "      <td>0.399599</td>\n",
       "    </tr>\n",
       "    <tr>\n",
       "      <th>414</th>\n",
       "      <td>1</td>\n",
       "      <td>343</td>\n",
       "      <td>0</td>\n",
       "      <td>0.238342</td>\n",
       "      <td>0.761658</td>\n",
       "    </tr>\n",
       "  </tbody>\n",
       "</table>\n",
       "<p>415 rows × 5 columns</p>\n",
       "</div>"
      ],
      "text/plain": [
       "     predictions  index  label   ds_prob   se_prob\n",
       "0              0    241      0  0.546746  0.453254\n",
       "1              1   1340      1  0.290303  0.709697\n",
       "2              1    409      0  0.433161  0.566839\n",
       "3              1   1363      1  0.121688  0.878312\n",
       "4              0    656      1  0.650264  0.349736\n",
       "..           ...    ...    ...       ...       ...\n",
       "410            0    548      0  0.826764  0.173236\n",
       "411            1    636      1  0.274231  0.725769\n",
       "412            0    267      0  0.716961  0.283039\n",
       "413            0    315      0  0.600401  0.399599\n",
       "414            1    343      0  0.238342  0.761658\n",
       "\n",
       "[415 rows x 5 columns]"
      ]
     },
     "execution_count": 91,
     "metadata": {},
     "output_type": "execute_result"
    }
   ],
   "source": [
    "predict = pd.DataFrame(mnb.predict(X_test_vec), columns =[ 'predictions'])\n",
    "predict = predict.join(y_test.reset_index())\n",
    "predictproba = pd.DataFrame(mnb.predict_proba(X_test_vec), columns = ['ds_prob', 'se_prob'])\n",
    "predict.join(predictproba)"
   ]
  },
  {
   "cell_type": "code",
   "execution_count": 93,
   "metadata": {},
   "outputs": [
    {
     "data": {
      "text/html": [
       "<div>\n",
       "<style scoped>\n",
       "    .dataframe tbody tr th:only-of-type {\n",
       "        vertical-align: middle;\n",
       "    }\n",
       "\n",
       "    .dataframe tbody tr th {\n",
       "        vertical-align: top;\n",
       "    }\n",
       "\n",
       "    .dataframe thead th {\n",
       "        text-align: right;\n",
       "    }\n",
       "</style>\n",
       "<table border=\"1\" class=\"dataframe\">\n",
       "  <thead>\n",
       "    <tr style=\"text-align: right;\">\n",
       "      <th></th>\n",
       "      <th>predictions</th>\n",
       "      <th>index</th>\n",
       "      <th>label</th>\n",
       "    </tr>\n",
       "  </thead>\n",
       "  <tbody>\n",
       "    <tr>\n",
       "      <th>2</th>\n",
       "      <td>1</td>\n",
       "      <td>409</td>\n",
       "      <td>0</td>\n",
       "    </tr>\n",
       "    <tr>\n",
       "      <th>4</th>\n",
       "      <td>0</td>\n",
       "      <td>656</td>\n",
       "      <td>1</td>\n",
       "    </tr>\n",
       "    <tr>\n",
       "      <th>14</th>\n",
       "      <td>1</td>\n",
       "      <td>27</td>\n",
       "      <td>0</td>\n",
       "    </tr>\n",
       "    <tr>\n",
       "      <th>16</th>\n",
       "      <td>1</td>\n",
       "      <td>260</td>\n",
       "      <td>0</td>\n",
       "    </tr>\n",
       "    <tr>\n",
       "      <th>22</th>\n",
       "      <td>0</td>\n",
       "      <td>1296</td>\n",
       "      <td>1</td>\n",
       "    </tr>\n",
       "    <tr>\n",
       "      <th>...</th>\n",
       "      <td>...</td>\n",
       "      <td>...</td>\n",
       "      <td>...</td>\n",
       "    </tr>\n",
       "    <tr>\n",
       "      <th>397</th>\n",
       "      <td>1</td>\n",
       "      <td>509</td>\n",
       "      <td>0</td>\n",
       "    </tr>\n",
       "    <tr>\n",
       "      <th>404</th>\n",
       "      <td>1</td>\n",
       "      <td>417</td>\n",
       "      <td>0</td>\n",
       "    </tr>\n",
       "    <tr>\n",
       "      <th>405</th>\n",
       "      <td>1</td>\n",
       "      <td>87</td>\n",
       "      <td>0</td>\n",
       "    </tr>\n",
       "    <tr>\n",
       "      <th>409</th>\n",
       "      <td>1</td>\n",
       "      <td>283</td>\n",
       "      <td>0</td>\n",
       "    </tr>\n",
       "    <tr>\n",
       "      <th>414</th>\n",
       "      <td>1</td>\n",
       "      <td>343</td>\n",
       "      <td>0</td>\n",
       "    </tr>\n",
       "  </tbody>\n",
       "</table>\n",
       "<p>77 rows × 3 columns</p>\n",
       "</div>"
      ],
      "text/plain": [
       "     predictions  index  label\n",
       "2              1    409      0\n",
       "4              0    656      1\n",
       "14             1     27      0\n",
       "16             1    260      0\n",
       "22             0   1296      1\n",
       "..           ...    ...    ...\n",
       "397            1    509      0\n",
       "404            1    417      0\n",
       "405            1     87      0\n",
       "409            1    283      0\n",
       "414            1    343      0\n",
       "\n",
       "[77 rows x 3 columns]"
      ]
     },
     "execution_count": 93,
     "metadata": {},
     "output_type": "execute_result"
    }
   ],
   "source": [
    "predict[predict['predictions'] != predict['label']]"
   ]
  },
  {
   "cell_type": "markdown",
   "metadata": {},
   "source": [
    "From our analysis, we can see that our best model has misclassified 77 rows, which is almost 19% of the data, which is not favourable if we were to deploy our model on unseen data."
   ]
  },
  {
   "cell_type": "markdown",
   "metadata": {},
   "source": [
    "#### Conclusion and  Limitations"
   ]
  },
  {
   "cell_type": "markdown",
   "metadata": {},
   "source": [
    "In summary, we have made effective use of Natural Language Processing to distinguish posts between subreddits through multiple machine learning models. From our model performance and evaluation using classification evaluation metrics, we have identified Multinomial Naive Bayes implemented with the TFIDF Vectorizer to be the best model."
   ]
  },
  {
   "cell_type": "markdown",
   "metadata": {},
   "source": [
    "However, this was build upon certain limitations. As we were required to use Reddit's API for this project, we are restricted to retrieving 25 posts each time and hence 1000 posts a day. This hinders the amount of data we can collect and hence implement on our models. This is why we see multiple models showing signs of overfitting with higher training scores then testing scores. This can be combated with a larger amount of data compared to what we have presently.\n",
    "\n",
    "Additionally, there were a limited number of models used for our investigation. This investigation can be enhanced by tapping into other Vectorizers such as Hashing Vectorizer as well as other hyperparameter optimisation techniques such as RandomisedCV. We can also look at boosting and bagging models to enhance our model performance further.\n",
    "\n",
    "Another way to approach this problem is looking into sentiment analysis and seeing if we can classify our posts better using postive and negative posts."
   ]
  },
  {
   "cell_type": "markdown",
   "metadata": {},
   "source": [
    "###### Recommendations"
   ]
  },
  {
   "cell_type": "markdown",
   "metadata": {},
   "source": [
    "This research can be beneficial to stakeholders who are interested in the 'data science' and 'software engineering' themes to look at what users are interested in these days and the type of content they engage in or reach out for in these subreddits. Feature importance, as identified earlier, can aid these stakeholders in understanding the kind of content users engage in the respective subreddits."
   ]
  },
  {
   "cell_type": "markdown",
   "metadata": {},
   "source": [
    "This is the end of the second notebook."
   ]
  }
 ],
 "metadata": {
  "kernelspec": {
   "display_name": "Python 3",
   "language": "python",
   "name": "python3"
  },
  "language_info": {
   "codemirror_mode": {
    "name": "ipython",
    "version": 3
   },
   "file_extension": ".py",
   "mimetype": "text/x-python",
   "name": "python",
   "nbconvert_exporter": "python",
   "pygments_lexer": "ipython3",
   "version": "3.8.5"
  },
  "toc": {
   "base_numbering": 1,
   "nav_menu": {},
   "number_sections": true,
   "sideBar": true,
   "skip_h1_title": true,
   "title_cell": "Table of Contents",
   "title_sidebar": "Contents",
   "toc_cell": false,
   "toc_position": {
    "height": "calc(100% - 180px)",
    "left": "10px",
    "top": "150px",
    "width": "426.667px"
   },
   "toc_section_display": true,
   "toc_window_display": true
  }
 },
 "nbformat": 4,
 "nbformat_minor": 5
}
