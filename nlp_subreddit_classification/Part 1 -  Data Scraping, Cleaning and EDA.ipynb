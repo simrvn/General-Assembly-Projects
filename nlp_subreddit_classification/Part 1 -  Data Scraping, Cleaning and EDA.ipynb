{
 "cells": [
  {
   "cell_type": "markdown",
   "metadata": {},
   "source": [
    "# Project 3 - WEB APIs and NLP Classification - Subreddits\n",
    "# Part 1 - Data Scraping, Cleaning and EDA"
   ]
  },
  {
   "cell_type": "markdown",
   "metadata": {},
   "source": [
    "## Problem Statement"
   ]
  },
  {
   "cell_type": "markdown",
   "metadata": {},
   "source": [
    "[Natural Language Processing (NLP)](https://en.wikipedia.org/wiki/Natural_language_processing) is a hyponym of computer science and artificial intelligence that focus on the interactions between computers and natural human languages like English, for example. Ultimately the purpose of NLP is to read, understand and decipher human languages in a way that it is valuable.\n",
    "\n",
    "In this project, we will be using NLP to distinguish posts from two subreddit posts i.e. r/datascience and r/SoftwareEngineering. To solve this binary classfication problem will also be looking at mulitple supervised machine learning models to help us distinguish our posts. However, with numerous machine learning models, how do we decide which model is the best to help us in our task?\n",
    "\n",
    "\n",
    "*Problem Statement: Which classfication model can best distinguish which subreddit a post belongs to?*\n",
    "\n",
    "\n",
    "We will be looking at various evaluation metrics for classifications models, such as the train and test accuracy scores, precision and recall scores, f1-score, and the ROC AUC score to evaluate the performances of our models and both the train and test data and pick the best model that caters to our task.\n",
    "\n",
    "This project will be split into two notebooks:\n",
    "\n",
    "Part 1 - Data Scraping, Cleaning and EDA\n",
    "\n",
    "Part 2 - Modelling and Evaluation"
   ]
  },
  {
   "cell_type": "markdown",
   "metadata": {},
   "source": [
    "## Data Scraping"
   ]
  },
  {
   "cell_type": "markdown",
   "metadata": {},
   "source": [
    "The dataset for both subreddits was extracted using Reddit's API that allowed for 1000 posts to be extracted per day. Reddit only provides up to 25 posts each time, hence a for loop was used to hit the API multiple times to extract at least 1000 posts, including the use of time.sleep() function to allow for breaks between requests.\n",
    "\n",
    "Result:\n",
    "\n",
    "For the r/datascience subreddit, we managed to extract 1016 posts and for the r/SoftwareEngineering we managed to extract 1008 posts. \n",
    "\n",
    "The entire data scraping process can be found in the appendix titled as 'Data Scraping - Appendix' Notebook.\n",
    "The raw datasets can be found in the 'data' folder titled as 'datascience.csv' and 'softwareengin.csv' respectively. We will be using these datasets for the rest of the project."
   ]
  },
  {
   "cell_type": "markdown",
   "metadata": {},
   "source": [
    "## Data Cleaning"
   ]
  },
  {
   "cell_type": "markdown",
   "metadata": {},
   "source": [
    "Let us import all the libraries that we need for this notebook and read in our datasets."
   ]
  },
  {
   "cell_type": "code",
   "execution_count": 1,
   "metadata": {},
   "outputs": [],
   "source": [
    "#import libraries\n",
    "import pandas as pd\n",
    "import numpy as np\n",
    "import matplotlib.pyplot as plt\n",
    "import seaborn as sns\n",
    "from sklearn.model_selection import train_test_split\n",
    "\n",
    "from bs4 import BeautifulSoup\n",
    "import re as re\n",
    "import nltk\n",
    "from nltk.stem import WordNetLemmatizer\n",
    "from nltk.stem.porter import PorterStemmer\n",
    "from nltk.corpus import stopwords\n",
    "from sklearn.feature_extraction.text import CountVectorizer\n",
    "\n",
    "%matplotlib inline"
   ]
  },
  {
   "cell_type": "code",
   "execution_count": 2,
   "metadata": {},
   "outputs": [],
   "source": [
    "ds = pd.read_csv(\n",
    "    './data/datascience.csv',\n",
    "    usecols=['subreddit', 'selftext', 'title', 'author']\n",
    ")\n",
    "se= pd.read_csv(\n",
    "    './data/softwareengin.csv', \n",
    "    usecols=['subreddit', 'selftext', 'title', 'author']\n",
    ")"
   ]
  },
  {
   "cell_type": "markdown",
   "metadata": {},
   "source": [
    "Let's look at an overview of our subreddit datasets."
   ]
  },
  {
   "cell_type": "code",
   "execution_count": 3,
   "metadata": {},
   "outputs": [
    {
     "data": {
      "text/html": [
       "<div>\n",
       "<style scoped>\n",
       "    .dataframe tbody tr th:only-of-type {\n",
       "        vertical-align: middle;\n",
       "    }\n",
       "\n",
       "    .dataframe tbody tr th {\n",
       "        vertical-align: top;\n",
       "    }\n",
       "\n",
       "    .dataframe thead th {\n",
       "        text-align: right;\n",
       "    }\n",
       "</style>\n",
       "<table border=\"1\" class=\"dataframe\">\n",
       "  <thead>\n",
       "    <tr style=\"text-align: right;\">\n",
       "      <th></th>\n",
       "      <th>subreddit</th>\n",
       "      <th>selftext</th>\n",
       "      <th>title</th>\n",
       "      <th>author</th>\n",
       "    </tr>\n",
       "  </thead>\n",
       "  <tbody>\n",
       "    <tr>\n",
       "      <th>0</th>\n",
       "      <td>datascience</td>\n",
       "      <td>Welcome to this week's entering &amp;amp; transiti...</td>\n",
       "      <td>Weekly Entering &amp;amp; Transitioning Thread | 1...</td>\n",
       "      <td>datascience-bot</td>\n",
       "    </tr>\n",
       "    <tr>\n",
       "      <th>1</th>\n",
       "      <td>datascience</td>\n",
       "      <td>Hi Everyone, I am an industry data scientist. ...</td>\n",
       "      <td>What are some exciting new tools/libraries in ...</td>\n",
       "      <td>nyc_brand</td>\n",
       "    </tr>\n",
       "    <tr>\n",
       "      <th>2</th>\n",
       "      <td>datascience</td>\n",
       "      <td>NaN</td>\n",
       "      <td>Python or R, which programming language is bet...</td>\n",
       "      <td>iam_syndrome</td>\n",
       "    </tr>\n",
       "    <tr>\n",
       "      <th>3</th>\n",
       "      <td>datascience</td>\n",
       "      <td>I am a beginner and have learned Python, Panda...</td>\n",
       "      <td>What tools, language and technologies to learn...</td>\n",
       "      <td>Emperor-SuN-5</td>\n",
       "    </tr>\n",
       "    <tr>\n",
       "      <th>4</th>\n",
       "      <td>datascience</td>\n",
       "      <td>I read a lot of posts about how to land a data...</td>\n",
       "      <td>Some tips on how to go from academia to a Data...</td>\n",
       "      <td>_StunningStar_</td>\n",
       "    </tr>\n",
       "    <tr>\n",
       "      <th>5</th>\n",
       "      <td>datascience</td>\n",
       "      <td>Github link (includes a link to a Kaggle noteb...</td>\n",
       "      <td>ML Optimizers from scratch using JAX</td>\n",
       "      <td>shreyansh26</td>\n",
       "    </tr>\n",
       "    <tr>\n",
       "      <th>6</th>\n",
       "      <td>datascience</td>\n",
       "      <td>Hi,\\n\\nI have posted this on other subreddits ...</td>\n",
       "      <td>What approach do I use to analyze this F&amp;amp;B...</td>\n",
       "      <td>Professional_Crazy49</td>\n",
       "    </tr>\n",
       "    <tr>\n",
       "      <th>7</th>\n",
       "      <td>datascience</td>\n",
       "      <td>Hi,\\n\\nI have a dataset containing the monthly...</td>\n",
       "      <td>Crossvalidation using Facebook Prophet</td>\n",
       "      <td>xnxrxdh</td>\n",
       "    </tr>\n",
       "    <tr>\n",
       "      <th>8</th>\n",
       "      <td>datascience</td>\n",
       "      <td>Hey guys. Hope you are doing good today.\\n\\nI ...</td>\n",
       "      <td>Full Data engineering/ Data science Pipeline o...</td>\n",
       "      <td>Shyprogrammer1</td>\n",
       "    </tr>\n",
       "    <tr>\n",
       "      <th>9</th>\n",
       "      <td>datascience</td>\n",
       "      <td>I’m considering a switch to data engineering a...</td>\n",
       "      <td>Data Scientists who switched to Data Engineer,...</td>\n",
       "      <td>Dismal-Variation-12</td>\n",
       "    </tr>\n",
       "  </tbody>\n",
       "</table>\n",
       "</div>"
      ],
      "text/plain": [
       "     subreddit                                           selftext  \\\n",
       "0  datascience  Welcome to this week's entering &amp; transiti...   \n",
       "1  datascience  Hi Everyone, I am an industry data scientist. ...   \n",
       "2  datascience                                                NaN   \n",
       "3  datascience  I am a beginner and have learned Python, Panda...   \n",
       "4  datascience  I read a lot of posts about how to land a data...   \n",
       "5  datascience  Github link (includes a link to a Kaggle noteb...   \n",
       "6  datascience  Hi,\\n\\nI have posted this on other subreddits ...   \n",
       "7  datascience  Hi,\\n\\nI have a dataset containing the monthly...   \n",
       "8  datascience  Hey guys. Hope you are doing good today.\\n\\nI ...   \n",
       "9  datascience  I’m considering a switch to data engineering a...   \n",
       "\n",
       "                                               title                author  \n",
       "0  Weekly Entering &amp; Transitioning Thread | 1...       datascience-bot  \n",
       "1  What are some exciting new tools/libraries in ...             nyc_brand  \n",
       "2  Python or R, which programming language is bet...          iam_syndrome  \n",
       "3  What tools, language and technologies to learn...         Emperor-SuN-5  \n",
       "4  Some tips on how to go from academia to a Data...        _StunningStar_  \n",
       "5               ML Optimizers from scratch using JAX           shreyansh26  \n",
       "6  What approach do I use to analyze this F&amp;B...  Professional_Crazy49  \n",
       "7             Crossvalidation using Facebook Prophet               xnxrxdh  \n",
       "8  Full Data engineering/ Data science Pipeline o...        Shyprogrammer1  \n",
       "9  Data Scientists who switched to Data Engineer,...   Dismal-Variation-12  "
      ]
     },
     "execution_count": 3,
     "metadata": {},
     "output_type": "execute_result"
    }
   ],
   "source": [
    "ds.head(10)"
   ]
  },
  {
   "cell_type": "code",
   "execution_count": 4,
   "metadata": {},
   "outputs": [
    {
     "data": {
      "text/html": [
       "<div>\n",
       "<style scoped>\n",
       "    .dataframe tbody tr th:only-of-type {\n",
       "        vertical-align: middle;\n",
       "    }\n",
       "\n",
       "    .dataframe tbody tr th {\n",
       "        vertical-align: top;\n",
       "    }\n",
       "\n",
       "    .dataframe thead th {\n",
       "        text-align: right;\n",
       "    }\n",
       "</style>\n",
       "<table border=\"1\" class=\"dataframe\">\n",
       "  <thead>\n",
       "    <tr style=\"text-align: right;\">\n",
       "      <th></th>\n",
       "      <th>subreddit</th>\n",
       "      <th>selftext</th>\n",
       "      <th>title</th>\n",
       "      <th>author</th>\n",
       "    </tr>\n",
       "  </thead>\n",
       "  <tbody>\n",
       "    <tr>\n",
       "      <th>0</th>\n",
       "      <td>SoftwareEngineering</td>\n",
       "      <td># General\\n\\nThis is a place where high-level ...</td>\n",
       "      <td>Subreddit Guidelines</td>\n",
       "      <td>Tred27</td>\n",
       "    </tr>\n",
       "    <tr>\n",
       "      <th>1</th>\n",
       "      <td>SoftwareEngineering</td>\n",
       "      <td>I know C language does not include array bound...</td>\n",
       "      <td>PHP array bound checking</td>\n",
       "      <td>JEANB0Y</td>\n",
       "    </tr>\n",
       "    <tr>\n",
       "      <th>2</th>\n",
       "      <td>SoftwareEngineering</td>\n",
       "      <td>Our single page application (SPA) aims to allo...</td>\n",
       "      <td>Addressing a specific UI component in a web pa...</td>\n",
       "      <td>dacracot</td>\n",
       "    </tr>\n",
       "    <tr>\n",
       "      <th>3</th>\n",
       "      <td>SoftwareEngineering</td>\n",
       "      <td>I have a service which can have some stale dat...</td>\n",
       "      <td>Stale data: what should be resolving this?</td>\n",
       "      <td>Forumpy</td>\n",
       "    </tr>\n",
       "    <tr>\n",
       "      <th>4</th>\n",
       "      <td>SoftwareEngineering</td>\n",
       "      <td>Hi r/SoftwareEngineering!\\n\\nI'm curious what ...</td>\n",
       "      <td>What does your development database environmen...</td>\n",
       "      <td>cjheppell</td>\n",
       "    </tr>\n",
       "    <tr>\n",
       "      <th>5</th>\n",
       "      <td>SoftwareEngineering</td>\n",
       "      <td>NaN</td>\n",
       "      <td>For all of you who are (or are going to be) so...</td>\n",
       "      <td>explosive_rabbit</td>\n",
       "    </tr>\n",
       "    <tr>\n",
       "      <th>6</th>\n",
       "      <td>SoftwareEngineering</td>\n",
       "      <td>NaN</td>\n",
       "      <td>Four Reasons Why Apache Pulsar is Essential to...</td>\n",
       "      <td>nfrankel</td>\n",
       "    </tr>\n",
       "    <tr>\n",
       "      <th>7</th>\n",
       "      <td>SoftwareEngineering</td>\n",
       "      <td>I'm looking for book recommendations on the to...</td>\n",
       "      <td>Unusual Book Request</td>\n",
       "      <td>al3xth3gr8</td>\n",
       "    </tr>\n",
       "    <tr>\n",
       "      <th>8</th>\n",
       "      <td>SoftwareEngineering</td>\n",
       "      <td>NaN</td>\n",
       "      <td>Eleven Patterns, Problems &amp;amp; Solutions rela...</td>\n",
       "      <td>nfrankel</td>\n",
       "    </tr>\n",
       "    <tr>\n",
       "      <th>9</th>\n",
       "      <td>SoftwareEngineering</td>\n",
       "      <td>I have seen this problem in a couple of projec...</td>\n",
       "      <td>\"Multiple staging systems\" or how do you give ...</td>\n",
       "      <td>antonpirker</td>\n",
       "    </tr>\n",
       "  </tbody>\n",
       "</table>\n",
       "</div>"
      ],
      "text/plain": [
       "             subreddit                                           selftext  \\\n",
       "0  SoftwareEngineering  # General\\n\\nThis is a place where high-level ...   \n",
       "1  SoftwareEngineering  I know C language does not include array bound...   \n",
       "2  SoftwareEngineering  Our single page application (SPA) aims to allo...   \n",
       "3  SoftwareEngineering  I have a service which can have some stale dat...   \n",
       "4  SoftwareEngineering  Hi r/SoftwareEngineering!\\n\\nI'm curious what ...   \n",
       "5  SoftwareEngineering                                                NaN   \n",
       "6  SoftwareEngineering                                                NaN   \n",
       "7  SoftwareEngineering  I'm looking for book recommendations on the to...   \n",
       "8  SoftwareEngineering                                                NaN   \n",
       "9  SoftwareEngineering  I have seen this problem in a couple of projec...   \n",
       "\n",
       "                                               title            author  \n",
       "0                               Subreddit Guidelines            Tred27  \n",
       "1                           PHP array bound checking           JEANB0Y  \n",
       "2  Addressing a specific UI component in a web pa...          dacracot  \n",
       "3         Stale data: what should be resolving this?           Forumpy  \n",
       "4  What does your development database environmen...         cjheppell  \n",
       "5  For all of you who are (or are going to be) so...  explosive_rabbit  \n",
       "6  Four Reasons Why Apache Pulsar is Essential to...          nfrankel  \n",
       "7                               Unusual Book Request        al3xth3gr8  \n",
       "8  Eleven Patterns, Problems &amp; Solutions rela...          nfrankel  \n",
       "9  \"Multiple staging systems\" or how do you give ...       antonpirker  "
      ]
     },
     "execution_count": 4,
     "metadata": {},
     "output_type": "execute_result"
    }
   ],
   "source": [
    "se.head(10)"
   ]
  },
  {
   "cell_type": "markdown",
   "metadata": {},
   "source": [
    "### Remove Duplicates"
   ]
  },
  {
   "cell_type": "markdown",
   "metadata": {},
   "source": [
    "First we will remove all the duplicates in the title and selftext columns in both datasets."
   ]
  },
  {
   "cell_type": "code",
   "execution_count": 5,
   "metadata": {},
   "outputs": [],
   "source": [
    "#drop duplicates in title and selftext columns\n",
    "ds.drop_duplicates(subset = ['title', 'selftext'], inplace = True)\n",
    "se.drop_duplicates(subset = ['title', 'selftext'], inplace = True)"
   ]
  },
  {
   "cell_type": "markdown",
   "metadata": {},
   "source": [
    "### Amend Null Values"
   ]
  },
  {
   "cell_type": "markdown",
   "metadata": {},
   "source": [
    "Next, we are going to amend all null values and combine our title and selftext columns in both datasets."
   ]
  },
  {
   "cell_type": "code",
   "execution_count": 6,
   "metadata": {},
   "outputs": [],
   "source": [
    "#fill null values in both datasets\n",
    "ds.fillna(value = '', inplace = True)\n",
    "se.fillna(value = '', inplace = True)"
   ]
  },
  {
   "cell_type": "code",
   "execution_count": 7,
   "metadata": {},
   "outputs": [],
   "source": [
    "#combine text and selftext columns\n",
    "ds['title_selftext'] = ds['title'] + '' + ds['selftext']\n",
    "se['title_selftext'] = se['title'] + '' + se['selftext']"
   ]
  },
  {
   "cell_type": "markdown",
   "metadata": {},
   "source": [
    "### Bots and Moderators"
   ]
  },
  {
   "cell_type": "markdown",
   "metadata": {},
   "source": [
    "Subreddits have bots and moderators that overlook reddit's community guidelines and publish standardised posts. These posts may not necessarily pertain to the subreddit topics. Let us take a look at the types of moderators and bots."
   ]
  },
  {
   "cell_type": "markdown",
   "metadata": {},
   "source": [
    "##### r/datascience"
   ]
  },
  {
   "cell_type": "code",
   "execution_count": 8,
   "metadata": {},
   "outputs": [
    {
     "data": {
      "text/html": [
       "<div>\n",
       "<style scoped>\n",
       "    .dataframe tbody tr th:only-of-type {\n",
       "        vertical-align: middle;\n",
       "    }\n",
       "\n",
       "    .dataframe tbody tr th {\n",
       "        vertical-align: top;\n",
       "    }\n",
       "\n",
       "    .dataframe thead th {\n",
       "        text-align: right;\n",
       "    }\n",
       "</style>\n",
       "<table border=\"1\" class=\"dataframe\">\n",
       "  <thead>\n",
       "    <tr style=\"text-align: right;\">\n",
       "      <th></th>\n",
       "      <th>subreddit</th>\n",
       "      <th>selftext</th>\n",
       "      <th>title</th>\n",
       "      <th>author</th>\n",
       "      <th>title_selftext</th>\n",
       "    </tr>\n",
       "  </thead>\n",
       "  <tbody>\n",
       "    <tr>\n",
       "      <th>0</th>\n",
       "      <td>datascience</td>\n",
       "      <td>Welcome to this week's entering &amp;amp; transiti...</td>\n",
       "      <td>Weekly Entering &amp;amp; Transitioning Thread | 1...</td>\n",
       "      <td>datascience-bot</td>\n",
       "      <td>Weekly Entering &amp;amp; Transitioning Thread | 1...</td>\n",
       "    </tr>\n",
       "    <tr>\n",
       "      <th>181</th>\n",
       "      <td>datascience</td>\n",
       "      <td>Welcome to this week's entering &amp;amp; transiti...</td>\n",
       "      <td>Weekly Entering &amp;amp; Transitioning Thread | 0...</td>\n",
       "      <td>datascience-bot</td>\n",
       "      <td>Weekly Entering &amp;amp; Transitioning Thread | 0...</td>\n",
       "    </tr>\n",
       "    <tr>\n",
       "      <th>262</th>\n",
       "      <td>datascience</td>\n",
       "      <td>Welcome to this week's entering &amp;amp; transiti...</td>\n",
       "      <td>Weekly Entering &amp;amp; Transitioning Thread | 3...</td>\n",
       "      <td>datascience-bot</td>\n",
       "      <td>Weekly Entering &amp;amp; Transitioning Thread | 3...</td>\n",
       "    </tr>\n",
       "    <tr>\n",
       "      <th>342</th>\n",
       "      <td>datascience</td>\n",
       "      <td>Welcome to this week's entering &amp;amp; transiti...</td>\n",
       "      <td>Weekly Entering &amp;amp; Transitioning Thread | 2...</td>\n",
       "      <td>datascience-bot</td>\n",
       "      <td>Weekly Entering &amp;amp; Transitioning Thread | 2...</td>\n",
       "    </tr>\n",
       "    <tr>\n",
       "      <th>404</th>\n",
       "      <td>datascience</td>\n",
       "      <td>Welcome to this week's entering &amp;amp; transiti...</td>\n",
       "      <td>Weekly Entering &amp;amp; Transitioning Thread | 1...</td>\n",
       "      <td>datascience-bot</td>\n",
       "      <td>Weekly Entering &amp;amp; Transitioning Thread | 1...</td>\n",
       "    </tr>\n",
       "    <tr>\n",
       "      <th>459</th>\n",
       "      <td>datascience</td>\n",
       "      <td>Welcome to this week's entering &amp;amp; transiti...</td>\n",
       "      <td>Weekly Entering &amp;amp; Transitioning Thread | 0...</td>\n",
       "      <td>datascience-bot</td>\n",
       "      <td>Weekly Entering &amp;amp; Transitioning Thread | 0...</td>\n",
       "    </tr>\n",
       "    <tr>\n",
       "      <th>508</th>\n",
       "      <td>datascience</td>\n",
       "      <td>Welcome to this week's entering &amp;amp; transiti...</td>\n",
       "      <td>Weekly Entering &amp;amp; Transitioning Thread | 0...</td>\n",
       "      <td>datascience-bot</td>\n",
       "      <td>Weekly Entering &amp;amp; Transitioning Thread | 0...</td>\n",
       "    </tr>\n",
       "    <tr>\n",
       "      <th>546</th>\n",
       "      <td>datascience</td>\n",
       "      <td>Welcome to this week's entering &amp;amp; transiti...</td>\n",
       "      <td>Weekly Entering &amp;amp; Transitioning Thread | 2...</td>\n",
       "      <td>datascience-bot</td>\n",
       "      <td>Weekly Entering &amp;amp; Transitioning Thread | 2...</td>\n",
       "    </tr>\n",
       "    <tr>\n",
       "      <th>579</th>\n",
       "      <td>datascience</td>\n",
       "      <td>Welcome to this week's entering &amp;amp; transiti...</td>\n",
       "      <td>Weekly Entering &amp;amp; Transitioning Thread | 1...</td>\n",
       "      <td>datascience-bot</td>\n",
       "      <td>Weekly Entering &amp;amp; Transitioning Thread | 1...</td>\n",
       "    </tr>\n",
       "  </tbody>\n",
       "</table>\n",
       "</div>"
      ],
      "text/plain": [
       "       subreddit                                           selftext  \\\n",
       "0    datascience  Welcome to this week's entering &amp; transiti...   \n",
       "181  datascience  Welcome to this week's entering &amp; transiti...   \n",
       "262  datascience  Welcome to this week's entering &amp; transiti...   \n",
       "342  datascience  Welcome to this week's entering &amp; transiti...   \n",
       "404  datascience  Welcome to this week's entering &amp; transiti...   \n",
       "459  datascience  Welcome to this week's entering &amp; transiti...   \n",
       "508  datascience  Welcome to this week's entering &amp; transiti...   \n",
       "546  datascience  Welcome to this week's entering &amp; transiti...   \n",
       "579  datascience  Welcome to this week's entering &amp; transiti...   \n",
       "\n",
       "                                                 title           author  \\\n",
       "0    Weekly Entering &amp; Transitioning Thread | 1...  datascience-bot   \n",
       "181  Weekly Entering &amp; Transitioning Thread | 0...  datascience-bot   \n",
       "262  Weekly Entering &amp; Transitioning Thread | 3...  datascience-bot   \n",
       "342  Weekly Entering &amp; Transitioning Thread | 2...  datascience-bot   \n",
       "404  Weekly Entering &amp; Transitioning Thread | 1...  datascience-bot   \n",
       "459  Weekly Entering &amp; Transitioning Thread | 0...  datascience-bot   \n",
       "508  Weekly Entering &amp; Transitioning Thread | 0...  datascience-bot   \n",
       "546  Weekly Entering &amp; Transitioning Thread | 2...  datascience-bot   \n",
       "579  Weekly Entering &amp; Transitioning Thread | 1...  datascience-bot   \n",
       "\n",
       "                                        title_selftext  \n",
       "0    Weekly Entering &amp; Transitioning Thread | 1...  \n",
       "181  Weekly Entering &amp; Transitioning Thread | 0...  \n",
       "262  Weekly Entering &amp; Transitioning Thread | 3...  \n",
       "342  Weekly Entering &amp; Transitioning Thread | 2...  \n",
       "404  Weekly Entering &amp; Transitioning Thread | 1...  \n",
       "459  Weekly Entering &amp; Transitioning Thread | 0...  \n",
       "508  Weekly Entering &amp; Transitioning Thread | 0...  \n",
       "546  Weekly Entering &amp; Transitioning Thread | 2...  \n",
       "579  Weekly Entering &amp; Transitioning Thread | 1...  "
      ]
     },
     "execution_count": 8,
     "metadata": {},
     "output_type": "execute_result"
    }
   ],
   "source": [
    "ds[ds['author'].str.contains(\"bot\", \"moderator\")]"
   ]
  },
  {
   "cell_type": "markdown",
   "metadata": {},
   "source": [
    "As seen above, the author 'datascience-bot' provides weekly posts which are repetitive and not useful to us. Hence we will drop these columns."
   ]
  },
  {
   "cell_type": "code",
   "execution_count": 9,
   "metadata": {},
   "outputs": [],
   "source": [
    "index = ds[ds['author'] == 'datascience-bot'].index\n",
    "ds.drop(index, inplace = True)"
   ]
  },
  {
   "cell_type": "markdown",
   "metadata": {},
   "source": [
    "##### r/SoftwareEngineering"
   ]
  },
  {
   "cell_type": "code",
   "execution_count": 10,
   "metadata": {},
   "outputs": [
    {
     "data": {
      "text/html": [
       "<div>\n",
       "<style scoped>\n",
       "    .dataframe tbody tr th:only-of-type {\n",
       "        vertical-align: middle;\n",
       "    }\n",
       "\n",
       "    .dataframe tbody tr th {\n",
       "        vertical-align: top;\n",
       "    }\n",
       "\n",
       "    .dataframe thead th {\n",
       "        text-align: right;\n",
       "    }\n",
       "</style>\n",
       "<table border=\"1\" class=\"dataframe\">\n",
       "  <thead>\n",
       "    <tr style=\"text-align: right;\">\n",
       "      <th></th>\n",
       "      <th>subreddit</th>\n",
       "      <th>selftext</th>\n",
       "      <th>title</th>\n",
       "      <th>author</th>\n",
       "      <th>title_selftext</th>\n",
       "    </tr>\n",
       "  </thead>\n",
       "  <tbody>\n",
       "    <tr>\n",
       "      <th>27</th>\n",
       "      <td>SoftwareEngineering</td>\n",
       "      <td>I have spoken to dozens of CTO's, Heads of Eng...</td>\n",
       "      <td>What is the biggest issue(s) in the IT industr...</td>\n",
       "      <td>hjbotton</td>\n",
       "      <td>What is the biggest issue(s) in the IT industr...</td>\n",
       "    </tr>\n",
       "    <tr>\n",
       "      <th>102</th>\n",
       "      <td>SoftwareEngineering</td>\n",
       "      <td></td>\n",
       "      <td>Is there a formal definition for the term \"fac...</td>\n",
       "      <td>Roybot93</td>\n",
       "      <td>Is there a formal definition for the term \"fac...</td>\n",
       "    </tr>\n",
       "    <tr>\n",
       "      <th>297</th>\n",
       "      <td>SoftwareEngineering</td>\n",
       "      <td></td>\n",
       "      <td>What is the biggest problem you have faced whe...</td>\n",
       "      <td>hjbotton</td>\n",
       "      <td>What is the biggest problem you have faced whe...</td>\n",
       "    </tr>\n",
       "    <tr>\n",
       "      <th>609</th>\n",
       "      <td>SoftwareEngineering</td>\n",
       "      <td>Hey all, I've been writing software profession...</td>\n",
       "      <td>Looking to collaborate on software projects wi...</td>\n",
       "      <td>Roybot93</td>\n",
       "      <td>Looking to collaborate on software projects wi...</td>\n",
       "    </tr>\n",
       "  </tbody>\n",
       "</table>\n",
       "</div>"
      ],
      "text/plain": [
       "               subreddit                                           selftext  \\\n",
       "27   SoftwareEngineering  I have spoken to dozens of CTO's, Heads of Eng...   \n",
       "102  SoftwareEngineering                                                      \n",
       "297  SoftwareEngineering                                                      \n",
       "609  SoftwareEngineering  Hey all, I've been writing software profession...   \n",
       "\n",
       "                                                 title    author  \\\n",
       "27   What is the biggest issue(s) in the IT industr...  hjbotton   \n",
       "102  Is there a formal definition for the term \"fac...  Roybot93   \n",
       "297  What is the biggest problem you have faced whe...  hjbotton   \n",
       "609  Looking to collaborate on software projects wi...  Roybot93   \n",
       "\n",
       "                                        title_selftext  \n",
       "27   What is the biggest issue(s) in the IT industr...  \n",
       "102  Is there a formal definition for the term \"fac...  \n",
       "297  What is the biggest problem you have faced whe...  \n",
       "609  Looking to collaborate on software projects wi...  "
      ]
     },
     "execution_count": 10,
     "metadata": {},
     "output_type": "execute_result"
    }
   ],
   "source": [
    "se[se['author'].str.contains(\"bot\", \"moderator\")]"
   ]
  },
  {
   "cell_type": "markdown",
   "metadata": {},
   "source": [
    "As seen above, there are no bots or moderators in r/SoftwareEngineering. However, from our initial analysis, we saw a quick overview of our software engineering dataframe and found the very first post pertaining to guidelines. Let us take a look at that."
   ]
  },
  {
   "cell_type": "code",
   "execution_count": 11,
   "metadata": {},
   "outputs": [
    {
     "data": {
      "text/html": [
       "<div>\n",
       "<style scoped>\n",
       "    .dataframe tbody tr th:only-of-type {\n",
       "        vertical-align: middle;\n",
       "    }\n",
       "\n",
       "    .dataframe tbody tr th {\n",
       "        vertical-align: top;\n",
       "    }\n",
       "\n",
       "    .dataframe thead th {\n",
       "        text-align: right;\n",
       "    }\n",
       "</style>\n",
       "<table border=\"1\" class=\"dataframe\">\n",
       "  <thead>\n",
       "    <tr style=\"text-align: right;\">\n",
       "      <th></th>\n",
       "      <th>subreddit</th>\n",
       "      <th>selftext</th>\n",
       "      <th>title</th>\n",
       "      <th>author</th>\n",
       "      <th>title_selftext</th>\n",
       "    </tr>\n",
       "  </thead>\n",
       "  <tbody>\n",
       "    <tr>\n",
       "      <th>0</th>\n",
       "      <td>SoftwareEngineering</td>\n",
       "      <td># General\\n\\nThis is a place where high-level ...</td>\n",
       "      <td>Subreddit Guidelines</td>\n",
       "      <td>Tred27</td>\n",
       "      <td>Subreddit Guidelines# General\\n\\nThis is a pla...</td>\n",
       "    </tr>\n",
       "  </tbody>\n",
       "</table>\n",
       "</div>"
      ],
      "text/plain": [
       "             subreddit                                           selftext  \\\n",
       "0  SoftwareEngineering  # General\\n\\nThis is a place where high-level ...   \n",
       "\n",
       "                  title  author  \\\n",
       "0  Subreddit Guidelines  Tred27   \n",
       "\n",
       "                                      title_selftext  \n",
       "0  Subreddit Guidelines# General\\n\\nThis is a pla...  "
      ]
     },
     "execution_count": 11,
     "metadata": {},
     "output_type": "execute_result"
    }
   ],
   "source": [
    "se[se['title'].str.contains(\"Guidelines\")]"
   ]
  },
  {
   "cell_type": "code",
   "execution_count": 12,
   "metadata": {},
   "outputs": [
    {
     "data": {
      "text/plain": [
       "'# General\\n\\nThis is a place where high-level topics are discussed, think not of frameworks, stacks, cloud services but architecture, design paradigms, management practices, etc.\\n\\n* Always follow the [reddiquette](/wiki/reddiquette) \\n* This subreddit is for software engineering-related content in general; try to be \"vague\" with the specific technology you are using. Software engineering deals with higher-level topics and abstractions.\\n* Do not publish career questions; career questions belong to r/cscareerquestions.\\n* You can publish your own content if it goes through the moderation team first, and if it\\'s tasteful, we won\\'t allow posts from accounts that ONLY publish their own content, publish low-effort posts, and cross-post to every subreddit that\\'s just a bit related.\\n\\n#Post Rules\\n\\n* The following thread types require mod approval: surveys and AMAs (sharing survey results are fine).\\n* Low-effort, homework help, \"looking to interview.\" posts are not allowed.\\n* Don\\'t ask for career advice; go to r/cscareerquestions for that.\\n* Posts that ask solely about learning materials or resources do not belong here (e.g., \"What is the best book for learning X?\", \"How do I set up a website on a Y stack?\", etc.). Those questions should be redirected to the resources of /r/learnprogramming or a subreddit specific to a language/technology.\\n* Low-effort posts without much context or details will probably be deleted. Posts with no body text will likely be considered too vague and will be removed.\\n* If your post doesn\\'t actually have a question, it\\'d better have significant material worth discussing. Threads that consist of just a link, or have a link with minimal accompanying text, are not allowed. Please put effort into setting up the discussion.\\n* Do not ask for hardware advice; there are already many other places where someone can help you with your PC build based on your needs.\\n\\nPlease help maintain the subreddit to these standards, report whatever is out-of-scope and anything that goes against the guidelines and rules, the mod team is small, but we go through every report.'"
      ]
     },
     "execution_count": 12,
     "metadata": {},
     "output_type": "execute_result"
    }
   ],
   "source": [
    "se.selftext[0]"
   ]
  },
  {
   "cell_type": "markdown",
   "metadata": {},
   "source": [
    "There is only 1 post that contains \"Guidelines\" and when we look deeper into its 'selftext' we see that the post indeed talks about the guidelines and rules towards posting in this subreddit. Hence we will drop this post as well."
   ]
  },
  {
   "cell_type": "code",
   "execution_count": 13,
   "metadata": {},
   "outputs": [],
   "source": [
    "se.drop(index = 0, inplace = True)"
   ]
  },
  {
   "cell_type": "markdown",
   "metadata": {},
   "source": [
    "## EDA"
   ]
  },
  {
   "cell_type": "markdown",
   "metadata": {},
   "source": [
    "### Preprocessing"
   ]
  },
  {
   "cell_type": "markdown",
   "metadata": {},
   "source": [
    "The posts extracted from reddit's site contain may stop words, links, html tags and other characters that are not useful in our analysis. Hence we will preprocess them and proceed to clean our data. As we have already combined our datasets and our 'title' and 'selftext' columns, we will only clean our 'title_selftext' column instead hence cleaning the entire combined dataset will clean other columns like 'author' too which we want to preserve."
   ]
  },
  {
   "cell_type": "code",
   "execution_count": 14,
   "metadata": {},
   "outputs": [],
   "source": [
    "#create list of stopwords\n",
    "my_stopwords = ['datascience', 'ds', 'softwareengineering','se', 'software', 'data', 'scientist', 'lot', \n",
    "                'engineer', 'science','www', 'reddit', 'com', 'like', 'use', 'know', 'make', 'look',\n",
    "                'get', 'want', 'would', 'one', 'go', 'also', 'new', 'much']\n",
    "\n",
    "comb_stopwords = set(my_stopwords + stopwords.words('english')) \n",
    "\n",
    "#lemmatise and stem stopwords\n",
    "p_stemmer = PorterStemmer()\n",
    "cleaned_stopwords = [p_stemmer.stem(i) for i in comb_stopwords]"
   ]
  },
  {
   "cell_type": "markdown",
   "metadata": {},
   "source": [
    "We are going to create a function to preprocess the 'title_selftext' feature in both datasets."
   ]
  },
  {
   "cell_type": "code",
   "execution_count": 15,
   "metadata": {},
   "outputs": [],
   "source": [
    "def text_preprocessor(temp_list):\n",
    "    #empty list to store output\n",
    "    cleaned_temp = []\n",
    "    #loop through list and remove tags, urls , nonalphanumeric and next line characters\n",
    "    for strings in temp_list:\n",
    "\n",
    "        cleaned_words = []\n",
    "    \n",
    "        #Remove html tags\n",
    "        removed_tags = BeautifulSoup(strings).get_text()\n",
    "    \n",
    "        #remove urls\n",
    "        removed_urls = re.sub(r'\\w+:\\/{2}[\\d\\w-]+(\\.[\\d\\w-]+)*(?:(?:\\/[^\\s/]*))*', \n",
    "                              ' ', removed_tags, flags=re.MULTILINE)\n",
    "    \n",
    "        #remove nonalphanumeric and other characters\n",
    "        removed_char = re.sub('[\\W\\\\n]', ' ', removed_urls)\n",
    "    \n",
    "        #convert to lowercase and split values\n",
    "        lowercase_words = removed_char.lower().split()\n",
    "        \n",
    "        #remove stopwords\n",
    "        removed_stopwords = [w for w in lowercase_words if w not in comb_stopwords]\n",
    "    \n",
    "        #lemmatise and stem words and remove from stemmed stopwords list\n",
    "        stemmed_words = [p_stemmer.stem(i) for i in removed_stopwords]\n",
    "        cleaned_words = [w for w in stemmed_words if w not in cleaned_stopwords]\n",
    "\n",
    "         \n",
    "        #join words back into one string with separated space and store in list\n",
    "        temp_string = \" \".join(cleaned_words)\n",
    "        cleaned_temp.append(temp_string)\n",
    "        \n",
    "    return cleaned_temp"
   ]
  },
  {
   "cell_type": "code",
   "execution_count": 16,
   "metadata": {},
   "outputs": [],
   "source": [
    "#preprocess 'title_selftext' feature\n",
    "ds_processed_list = text_preprocessor(ds['title_selftext'].tolist())\n",
    "se_processed_list = text_preprocessor(se['title_selftext'].tolist())"
   ]
  },
  {
   "cell_type": "code",
   "execution_count": 17,
   "metadata": {},
   "outputs": [],
   "source": [
    "#add the 'title_selftext' feature back to df and drop remaining columns\n",
    "ds.drop(columns = ['selftext', 'title', 'title_selftext'], inplace = True)\n",
    "se.drop(columns = ['selftext', 'title', 'title_selftext'], inplace = True)\n",
    "ds['text_cleaned'] = pd.Series(ds_processed_list).values\n",
    "se['text_cleaned'] = pd.Series(se_processed_list).values"
   ]
  },
  {
   "cell_type": "markdown",
   "metadata": {},
   "source": [
    "### Bag of N-grams"
   ]
  },
  {
   "cell_type": "code",
   "execution_count": 18,
   "metadata": {},
   "outputs": [],
   "source": [
    "#function to plot various ngrams\n",
    "def barplot(ngram):\n",
    "\n",
    "    #top 20 words for a sequence of n tokens for r/datascience\n",
    "    cvec = CountVectorizer(ngram_range=ngram)\n",
    "    matrix = cvec.fit_transform(ds['text_cleaned'])\n",
    "    frequency = zip(cvec.get_feature_names(), matrix.sum(axis=0).tolist()[0])\n",
    "    ds_list = sorted(frequency, key = lambda x: -x[1])[:20]\n",
    "    \n",
    "    #top 20 words for a sequence of n tokens for r/SoftwareEngineering\n",
    "    cvec = CountVectorizer(ngram_range=ngram)\n",
    "    matrix = cvec.fit_transform(se['text_cleaned'])\n",
    "    frequency = zip(cvec.get_feature_names(), matrix.sum(axis=0).tolist()[0])\n",
    "    se_list = sorted(frequency, key = lambda x: -x[1])[:20]\n",
    "    \n",
    "    fig, ax = plt.subplots(1, 2, figsize= (15,12)) #for both subreddits\n",
    "    ax = ax.ravel()\n",
    "    \n",
    "    #datascience ngram barplot\n",
    "    sns.barplot(data = pd.DataFrame.from_records(ds_list, columns = ['ngram', 'frequency']),\n",
    "                x ='frequency',\n",
    "                y ='ngram',\n",
    "                ax = ax[0],\n",
    "                palette=\"rocket\")\n",
    "    ax[0].set_title(f'Top 20 {ngram} n-grams for r/datascience', fontsize=14)\n",
    "    \n",
    "    #softwareengineering ngram barplot\n",
    "    sns.barplot(data = pd.DataFrame.from_records(se_list, columns = ['ngram', 'frequency']),\n",
    "                x ='frequency',\n",
    "                y ='ngram',\n",
    "                ax = ax[1],\n",
    "                palette=\"mako\")\n",
    "    ax[1].set_title(f'Top 20 {ngram} n-grams for r/SoftwareEngineering', fontsize=14)\n",
    "    \n",
    "    fig.tight_layout()"
   ]
  },
  {
   "cell_type": "markdown",
   "metadata": {},
   "source": [
    "#### 1-grams Barplot"
   ]
  },
  {
   "cell_type": "code",
   "execution_count": 19,
   "metadata": {
    "scrolled": false
   },
   "outputs": [
    {
     "data": {
      "image/png": "[encoded data removed]",
      "text/plain": [
       "<Figure size 1080x864 with 2 Axes>"
      ]
     },
     "metadata": {
      "needs_background": "light"
     },
     "output_type": "display_data"
    }
   ],
   "source": [
    "barplot((1,1))"
   ]
  },
  {
   "cell_type": "markdown",
   "metadata": {},
   "source": [
    "#### 2-grams Barplot"
   ]
  },
  {
   "cell_type": "code",
   "execution_count": 20,
   "metadata": {},
   "outputs": [
    {
     "data": {
      "image/png": "[encoded data removed]",
      "text/plain": [
       "<Figure size 1080x864 with 2 Axes>"
      ]
     },
     "metadata": {
      "needs_background": "light"
     },
     "output_type": "display_data"
    }
   ],
   "source": [
    "barplot((2,2))"
   ]
  },
  {
   "cell_type": "markdown",
   "metadata": {},
   "source": [
    "#### 3-grams Barplot"
   ]
  },
  {
   "cell_type": "code",
   "execution_count": 21,
   "metadata": {},
   "outputs": [
    {
     "data": {
      "image/png": "[encoded data removed]",
      "text/plain": [
       "<Figure size 1080x864 with 2 Axes>"
      ]
     },
     "metadata": {
      "needs_background": "light"
     },
     "output_type": "display_data"
    }
   ],
   "source": [
    "barplot((3,3))"
   ]
  },
  {
   "cell_type": "markdown",
   "metadata": {},
   "source": [
    "### Combining datasets and Converting Binary Labels"
   ]
  },
  {
   "cell_type": "markdown",
   "metadata": {},
   "source": [
    "We are first going to merge our reddit posts from both subreddits into 1."
   ]
  },
  {
   "cell_type": "code",
   "execution_count": 22,
   "metadata": {},
   "outputs": [],
   "source": [
    "#merging both datasets\n",
    "combined = pd.concat([ds, se], axis =0, ignore_index = True)"
   ]
  },
  {
   "cell_type": "markdown",
   "metadata": {},
   "source": [
    "Then, we are going to convert our subreddit titles to binary labels\n",
    "\n",
    "    - 0 for datascience\n",
    "    - 1 for SoftwareEngineering"
   ]
  },
  {
   "cell_type": "code",
   "execution_count": 23,
   "metadata": {},
   "outputs": [],
   "source": [
    "#convert subreddit column to binary and rename to label\n",
    "combined['subreddit'] = combined['subreddit'].map({'datascience': 0, 'SoftwareEngineering': 1})\n",
    "combined.rename(columns = {'subreddit': 'label'}, inplace = True)"
   ]
  },
  {
   "cell_type": "markdown",
   "metadata": {},
   "source": [
    "Export our cleaned dataset into csv file."
   ]
  },
  {
   "cell_type": "code",
   "execution_count": 24,
   "metadata": {},
   "outputs": [],
   "source": [
    "combined.to_csv('./data/combined_cleaned.csv', index = False)"
   ]
  },
  {
   "cell_type": "markdown",
   "metadata": {},
   "source": [
    "This is the end of the first notebook. Please refer to 'Part 2 - Modelling and Evaluation' for the next part of this project."
   ]
  }
 ],
 "metadata": {
  "kernelspec": {
   "display_name": "Python 3",
   "language": "python",
   "name": "python3"
  },
  "language_info": {
   "codemirror_mode": {
    "name": "ipython",
    "version": 3
   },
   "file_extension": ".py",
   "mimetype": "text/x-python",
   "name": "python",
   "nbconvert_exporter": "python",
   "pygments_lexer": "ipython3",
   "version": "3.8.5"
  },
  "toc": {
   "base_numbering": 1,
   "nav_menu": {},
   "number_sections": true,
   "sideBar": true,
   "skip_h1_title": true,
   "title_cell": "Table of Contents",
   "title_sidebar": "Contents",
   "toc_cell": false,
   "toc_position": {
    "height": "calc(100% - 180px)",
    "left": "10px",
    "top": "150px",
    "width": "426.667px"
   },
   "toc_section_display": true,
   "toc_window_display": true
  }
 },
 "nbformat": 4,
 "nbformat_minor": 4
}
