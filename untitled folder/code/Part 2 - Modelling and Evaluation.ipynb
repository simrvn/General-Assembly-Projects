{
 "cells": [
  {
   "cell_type": "markdown",
   "id": "2e48130b",
   "metadata": {},
   "source": [
    "# Project 4: West Nile Virus Analysis\n",
    "\n",
    "## Part 2 - Modelling and Evaluation"
   ]
  },
  {
   "cell_type": "markdown",
   "id": "4e10569e",
   "metadata": {},
   "source": [
    "In this notebook we will build the classification models to predict the presence of West Nile Virus in a trap on a given date. The data imported here is cleaned in Part I of this project. The virus only spreads to humans through mosquitoes and thus looking at the distribution of mosquito population across city, should be a good predictor of virus. Mosquito growth rates can vary with weather factors like $-$ temperature, precipitation. The mosquito life cycle changes with this seasonal changes and we should be able to use this data to predict the presence of virus. Location in the city is also a relevant feature that can have large impact on our modelling results.\n",
    "\n",
    "**Modelling**\n",
    "\n",
    "This is a binary classification problem where we predict if the West Nile Virus is detected (positive class) in an observation or not (negative class). These models that predict highly unbalanced classes can suffer from underfit on the minority class and metrics can be really worse depending on the output goal. One of the techniques used in this project is SMOTE. It is short for _Synthetic Minority Oversampling TEchnique_, which means we oversample the minority class (for training data) so that the two output classes are balanced.\n",
    "\n",
    "Training with this newly balanced class dataset does come with its own caveats, e.g., the synthetic data generated is not representative of the real-world scenario where mostly the class distribution would be uneven, and this can lead to overfitting the model on the minority class. Then when we fit the validation/test data, our model might not perform as well. However, benefits of using the oversampling technique outweighs using not using it, as shown later.\n",
    "\n",
    "We start with Logistic Regression, which is a commonly used classification model, and than try a bunch of tree based models, like, Extra Trees, Random Forests, and boosting, like AdaBoost, XGBoost. For a classification problem of this type and distribution, where we have many seemingly correlated features, decision trees can be a great way to classify them. Although, on there own, there is a very high probablity of them overfitting and thus we use other techniques such as bootstrapping along with ensemble methods like bagging classifier to overcome this issue.\n",
    "\n",
    "**Evaluation**\n",
    "\n",
    "The most common metric for classification problems is accuracy. But some times, accuracy can give a fake sense of success, especially when measured on highly unbalanced classes like in this project. Say our target class distribution is 98-2, then predicting every target equal to majority class gives us 98% accuracy, which is not realistic. Thus, we can look at other widely used metric, ROC-AUC, which can give us more information because it plots true positive rate vs false positive rate. Intuitively, it explains how good the model is at separating the two classes. In this project, it is crucial to reduce the number of observations that are predicted to not have the virus when they actually have. To maximise the help we can provide to the city authorities, it is imperative that we don't miss many sites which might have the virus.\n",
    "\n",
    "\n",
    "#### Contents\n",
    "\n",
    "The contents of this notebook are as follows:\n",
    "- [Imports](#Imports)\n",
    "\n",
    "- [Modelling](#Modelling)\n",
    "\n",
    "- [Evaluation](#Evaluation)\n",
    "\n",
    "- [Cost Benefit Analysis](#Cost-Benefit-Analysis)\n",
    "\n",
    "- [Conclusion and Recommendations](#Conclusion-and-Recommendations)"
   ]
  },
  {
   "cell_type": "markdown",
   "id": "9d9aeca6",
   "metadata": {},
   "source": [
    "## Imports"
   ]
  },
  {
   "cell_type": "code",
   "execution_count": 1,
   "id": "853ac0c3",
   "metadata": {},
   "outputs": [],
   "source": [
    "# Import the libraries\n",
    "import pandas as pd\n",
    "import numpy as np\n",
    "import time\n",
    "import os\n",
    "\n",
    "import matplotlib.pyplot as plt\n",
    "import seaborn as sns\n",
    "%matplotlib inline\n",
    "\n",
    "from sklearn.preprocessing import StandardScaler\n",
    "from sklearn.model_selection import train_test_split\n",
    "\n",
    "from sklearn.linear_model import LogisticRegression\n",
    "from sklearn.tree import DecisionTreeClassifier\n",
    "from sklearn.ensemble import ExtraTreesClassifier\n",
    "from sklearn.ensemble import RandomForestClassifier\n",
    "from sklearn.ensemble import BaggingClassifier\n",
    "from sklearn.ensemble import AdaBoostClassifier\n",
    "from sklearn.ensemble import GradientBoostingClassifier\n",
    "from sklearn.svm import SVC\n",
    "\n",
    "from xgboost import XGBClassifier\n",
    "\n",
    "# from sklearn.pipeline import Pipeline\n",
    "from sklearn.model_selection import GridSearchCV\n",
    "from sklearn.metrics import plot_roc_curve, plot_confusion_matrix\n",
    "from sklearn.metrics import precision_score, recall_score\n",
    "from sklearn.metrics import roc_auc_score, f1_score, accuracy_score\n",
    "\n",
    "from imblearn.over_sampling import SMOTE, SMOTENC\n",
    "from imblearn.pipeline import Pipeline, make_pipeline\n",
    "\n",
    "from joblib import dump, load"
   ]
  },
  {
   "cell_type": "code",
   "execution_count": 2,
   "id": "1ef8d1ad",
   "metadata": {},
   "outputs": [],
   "source": [
    "# Function to save kaggle submissions for WnvPresent probabilities\n",
    "def get_kaggle_format(prediction_probs):\n",
    "    # load the sample submission file\n",
    "    sub = pd.read_csv('../datasets/sampleSubmission.csv')\n",
    "    sub['WnvPresent'] = prediction_probs\n",
    "    \n",
    "    # Output filename for kaggle submission\n",
    "    i = 0\n",
    "    while os.path.exists(f\"../datasets/kaggle_sub_{i}.csv\"):\n",
    "        i += 1\n",
    "    filename = f\"../datasets/kaggle_sub_{i}.csv\"\n",
    "    \n",
    "    # Save the DataFrame to a file\n",
    "    sub.to_csv(filename, index=False)\n",
    "    print(f'File name: {filename}')"
   ]
  },
  {
   "cell_type": "code",
   "execution_count": 3,
   "id": "1a6c8f4f",
   "metadata": {},
   "outputs": [],
   "source": [
    "# import data\n",
    "pd.set_option('display.max_columns', None)\n",
    "train = pd.read_csv('../datasets/combined_cleaned.csv')\n",
    "test = pd.read_csv('../datasets/test_cleaned.csv')"
   ]
  },
  {
   "cell_type": "markdown",
   "id": "22eda8c3",
   "metadata": {},
   "source": [
    "The cleaned train and test datasets contain, 8428 and 116293 observations, respectively. We have **46** features from the original data, combining variables from weather, location, species data etc. These are used to predict the target variable, probability if the west nile virus will be detected in a particular trap."
   ]
  },
  {
   "cell_type": "code",
   "execution_count": 4,
   "id": "71e0b532",
   "metadata": {},
   "outputs": [
    {
     "data": {
      "text/plain": [
       "date                object\n",
       "latitude           float64\n",
       "longitude          float64\n",
       "wnv_present          int64\n",
       "species_ohe        float64\n",
       "year                 int64\n",
       "month                int64\n",
       "tmax               float64\n",
       "tmin               float64\n",
       "tavg               float64\n",
       "depart             float64\n",
       "dew_point          float64\n",
       "wet_bulb           float64\n",
       "heat               float64\n",
       "cool               float64\n",
       "precip_total       float64\n",
       "stn_pressure       float64\n",
       "sea_level          float64\n",
       "result_speed       float64\n",
       "result_dir         float64\n",
       "avg_speed          float64\n",
       "daylight           float64\n",
       "r_humid            float64\n",
       "bc                   int64\n",
       "br                   int64\n",
       "dz                   int64\n",
       "fg                   int64\n",
       "fg+                  int64\n",
       "fu                   int64\n",
       "gr                   int64\n",
       "hz                   int64\n",
       "mi                   int64\n",
       "ra                   int64\n",
       "sn                   int64\n",
       "sq                   int64\n",
       "ts                   int64\n",
       "vc                   int64\n",
       "tavg_10            float64\n",
       "tavg_14            float64\n",
       "tavg_28            float64\n",
       "precip_total_10    float64\n",
       "precip_total_14    float64\n",
       "precip_total_28    float64\n",
       "r_humid_10         float64\n",
       "r_humid_14         float64\n",
       "r_humid_28         float64\n",
       "week                 int64\n",
       "day                  int64\n",
       "dtype: object"
      ]
     },
     "execution_count": 4,
     "metadata": {},
     "output_type": "execute_result"
    }
   ],
   "source": [
    "# check dtypes\n",
    "train.dtypes"
   ]
  },
  {
   "cell_type": "code",
   "execution_count": 5,
   "id": "02e3c19b",
   "metadata": {},
   "outputs": [],
   "source": [
    "# Get the training features and target variable\n",
    "X = train.drop(columns=['date', 'wnv_present'])\n",
    "y = train['wnv_present']\n",
    "\n",
    "# Get the test dataset features\n",
    "X_test = test.drop(columns=['date'])"
   ]
  },
  {
   "cell_type": "code",
   "execution_count": 6,
   "id": "4f258216",
   "metadata": {},
   "outputs": [],
   "source": [
    "# split the data into train and val for basic model building\n",
    "X_train, X_val, y_train, y_val = train_test_split(X, y, test_size = 0.3, random_state=42, shuffle=False)"
   ]
  },
  {
   "cell_type": "markdown",
   "id": "389e0799",
   "metadata": {},
   "source": [
    "#### Baseline accuracy"
   ]
  },
  {
   "cell_type": "code",
   "execution_count": 7,
   "id": "e6019c53",
   "metadata": {},
   "outputs": [
    {
     "data": {
      "text/plain": [
       "0    0.960502\n",
       "1    0.039498\n",
       "Name: wnv_present, dtype: float64"
      ]
     },
     "execution_count": 7,
     "metadata": {},
     "output_type": "execute_result"
    }
   ],
   "source": [
    "# target distribution\n",
    "y_train.value_counts(normalize=True)"
   ]
  },
  {
   "cell_type": "markdown",
   "id": "9acfca94",
   "metadata": {},
   "source": [
    "As discussed in the EDA part that the classes are highly unbalanced and we will employ the SMOTE technique to make the two classes of same distribution. This avoids overtraining the model on one class and makes better predictions.\n",
    "\n",
    "## Modelling\n",
    "\n",
    "Now we can build the models and train them using the training data. Since this is a classification problem of predicting whether a particular trap would have mosquitos with west nile virus or not, we will try some of them and run `GridSearchCV` to see which one gives us best results. Later, we will evaluate and discuss various metrics for the different models by interpreting the results.\n",
    "\n",
    "### Pipelines\n",
    "\n",
    "It is convenient to create pipelines using the `imblearns`'s `Pipeline` method, which is very similar to `sklearn's`, but we use this since we are using SMOTE. We can also write a function to get the results and print evaluations, so it is easier to consolidate everything when we run grid-search at once."
   ]
  },
  {
   "cell_type": "code",
   "execution_count": 8,
   "id": "99bdb08d",
   "metadata": {},
   "outputs": [],
   "source": [
    "#dictionary for pipeline ============== SMOTE or SMOTENC\n",
    "pipes_dict = {\n",
    "    'pipe_lr': Pipeline([\n",
    "        ('smote', SMOTE(random_state=42)),\n",
    "        ('sc', StandardScaler()),\n",
    "        ('lr', LogisticRegression(random_state=42))\n",
    "    ]),\n",
    "    'pipe_dt': Pipeline([\n",
    "        ('smote', SMOTE(random_state=42)),\n",
    "        ('sc', StandardScaler()),\n",
    "        ('dt', DecisionTreeClassifier(random_state=42))\n",
    "    ]),\n",
    "    'pipe_et': Pipeline([\n",
    "        ('smote', SMOTE(random_state=42)),\n",
    "        ('sc', StandardScaler()),\n",
    "        ('et', ExtraTreesClassifier(random_state=42))\n",
    "    ]),\n",
    "    'pipe_rf': Pipeline([\n",
    "        ('smote', SMOTE(random_state=42)),\n",
    "        ('sc', StandardScaler()),\n",
    "        ('rf', RandomForestClassifier(random_state=42))\n",
    "    ]),\n",
    "    'pipe_bc': Pipeline([\n",
    "        ('smote', SMOTE(random_state=42)),\n",
    "        ('sc', StandardScaler()),\n",
    "        ('bc', BaggingClassifier(random_state=42))\n",
    "    ]),\n",
    "    'pipe_ab': Pipeline([\n",
    "        ('smote', SMOTE(random_state=42)),\n",
    "        ('sc', StandardScaler()),\n",
    "        ('ab', AdaBoostClassifier(random_state=42))\n",
    "    ]),\n",
    "    'pipe_xgb': Pipeline([\n",
    "        ('smote', SMOTE(random_state=42)),\n",
    "        ('sc', StandardScaler()),\n",
    "        ('xgb', XGBClassifier(random_state=42))\n",
    "    ])\n",
    "}"
   ]
  },
  {
   "cell_type": "code",
   "execution_count": 9,
   "id": "1867e3b3",
   "metadata": {},
   "outputs": [],
   "source": [
    "#dictionary for pipeline parameters\n",
    "pipe_params = {\n",
    "    'pipe_lr_params': {\n",
    "        'lr__penalty' : ['l2'],\n",
    "        'lr__C' : [0.001, 0.1, 10], #0.0001,0.001,0.01,0.1,1,10,20\n",
    "        'lr__max_iter' : [1000] \n",
    "    },\n",
    "    'pipe_dt_params': {\n",
    "        'dt__max_depth': [2], #2,4,10\n",
    "        'dt__min_samples_split': [2], #2,5,10,15\n",
    "        'dt__min_samples_leaf': [2], #2,4,6\n",
    "        'dt__ccp_alpha': [0] #0,0.01,1\n",
    "    },\n",
    "    'pipe_et_params': {\n",
    "        'et__n_estimators': [50, 100, 200],\n",
    "        'et__max_depth': [2, 3, 5, 10, 20],\n",
    "        'et__min_samples_leaf': [2, 5, 10],\n",
    "        'et__class_weight' : ['balanced', 'balanced_subsample']\n",
    "    },\n",
    "    'pipe_rf_params': {\n",
    "        'rf__max_depth': [1, 2, 5],\n",
    "        'rf__max_features': ['sqrt', 'log2'],\n",
    "        'rf__min_samples_leaf': [2, 5],\n",
    "        'rf__n_estimators': [50, 100, 500],\n",
    "#         'rf__warm_start': [True, False]\n",
    "    },\n",
    "    'pipe_bc_params': {\n",
    "        'bc__bootstrap_features': [True, False],\n",
    "        'bc__n_estimators': [100, 500, 1000],\n",
    "        'bc__max_features': [0.1, 0.5, 1.0]\n",
    "    },\n",
    "    'pipe_ab_params': {\n",
    "        'ab__learning_rate': [0.1, 0.5, 0.9], #0.7,0.8,0.9,1\n",
    "        'ab__n_estimators': [25, 50, 100],  #20,25,50,100,200,300\n",
    "    },\n",
    "    'pipe_xgb_params': {\n",
    "        'xgb__n_estimators': [50, 100],\n",
    "        'xgb__max_depth': [2, 3, 5],\n",
    "        'xgb__gamma' : [0.1, 0.5, 1], \n",
    "        'xgb__learning_rate' : [0.1, 0.2, 0.5],\n",
    "        'xgb__eval_metric': ['auc']\n",
    "    }\n",
    "}"
   ]
  },
  {
   "cell_type": "markdown",
   "id": "29ab07b2",
   "metadata": {},
   "source": [
    "#### Function for modelling"
   ]
  },
  {
   "cell_type": "code",
   "execution_count": 10,
   "id": "69773e9d",
   "metadata": {},
   "outputs": [],
   "source": [
    "#function for model\n",
    "#list to store results and evaluation metrics for models\n",
    "model_results = []\n",
    "\n",
    "#store the models and params from gridsearch to dict\n",
    "gs_dict = {}\n",
    "\n",
    "#function to train model and store results in model_results list\n",
    "def model_eval(pipeline, params):\n",
    "    # get the name of the grid search model\n",
    "    model = pipeline.steps[2][0]   #model name\n",
    "\n",
    "    gs = f'gs_{model}'\n",
    "    \n",
    "    # instantiate the grid search\n",
    "    gs_dict[gs] = GridSearchCV(estimator=pipeline,\n",
    "                               param_grid=params,\n",
    "                               scoring='roc_auc',\n",
    "                               verbose=1,\n",
    "                               n_jobs=-1)\n",
    "    \n",
    "\n",
    "    gs_dict[gs].fit(X_train, y_train)  #fit our model onto gridsearchCV\n",
    "        \n",
    "    results = {}  #initialise results dictionary\n",
    "    \n",
    "    results['Classifier'] = model\n",
    "    \n",
    "    # train prediction probas\n",
    "    y_train_pred = gs_dict[gs].predict(X_train)\n",
    "    y_train_pred_probas = gs_dict[gs].predict_proba(X_train)[:,1]\n",
    "    \n",
    "    # validation predictions    \n",
    "    y_val_pred = gs_dict[gs].predict(X_val) #get the predictions\n",
    "    y_val_pred_probas = gs_dict[gs].predict_proba(X_val)[:, 1]\n",
    "    \n",
    "    results['Accuracy SCORE'] = accuracy_score(y_val, y_val_pred) #val accuracy score\n",
    "    \n",
    "    results['Train ROC-AUC'] = roc_auc_score(y_train, y_train_pred_probas) #train roc-auc score\n",
    "    results['Val ROC-AUC'] = roc_auc_score(y_val, y_val_pred_probas) #val roc-auc score\n",
    "    \n",
    "    results['Recall'] = recall_score(y_val, y_val_pred)  #recall score\n",
    "    results['Precision'] = precision_score(y_val, y_val_pred)  #precision score\n",
    "    results['F1-Score'] = f1_score(y_val, y_val_pred) #f1-score\n",
    "    \n",
    "    model_results.append(results) #append dictionary into model_results list\n",
    "    \n",
    "    return gs_dict[gs].best_estimator_, gs_dict[gs].best_params_"
   ]
  },
  {
   "cell_type": "markdown",
   "id": "5a20a762",
   "metadata": {},
   "source": [
    "### Generating Models\n",
    "\n",
    "Now, we can run each model pipeline through the grid search and later we can evaluate the results."
   ]
  },
  {
   "cell_type": "markdown",
   "id": "20f5a931",
   "metadata": {},
   "source": [
    "#### Logistic Regression"
   ]
  },
  {
   "cell_type": "code",
   "execution_count": 12,
   "id": "245c1824",
   "metadata": {},
   "outputs": [
    {
     "name": "stdout",
     "output_type": "stream",
     "text": [
      "Fitting 5 folds for each of 3 candidates, totalling 15 fits\n"
     ]
    },
    {
     "data": {
      "text/plain": [
       "(Pipeline(steps=[('smote', SMOTE(random_state=42)), ('sc', StandardScaler()),\n",
       "                 ('lr',\n",
       "                  LogisticRegression(C=0.001, max_iter=1000, random_state=42))]),\n",
       " {'lr__C': 0.001, 'lr__max_iter': 1000, 'lr__penalty': 'l2'})"
      ]
     },
     "execution_count": 12,
     "metadata": {},
     "output_type": "execute_result"
    }
   ],
   "source": [
    "model_eval(pipeline=pipes_dict['pipe_lr'], params=pipe_params['pipe_lr_params'])"
   ]
  },
  {
   "cell_type": "markdown",
   "id": "522e84ce",
   "metadata": {},
   "source": [
    "#### Decision Trees"
   ]
  },
  {
   "cell_type": "code",
   "execution_count": 13,
   "id": "f7b4bf7a",
   "metadata": {},
   "outputs": [
    {
     "name": "stdout",
     "output_type": "stream",
     "text": [
      "Fitting 5 folds for each of 1 candidates, totalling 5 fits\n"
     ]
    },
    {
     "data": {
      "text/plain": [
       "(Pipeline(steps=[('smote', SMOTE(random_state=42)), ('sc', StandardScaler()),\n",
       "                 ('dt',\n",
       "                  DecisionTreeClassifier(ccp_alpha=0, max_depth=2,\n",
       "                                         min_samples_leaf=2, random_state=42))]),\n",
       " {'dt__ccp_alpha': 0,\n",
       "  'dt__max_depth': 2,\n",
       "  'dt__min_samples_leaf': 2,\n",
       "  'dt__min_samples_split': 2})"
      ]
     },
     "execution_count": 13,
     "metadata": {},
     "output_type": "execute_result"
    }
   ],
   "source": [
    "model_eval(pipeline=pipes_dict['pipe_dt'], params=pipe_params['pipe_dt_params'])"
   ]
  },
  {
   "cell_type": "markdown",
   "id": "01b933b2",
   "metadata": {},
   "source": [
    "#### Extra Trees"
   ]
  },
  {
   "cell_type": "code",
   "execution_count": 14,
   "id": "f8f67e8f",
   "metadata": {},
   "outputs": [
    {
     "name": "stdout",
     "output_type": "stream",
     "text": [
      "Fitting 5 folds for each of 90 candidates, totalling 450 fits\n"
     ]
    },
    {
     "name": "stderr",
     "output_type": "stream",
     "text": [
      "/opt/anaconda3/lib/python3.8/site-packages/joblib/externals/loky/process_executor.py:688: UserWarning: A worker stopped while some jobs were given to the executor. This can be caused by a too short worker timeout or by a memory leak.\n",
      "  warnings.warn(\n"
     ]
    },
    {
     "data": {
      "text/plain": [
       "(Pipeline(steps=[('smote', SMOTE(random_state=42)), ('sc', StandardScaler()),\n",
       "                 ('et',\n",
       "                  ExtraTreesClassifier(class_weight='balanced', max_depth=2,\n",
       "                                       min_samples_leaf=5, n_estimators=200,\n",
       "                                       random_state=42))]),\n",
       " {'et__class_weight': 'balanced',\n",
       "  'et__max_depth': 2,\n",
       "  'et__min_samples_leaf': 5,\n",
       "  'et__n_estimators': 200})"
      ]
     },
     "execution_count": 14,
     "metadata": {},
     "output_type": "execute_result"
    }
   ],
   "source": [
    "model_eval(pipeline=pipes_dict['pipe_et'], params=pipe_params['pipe_et_params'])"
   ]
  },
  {
   "cell_type": "markdown",
   "id": "a63be62d",
   "metadata": {},
   "source": [
    "#### Random Forest"
   ]
  },
  {
   "cell_type": "code",
   "execution_count": 15,
   "id": "34230c85",
   "metadata": {},
   "outputs": [
    {
     "name": "stdout",
     "output_type": "stream",
     "text": [
      "Fitting 5 folds for each of 36 candidates, totalling 180 fits\n"
     ]
    },
    {
     "name": "stderr",
     "output_type": "stream",
     "text": [
      "/opt/anaconda3/lib/python3.8/site-packages/joblib/externals/loky/process_executor.py:688: UserWarning: A worker stopped while some jobs were given to the executor. This can be caused by a too short worker timeout or by a memory leak.\n",
      "  warnings.warn(\n"
     ]
    },
    {
     "data": {
      "text/plain": [
       "(Pipeline(steps=[('smote', SMOTE(random_state=42)), ('sc', StandardScaler()),\n",
       "                 ('rf',\n",
       "                  RandomForestClassifier(max_depth=1, max_features='log2',\n",
       "                                         min_samples_leaf=2, n_estimators=500,\n",
       "                                         random_state=42))]),\n",
       " {'rf__max_depth': 1,\n",
       "  'rf__max_features': 'log2',\n",
       "  'rf__min_samples_leaf': 2,\n",
       "  'rf__n_estimators': 500})"
      ]
     },
     "execution_count": 15,
     "metadata": {},
     "output_type": "execute_result"
    }
   ],
   "source": [
    "model_eval(pipeline=pipes_dict['pipe_rf'], params=pipe_params['pipe_rf_params'])"
   ]
  },
  {
   "cell_type": "markdown",
   "id": "0cbc9a40",
   "metadata": {},
   "source": [
    "#### Bagging Classifier"
   ]
  },
  {
   "cell_type": "code",
   "execution_count": 16,
   "id": "d54e5680",
   "metadata": {},
   "outputs": [
    {
     "name": "stdout",
     "output_type": "stream",
     "text": [
      "Fitting 5 folds for each of 18 candidates, totalling 90 fits\n"
     ]
    },
    {
     "name": "stderr",
     "output_type": "stream",
     "text": [
      "/opt/anaconda3/lib/python3.8/site-packages/joblib/externals/loky/process_executor.py:688: UserWarning: A worker stopped while some jobs were given to the executor. This can be caused by a too short worker timeout or by a memory leak.\n",
      "  warnings.warn(\n"
     ]
    },
    {
     "data": {
      "text/plain": [
       "(Pipeline(steps=[('smote', SMOTE(random_state=42)), ('sc', StandardScaler()),\n",
       "                 ('bc',\n",
       "                  BaggingClassifier(bootstrap_features=True, max_features=0.1,\n",
       "                                    n_estimators=500, random_state=42))]),\n",
       " {'bc__bootstrap_features': True,\n",
       "  'bc__max_features': 0.1,\n",
       "  'bc__n_estimators': 500})"
      ]
     },
     "execution_count": 16,
     "metadata": {},
     "output_type": "execute_result"
    }
   ],
   "source": [
    "model_eval(pipeline=pipes_dict['pipe_bc'], params=pipe_params['pipe_bc_params'])"
   ]
  },
  {
   "cell_type": "markdown",
   "id": "c4213b66",
   "metadata": {},
   "source": [
    "#### AdaBoost Classifier"
   ]
  },
  {
   "cell_type": "code",
   "execution_count": 17,
   "id": "145149ab",
   "metadata": {},
   "outputs": [
    {
     "name": "stdout",
     "output_type": "stream",
     "text": [
      "Fitting 5 folds for each of 9 candidates, totalling 45 fits\n"
     ]
    },
    {
     "data": {
      "text/plain": [
       "(Pipeline(steps=[('smote', SMOTE(random_state=42)), ('sc', StandardScaler()),\n",
       "                 ('ab',\n",
       "                  AdaBoostClassifier(learning_rate=0.1, n_estimators=25,\n",
       "                                     random_state=42))]),\n",
       " {'ab__learning_rate': 0.1, 'ab__n_estimators': 25})"
      ]
     },
     "execution_count": 17,
     "metadata": {},
     "output_type": "execute_result"
    }
   ],
   "source": [
    "model_eval(pipeline=pipes_dict['pipe_ab'], params=pipe_params['pipe_ab_params'])"
   ]
  },
  {
   "cell_type": "markdown",
   "id": "020caf12",
   "metadata": {},
   "source": [
    "#### XGBoost Classifier"
   ]
  },
  {
   "cell_type": "code",
   "execution_count": 18,
   "id": "ea246629",
   "metadata": {
    "scrolled": false
   },
   "outputs": [
    {
     "name": "stdout",
     "output_type": "stream",
     "text": [
      "Fitting 5 folds for each of 54 candidates, totalling 270 fits\n"
     ]
    },
    {
     "name": "stderr",
     "output_type": "stream",
     "text": [
      "/opt/anaconda3/lib/python3.8/site-packages/joblib/externals/loky/process_executor.py:688: UserWarning: A worker stopped while some jobs were given to the executor. This can be caused by a too short worker timeout or by a memory leak.\n",
      "  warnings.warn(\n",
      "/opt/anaconda3/lib/python3.8/site-packages/xgboost/sklearn.py:888: UserWarning: The use of label encoder in XGBClassifier is deprecated and will be removed in a future release. To remove this warning, do the following: 1) Pass option use_label_encoder=False when constructing XGBClassifier object; and 2) Encode your labels (y) as integers starting with 0, i.e. 0, 1, 2, ..., [num_class - 1].\n",
      "  warnings.warn(label_encoder_deprecation_msg, UserWarning)\n"
     ]
    },
    {
     "data": {
      "text/plain": [
       "(Pipeline(steps=[('smote', SMOTE(random_state=42)), ('sc', StandardScaler()),\n",
       "                 ('xgb',\n",
       "                  XGBClassifier(base_score=0.5, booster='gbtree',\n",
       "                                colsample_bylevel=1, colsample_bynode=1,\n",
       "                                colsample_bytree=1, eval_metric='auc', gamma=0.1,\n",
       "                                gpu_id=-1, importance_type='gain',\n",
       "                                interaction_constraints='', learning_rate=0.1,\n",
       "                                max_delta_step=0, max_depth=2,\n",
       "                                min_child_weight=1, missing=nan,\n",
       "                                monotone_constraints='()', n_estimators=50,\n",
       "                                n_jobs=8, num_parallel_tree=1, random_state=42,\n",
       "                                reg_alpha=0, reg_lambda=1, scale_pos_weight=1,\n",
       "                                subsample=1, tree_method='exact',\n",
       "                                validate_parameters=1, verbosity=None))]),\n",
       " {'xgb__eval_metric': 'auc',\n",
       "  'xgb__gamma': 0.1,\n",
       "  'xgb__learning_rate': 0.1,\n",
       "  'xgb__max_depth': 2,\n",
       "  'xgb__n_estimators': 50})"
      ]
     },
     "execution_count": 18,
     "metadata": {},
     "output_type": "execute_result"
    }
   ],
   "source": [
    "model_eval(pipeline=pipes_dict['pipe_xgb'], params=pipe_params['pipe_xgb_params'])"
   ]
  },
  {
   "cell_type": "markdown",
   "id": "d8f9c712",
   "metadata": {},
   "source": [
    "## Evaluation\n",
    "\n",
    "Based on the grid searching on models above, we will summarize the results here and select the best performing model to predict the final test dataset."
   ]
  },
  {
   "cell_type": "code",
   "execution_count": 20,
   "id": "d3fed317",
   "metadata": {},
   "outputs": [],
   "source": [
    "# results dataframe\n",
    "model_performance = pd.DataFrame(model_results).sort_values(by='Val ROC-AUC', ascending = False)"
   ]
  },
  {
   "cell_type": "code",
   "execution_count": 21,
   "id": "e154a7d3",
   "metadata": {},
   "outputs": [
    {
     "data": {
      "text/html": [
       "<div>\n",
       "<style scoped>\n",
       "    .dataframe tbody tr th:only-of-type {\n",
       "        vertical-align: middle;\n",
       "    }\n",
       "\n",
       "    .dataframe tbody tr th {\n",
       "        vertical-align: top;\n",
       "    }\n",
       "\n",
       "    .dataframe thead th {\n",
       "        text-align: right;\n",
       "    }\n",
       "</style>\n",
       "<table border=\"1\" class=\"dataframe\">\n",
       "  <thead>\n",
       "    <tr style=\"text-align: right;\">\n",
       "      <th></th>\n",
       "      <th>Classifier</th>\n",
       "      <th>Accuracy SCORE</th>\n",
       "      <th>Train ROC-AUC</th>\n",
       "      <th>Val ROC-AUC</th>\n",
       "      <th>Recall</th>\n",
       "      <th>Precision</th>\n",
       "      <th>F1-Score</th>\n",
       "    </tr>\n",
       "  </thead>\n",
       "  <tbody>\n",
       "    <tr>\n",
       "      <th>0</th>\n",
       "      <td>xgb</td>\n",
       "      <td>0.874654</td>\n",
       "      <td>0.892900</td>\n",
       "      <td>0.738421</td>\n",
       "      <td>0.224215</td>\n",
       "      <td>0.257732</td>\n",
       "      <td>0.239808</td>\n",
       "    </tr>\n",
       "    <tr>\n",
       "      <th>1</th>\n",
       "      <td>bc</td>\n",
       "      <td>0.499011</td>\n",
       "      <td>0.916174</td>\n",
       "      <td>0.723137</td>\n",
       "      <td>0.838565</td>\n",
       "      <td>0.131876</td>\n",
       "      <td>0.227910</td>\n",
       "    </tr>\n",
       "    <tr>\n",
       "      <th>2</th>\n",
       "      <td>rf</td>\n",
       "      <td>0.875840</td>\n",
       "      <td>0.852955</td>\n",
       "      <td>0.718500</td>\n",
       "      <td>0.107623</td>\n",
       "      <td>0.172662</td>\n",
       "      <td>0.132597</td>\n",
       "    </tr>\n",
       "    <tr>\n",
       "      <th>3</th>\n",
       "      <td>ab</td>\n",
       "      <td>0.742981</td>\n",
       "      <td>0.858930</td>\n",
       "      <td>0.713513</td>\n",
       "      <td>0.515695</td>\n",
       "      <td>0.175038</td>\n",
       "      <td>0.261364</td>\n",
       "    </tr>\n",
       "    <tr>\n",
       "      <th>4</th>\n",
       "      <td>et</td>\n",
       "      <td>0.882958</td>\n",
       "      <td>0.854874</td>\n",
       "      <td>0.698822</td>\n",
       "      <td>0.076233</td>\n",
       "      <td>0.158879</td>\n",
       "      <td>0.103030</td>\n",
       "    </tr>\n",
       "    <tr>\n",
       "      <th>5</th>\n",
       "      <td>lr</td>\n",
       "      <td>0.893634</td>\n",
       "      <td>0.868410</td>\n",
       "      <td>0.670695</td>\n",
       "      <td>0.031390</td>\n",
       "      <td>0.116667</td>\n",
       "      <td>0.049470</td>\n",
       "    </tr>\n",
       "    <tr>\n",
       "      <th>6</th>\n",
       "      <td>dt</td>\n",
       "      <td>0.785686</td>\n",
       "      <td>0.790377</td>\n",
       "      <td>0.661031</td>\n",
       "      <td>0.300448</td>\n",
       "      <td>0.147903</td>\n",
       "      <td>0.198225</td>\n",
       "    </tr>\n",
       "  </tbody>\n",
       "</table>\n",
       "</div>"
      ],
      "text/plain": [
       "  Classifier  Accuracy SCORE  Train ROC-AUC  Val ROC-AUC    Recall  Precision  \\\n",
       "0        xgb        0.874654       0.892900     0.738421  0.224215   0.257732   \n",
       "1         bc        0.499011       0.916174     0.723137  0.838565   0.131876   \n",
       "2         rf        0.875840       0.852955     0.718500  0.107623   0.172662   \n",
       "3         ab        0.742981       0.858930     0.713513  0.515695   0.175038   \n",
       "4         et        0.882958       0.854874     0.698822  0.076233   0.158879   \n",
       "5         lr        0.893634       0.868410     0.670695  0.031390   0.116667   \n",
       "6         dt        0.785686       0.790377     0.661031  0.300448   0.147903   \n",
       "\n",
       "   F1-Score  \n",
       "0  0.239808  \n",
       "1  0.227910  \n",
       "2  0.132597  \n",
       "3  0.261364  \n",
       "4  0.103030  \n",
       "5  0.049470  \n",
       "6  0.198225  "
      ]
     },
     "execution_count": 21,
     "metadata": {},
     "output_type": "execute_result"
    }
   ],
   "source": [
    "model_performance.reset_index(drop=True)"
   ]
  },
  {
   "cell_type": "markdown",
   "id": "9f29b6e4",
   "metadata": {},
   "source": [
    "The _Logistic Regression_ model performed well, based on the accuracy score of 0.893 on training dataset. Although, this shows a bit of overfitting on train data, we can tune it to get better results. However, as mentioned in the intro, accuracy is not the best metric for these, and so we look at the ROC-AUC.\n",
    "\n",
    "The above dataframe is sorted by `Val ROC-AUC`, and it shows that the _XGBoost Classifier_ model performed the best on the validation dataset. The ROC-AUC curve is a balance between recall and precision. For us, we want to predict as many observations with virus correctly but also want to minimize misclassifying the actual observations with virus, so recall is the metric we can look at. This helps us reduce the false negatives, however, for now we can choose the __XGBoost Classifier__ as our best model."
   ]
  },
  {
   "cell_type": "code",
   "execution_count": 22,
   "id": "4933ee89",
   "metadata": {},
   "outputs": [
    {
     "data": {
      "text/plain": [
       "GridSearchCV(estimator=Pipeline(steps=[('smote', SMOTE(random_state=42)),\n",
       "                                       ('sc', StandardScaler()),\n",
       "                                       ('xgb',\n",
       "                                        XGBClassifier(base_score=None,\n",
       "                                                      booster=None,\n",
       "                                                      colsample_bylevel=None,\n",
       "                                                      colsample_bynode=None,\n",
       "                                                      colsample_bytree=None,\n",
       "                                                      gamma=None, gpu_id=None,\n",
       "                                                      importance_type='gain',\n",
       "                                                      interaction_constraints=None,\n",
       "                                                      learning_rate=None,\n",
       "                                                      max_delta_step=None,\n",
       "                                                      max_depth=None,\n",
       "                                                      min_chil...\n",
       "                                                      num_parallel_tree=None,\n",
       "                                                      random_state=42,\n",
       "                                                      reg_alpha=None,\n",
       "                                                      reg_lambda=None,\n",
       "                                                      scale_pos_weight=None,\n",
       "                                                      subsample=None,\n",
       "                                                      tree_method=None,\n",
       "                                                      validate_parameters=None,\n",
       "                                                      verbosity=None))]),\n",
       "             n_jobs=-1,\n",
       "             param_grid={'xgb__eval_metric': ['auc'],\n",
       "                         'xgb__gamma': [0.1, 0.5, 1],\n",
       "                         'xgb__learning_rate': [0.1, 0.2, 0.5],\n",
       "                         'xgb__max_depth': [2, 3, 5],\n",
       "                         'xgb__n_estimators': [50, 100]},\n",
       "             scoring='roc_auc', verbose=1)"
      ]
     },
     "execution_count": 22,
     "metadata": {},
     "output_type": "execute_result"
    }
   ],
   "source": [
    "# best model\n",
    "best_model = gs_dict[f'gs_{model_performance.iloc[0,0]}']\n",
    "best_model"
   ]
  },
  {
   "cell_type": "markdown",
   "id": "532273a4",
   "metadata": {},
   "source": [
    "The best model as we can see above is the _XGBoost Classifier_ with SMOTE oversampled trained data and learning rate of **0.1** and number of estimators **50**. Let's further evaluate this model to see its properties."
   ]
  },
  {
   "cell_type": "code",
   "execution_count": 23,
   "id": "a7e70e4c",
   "metadata": {},
   "outputs": [],
   "source": [
    "# write a function to plot the confusion matrix and ROC curve\n",
    "def plot_cm_roc(model, X, y):\n",
    "    roc_train = roc_auc_score(y_true=y_train, y_score=model.predict_proba(X_train)[:,1])\n",
    "    roc_test = roc_auc_score(y_true=y, y_score=model.predict_proba(X)[:,1])\n",
    "    \n",
    "    fig, ax = plt.subplots(nrows=1, ncols=2, figsize=(16,7))\n",
    "    ax[0].set_title(\"Confusion Matrix for test data\")\n",
    "    ax[1].set_title(\"ROC AUC curve\")\n",
    "    plot_confusion_matrix(estimator=model,\n",
    "                          X=X,\n",
    "                          y_true=y,\n",
    "                          cmap='Blues',\n",
    "                          values_format='d',\n",
    "                          colorbar=False,\n",
    "                          ax=ax[0])\n",
    "    plot_roc_curve(estimator=model, X=X_train, y=y_train, ax=ax[1])\n",
    "    plot_roc_curve(estimator=model, X=X, y=y, ax=ax[1])\n",
    "    ax[1].plot(np.linspace(0, 1, 100), np.linspace(0, 1, 100), '--')\n",
    "    ax[1].legend([f'train (AUC = {round(roc_train, 2)})',\n",
    "                  f'valid  (AUC = {round(roc_test, 2)})',\n",
    "                  'baseline (AUC = 0.5)']);"
   ]
  },
  {
   "cell_type": "code",
   "execution_count": 24,
   "id": "41ba4405",
   "metadata": {},
   "outputs": [
    {
     "data": {
      "image/png": "[encoded data removed]",
      "text/plain": [
       "<Figure size 1152x504 with 2 Axes>"
      ]
     },
     "metadata": {
      "needs_background": "light"
     },
     "output_type": "display_data"
    }
   ],
   "source": [
    "# plot the confusion matrix and ROC-AUC curve\n",
    "plot_cm_roc(best_model, X_val, y_val)"
   ]
  },
  {
   "cell_type": "code",
   "execution_count": 25,
   "id": "b4371763",
   "metadata": {},
   "outputs": [
    {
     "data": {
      "text/plain": [
       "0    2306\n",
       "1     223\n",
       "Name: wnv_present, dtype: int64"
      ]
     },
     "execution_count": 25,
     "metadata": {},
     "output_type": "execute_result"
    }
   ],
   "source": [
    "# target distribution for validation data\n",
    "y_val.value_counts()"
   ]
  },
  {
   "cell_type": "code",
   "execution_count": 26,
   "id": "086e2d44",
   "metadata": {},
   "outputs": [
    {
     "data": {
      "text/plain": [
       "0.2242152466367713"
      ]
     },
     "execution_count": 26,
     "metadata": {},
     "output_type": "execute_result"
    }
   ],
   "source": [
    "# recall\n",
    "recall_score(y_val, best_model.predict(X_val))"
   ]
  },
  {
   "cell_type": "markdown",
   "id": "bc87c4c2",
   "metadata": {},
   "source": [
    "The above two plots summarizes the best model performance really well. On the left is the confusion matrix, laying out the true negatives, false negatives, false positives, and true positives. Given the imbalance in the target variable for the validation data is almost 10:1, our model still predicted more than 50% of the positive class correctly. However, the false negatives are also quite high, 173 were misclassified as being negative class, i.e. the virus was predicted not to be found when it is. The reason for this is because of the oversampling of the minority class, which overtrains our model on the minority class.\n",
    "\n",
    "On the right is the ROC-AUC score, which shows how well our model separates the two classes with 0.5 being the baseline. As we can see the training score is 0.89, which is quite high compared to the validation score of 0.74. The tuning of hyper-parameters in the grid search can help us reduce this gap further. Selecting adequate features and using feature interactions could also assist in improving the score. On that note, let's look at some of the features importances of the models.\n",
    "\n",
    "### Feature importances"
   ]
  },
  {
   "cell_type": "markdown",
   "id": "e0c3a944",
   "metadata": {},
   "source": [
    "Let us compare the feature importances of our best model against other top scoring models."
   ]
  },
  {
   "cell_type": "code",
   "execution_count": 27,
   "id": "4f9d892d",
   "metadata": {},
   "outputs": [
    {
     "data": {
      "image/png": "[encoded data removed]",
      "text/plain": [
       "<Figure size 864x576 with 1 Axes>"
      ]
     },
     "metadata": {
      "needs_background": "light"
     },
     "output_type": "display_data"
    }
   ],
   "source": [
    "# Feature importances xgboost\n",
    "importance = pd.DataFrame(best_model.best_estimator_.named_steps['xgb'].feature_importances_,\n",
    "                          index=X_train.columns).sort_values(by=0, ascending=False)\n",
    "importance = importance[importance > 0].dropna().rename(columns={0: 'magnitude'})\n",
    "\n",
    "# plot the importance values > 0\n",
    "plt.figure(figsize=(12, 8))\n",
    "plt.title(\"Top features of XGBoost\", fontdict={'fontsize': 14})\n",
    "sns.barplot(data=importance, x='magnitude', y=importance.index, color='yellow');"
   ]
  },
  {
   "cell_type": "code",
   "execution_count": 28,
   "id": "937f242f",
   "metadata": {},
   "outputs": [
    {
     "data": {
      "image/png": "[encoded data removed]",
      "text/plain": [
       "<Figure size 864x288 with 1 Axes>"
      ]
     },
     "metadata": {
      "needs_background": "light"
     },
     "output_type": "display_data"
    }
   ],
   "source": [
    "# Feature importances adaboost\n",
    "importance = pd.DataFrame(gs_dict['gs_ab'].best_estimator_.named_steps['ab'].feature_importances_,\n",
    "                          index=X_train.columns).sort_values(by=0, ascending=False)\n",
    "importance = importance[importance > 0].dropna().rename(columns={0: 'magnitude'})\n",
    "\n",
    "# plot the importance values > 0\n",
    "plt.figure(figsize=(12, 4))\n",
    "plt.title(\"Top features of AdaBoost\", fontdict={'fontsize': 14})\n",
    "sns.barplot(data=importance, x='magnitude', y=importance.index, color='lightgreen');"
   ]
  },
  {
   "cell_type": "code",
   "execution_count": 29,
   "id": "bbc28e41",
   "metadata": {},
   "outputs": [
    {
     "data": {
      "image/png": "[encoded data removed]",
      "text/plain": [
       "<Figure size 864x360 with 1 Axes>"
      ]
     },
     "metadata": {
      "needs_background": "light"
     },
     "output_type": "display_data"
    }
   ],
   "source": [
    "# Feature importances random forest\n",
    "importance = pd.DataFrame(gs_dict['gs_rf'].best_estimator_.named_steps['rf'].feature_importances_,\n",
    "                          index=X_train.columns).sort_values(by=0, ascending=False)\n",
    "importance = importance[importance > 0.02].dropna().rename(columns={0: 'magnitude'})\n",
    "\n",
    "# plot the importance values > 0\n",
    "plt.figure(figsize=(12, 5))\n",
    "plt.title(\"Top features of Random Forest\", fontdict={'fontsize': 14})\n",
    "sns.barplot(data=importance, x='magnitude', y=importance.index, color='lightblue');"
   ]
  },
  {
   "cell_type": "code",
   "execution_count": 30,
   "id": "a8b95ecc",
   "metadata": {},
   "outputs": [
    {
     "data": {
      "image/png": "[encoded data removed]",
      "text/plain": [
       "<Figure size 864x576 with 1 Axes>"
      ]
     },
     "metadata": {
      "needs_background": "light"
     },
     "output_type": "display_data"
    }
   ],
   "source": [
    "# Feature importances extra trees\n",
    "importance = pd.DataFrame(gs_dict['gs_et'].best_estimator_.named_steps['et'].feature_importances_,\n",
    "                          index=X_train.columns).sort_values(by=0, ascending=False)\n",
    "importance = importance[importance > 0.02].dropna().rename(columns={0: 'magnitude'})\n",
    "\n",
    "# plot the importance values > 0\n",
    "plt.figure(figsize=(12, 8))\n",
    "plt.title(\"Top feature importance of Extra Trees\", fontdict={'fontsize': 14})\n",
    "sns.barplot(data=importance, x='magnitude', y=importance.index, color='pink');"
   ]
  },
  {
   "cell_type": "markdown",
   "id": "5e2d1b2b",
   "metadata": {},
   "source": [
    "As can be see, some features were among the best predictive features for different models, and in general, can be considered to be crucial for the whole model building process. Some of these are _tavg_28, r_humid_10, r_humid_14, daylight, week, month and species_ohe_. Most of these are cyclical features and makes sense have a high impact on the predictive power of the models."
   ]
  },
  {
   "cell_type": "markdown",
   "id": "491e183d",
   "metadata": {},
   "source": [
    "### Kaggle"
   ]
  },
  {
   "cell_type": "code",
   "execution_count": 31,
   "id": "04623086",
   "metadata": {},
   "outputs": [
    {
     "data": {
      "text/plain": [
       "GridSearchCV(estimator=Pipeline(steps=[('smote', SMOTE(random_state=42)),\n",
       "                                       ('sc', StandardScaler()),\n",
       "                                       ('xgb',\n",
       "                                        XGBClassifier(base_score=None,\n",
       "                                                      booster=None,\n",
       "                                                      colsample_bylevel=None,\n",
       "                                                      colsample_bynode=None,\n",
       "                                                      colsample_bytree=None,\n",
       "                                                      gamma=None, gpu_id=None,\n",
       "                                                      importance_type='gain',\n",
       "                                                      interaction_constraints=None,\n",
       "                                                      learning_rate=None,\n",
       "                                                      max_delta_step=None,\n",
       "                                                      max_depth=None,\n",
       "                                                      min_chil...\n",
       "                                                      num_parallel_tree=None,\n",
       "                                                      random_state=42,\n",
       "                                                      reg_alpha=None,\n",
       "                                                      reg_lambda=None,\n",
       "                                                      scale_pos_weight=None,\n",
       "                                                      subsample=None,\n",
       "                                                      tree_method=None,\n",
       "                                                      validate_parameters=None,\n",
       "                                                      verbosity=None))]),\n",
       "             n_jobs=-1,\n",
       "             param_grid={'xgb__eval_metric': ['auc'],\n",
       "                         'xgb__gamma': [0.1, 0.5, 1],\n",
       "                         'xgb__learning_rate': [0.1, 0.2, 0.5],\n",
       "                         'xgb__max_depth': [2, 3, 5],\n",
       "                         'xgb__n_estimators': [50, 100]},\n",
       "             scoring='roc_auc', verbose=1)"
      ]
     },
     "execution_count": 31,
     "metadata": {},
     "output_type": "execute_result"
    }
   ],
   "source": [
    "best_model"
   ]
  },
  {
   "cell_type": "code",
   "execution_count": 32,
   "id": "d0f217d6",
   "metadata": {},
   "outputs": [
    {
     "name": "stderr",
     "output_type": "stream",
     "text": [
      "/opt/anaconda3/lib/python3.8/site-packages/xgboost/sklearn.py:888: UserWarning: The use of label encoder in XGBClassifier is deprecated and will be removed in a future release. To remove this warning, do the following: 1) Pass option use_label_encoder=False when constructing XGBClassifier object; and 2) Encode your labels (y) as integers starting with 0, i.e. 0, 1, 2, ..., [num_class - 1].\n",
      "  warnings.warn(label_encoder_deprecation_msg, UserWarning)\n"
     ]
    },
    {
     "data": {
      "text/plain": [
       "Pipeline(steps=[('smote', SMOTE(random_state=42)), ('sc', StandardScaler()),\n",
       "                ('xgb',\n",
       "                 XGBClassifier(base_score=0.5, booster='gbtree',\n",
       "                               colsample_bylevel=1, colsample_bynode=1,\n",
       "                               colsample_bytree=1, eval_metric='auc', gamma=0.1,\n",
       "                               gpu_id=-1, importance_type='gain',\n",
       "                               interaction_constraints='', learning_rate=0.1,\n",
       "                               max_delta_step=0, max_depth=2,\n",
       "                               min_child_weight=1, missing=nan,\n",
       "                               monotone_constraints='()', n_estimators=50,\n",
       "                               n_jobs=8, num_parallel_tree=1, random_state=42,\n",
       "                               reg_alpha=0, reg_lambda=1, scale_pos_weight=1,\n",
       "                               subsample=1, tree_method='exact',\n",
       "                               validate_parameters=1, verbosity=None))])"
      ]
     },
     "execution_count": 32,
     "metadata": {},
     "output_type": "execute_result"
    }
   ],
   "source": [
    "#fit the best model with entire training data to make predictions for the test\n",
    "best_model.best_estimator_.fit(X, y)"
   ]
  },
  {
   "cell_type": "code",
   "execution_count": 33,
   "id": "242bb947",
   "metadata": {},
   "outputs": [
    {
     "name": "stdout",
     "output_type": "stream",
     "text": [
      "File name: ../datasets/kaggle_sub_1.csv\n"
     ]
    }
   ],
   "source": [
    "#save the kaggle submission file\n",
    "get_kaggle_format(best_model.predict_proba(X_test)[:, 1])"
   ]
  },
  {
   "cell_type": "markdown",
   "id": "c66da486",
   "metadata": {},
   "source": [
    "Kaggle Score: 0.69523"
   ]
  },
  {
   "cell_type": "markdown",
   "id": "f55ffbf1",
   "metadata": {},
   "source": [
    "## Cost Benefit Analysis\n",
    "\n",
    "In 2018, 49 out of 50 states and the District of Columbia reported West Nile virus infections in people, birds, or mosquitoes. Overall, 2,647 cases of WNV were reported in humans, and there were 167 (6.3%) confirmed deaths in 2018. \n",
    "This shows an increase from the number of human cases reported in 2017 (2,097). It also brings attention to the increase in lives lost, when compared to the 146 (7%) confirmed deaths in 2017 and the 106 (4.9%) confirmed deaths from WNV in 2016. As of July 23rd, 34 states have reported West Nile virus infections in people, birds, or mosquitoes in 2019.\n",
    "\n",
    "### Cost of Spraying\n",
    "\n",
    "Data from a [publication](https://www.uaex.edu/publications/Mosquito%20Control%20by%20Commercial%20and%20Government%20Agencies.pdf) on Mosquito Control efforts show that the minimum amount of pesticide required to spray per acre for different types of pesticides. The Chicago Department of Public Health utilises the [Zenivex pesticide](https://www.chicago.gov/city/en/depts/cdph/provdrs/healthy_communities/news/2020/august/city-to-spray-insecticide-thursday-to-kill-mosquitoes0.html). Let us look at the cost of spraying a WNV prone area in the city of Chicago as well as spraying the entire city of Chicago.\n",
    "\n",
    "Based on that:\n",
    "\n",
    "Gross Pesticide amount per Acre: 0.87 oz \n",
    "\n",
    "Cost: USD 382.78 per gallon\n",
    "\n",
    "Cost to spray Brighton Park one time: USD 4530\n",
    "\n",
    "Cost to spray Chicago one time: USD 334687\n",
    "\n",
    "If we were to spray the entire city every 14 days from June to August during the breeding season, it will cost roughly USD 2.08 million.\n",
    "\n",
    "Cost to spray Chicago every 14 days for 3 months: USD 2.08 million.\n",
    "\n",
    "### Cost of Treatment\n",
    "\n",
    "J Erin Staples et. al. researched on the intial and long term costs of patients hospitalised with the WNV and found the median inital costs to be USD25,117 and long term costs (for 5 years) to be $22,628. The average median salary of an individual in Chicago is about USD 58,247. Cost of treatments for the virus make up about 43 percent of an individual's income.\n",
    "\n",
    "The overall cost incurred for spraying for 3 months is really expensive. Additionally, medical costs incurred on an individual and the recurring costs thereafter do take a toll on an individual's expenses.\n",
    "\n",
    "Earlier on in Part 1, we have already established that spraying showed minimum reduction in the number of mosquitos with presence of WNV, in fact in some years it had even increased. The benefits do not outweigh the costs, hence spraying is not effective."
   ]
  },
  {
   "cell_type": "markdown",
   "id": "e27fd758",
   "metadata": {},
   "source": [
    "## Conclusion and Recommendations\n",
    "\n",
    "In summary, we were tasked to create a best model that can predict the WNV. From our data cleaning, EDA and feature engineering processes, we established the best features that can help us to best predict WNV. We also explored some feature interactions and feature rolling values from the past, based on research.\n",
    "\n",
    "The best model is the XGBoost Classifier that churned out the highest validation ROC AUC scores and a score of 0.695 on kaggle on the test dataset. Although it has a low recall, it was a better model over the Bagging Classifier model as it allows us to look at the important features that best predict the WNV and aid us in our cost benefit analysis and providing recommendations to reduce the impact of the virus.\n",
    "\n",
    "Spraying could not be definitively proven to be useful or not from the EDA, based on the data alone as not enough information is available for it. But, as our CBA suggests that the investments in spraying could be better used in other places, so we can recommend that the city department look at the other means like, campaigning and spreading awareness among its people. Since past weather is a major factor, other ways can be looked at to prevent the rise of mosquito population and thus the spread of the WNV."
   ]
  }
 ],
 "metadata": {
  "kernelspec": {
   "display_name": "Python 3",
   "language": "python",
   "name": "python3"
  },
  "language_info": {
   "codemirror_mode": {
    "name": "ipython",
    "version": 3
   },
   "file_extension": ".py",
   "mimetype": "text/x-python",
   "name": "python",
   "nbconvert_exporter": "python",
   "pygments_lexer": "ipython3",
   "version": "3.6.9"
  },
  "toc": {
   "base_numbering": 1,
   "nav_menu": {},
   "number_sections": true,
   "sideBar": true,
   "skip_h1_title": true,
   "title_cell": "Table of Contents",
   "title_sidebar": "Contents",
   "toc_cell": false,
   "toc_position": {},
   "toc_section_display": true,
   "toc_window_display": true
  }
 },
 "nbformat": 4,
 "nbformat_minor": 5
}
